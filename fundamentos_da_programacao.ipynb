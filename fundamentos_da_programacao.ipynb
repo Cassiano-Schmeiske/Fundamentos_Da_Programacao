{
 "cells": [
  {
   "cell_type": "markdown",
   "id": "1bc7c67f",
   "metadata": {},
   "source": [
    "# Sumário\n",
    "   ######  Mundo 1 \n",
    "   - Exercícios  01 ao 15   - Tratando dados e fazendo contas\n",
    "   - Exercícios  16 ao 27   - Usando módulos do Python\n",
    "   - Exercícios  28 ao 35   - Condições em Python (if..else)\n",
    "   \n",
    "######  Mundo 2\n",
    "   - Exercícios  36 ao 45   - Condições em Python (if..elif)\n",
    "   - Exercícios  46 ao 56   - Repetições em Python (for)\n",
    "   - Exercícios  57 ao 71   - Repetições em Python (while)\n",
    "   \n",
    "######  Mundo 3\n",
    "   - Exercícios  72 ao  77  - Tuplas\n",
    "   - Exercícios  78 ao  89  - Listas\n",
    "   - Exercícios  90 ao  95  - Dicionários\n",
    "   - Exercícios  96 ao 106  - Funções \n",
    "   - Exercícios 107 ao 112  - Modularização\n",
    "   - Exercícios 113 ao 115  - Tratamento de Erros \n",
    "    "
   ]
  },
  {
   "cell_type": "markdown",
   "id": "4bd6a0f8",
   "metadata": {},
   "source": [
    "# Mundo 1"
   ]
  },
  {
   "cell_type": "markdown",
   "id": "f1626cc4",
   "metadata": {},
   "source": [
    "## Tratando dados e fazendo contas"
   ]
  },
  {
   "cell_type": "markdown",
   "id": "d40c8669",
   "metadata": {},
   "source": [
    "### Exercício 1"
   ]
  },
  {
   "cell_type": "code",
   "execution_count": 1,
   "id": "513aaa84",
   "metadata": {
    "ExecuteTime": {
     "end_time": "2022-01-25T23:53:59.565651Z",
     "start_time": "2022-01-25T23:53:59.554655Z"
    }
   },
   "outputs": [
    {
     "name": "stdout",
     "output_type": "stream",
     "text": [
      "Olá mundo!\n"
     ]
    }
   ],
   "source": [
    "print( 'Olá mundo!')\n"
   ]
  },
  {
   "cell_type": "markdown",
   "id": "e8f6f3f8",
   "metadata": {},
   "source": [
    "### Exercício 2\n",
    "   * Faça um programa que leia o nome de uma pessoa e mostre uma mensagem de boas-vindas."
   ]
  },
  {
   "cell_type": "code",
   "execution_count": 2,
   "id": "cda42b2f",
   "metadata": {
    "ExecuteTime": {
     "end_time": "2022-01-25T23:54:07.602484Z",
     "start_time": "2022-01-25T23:54:02.785679Z"
    }
   },
   "outputs": [
    {
     "name": "stdout",
     "output_type": "stream",
     "text": [
      "Digite seu nomeCassiano\n",
      "Olá Cassiano! É um praze em te conhecer.\n"
     ]
    }
   ],
   "source": [
    "nome = str( input( 'Digite seu nome' ))\n",
    "print( 'Olá {}! É um praze em te conhecer.'.format(nome))\n"
   ]
  },
  {
   "cell_type": "markdown",
   "id": "d14835c8",
   "metadata": {
    "ExecuteTime": {
     "end_time": "2021-12-09T20:57:49.075669Z",
     "start_time": "2021-12-09T20:57:49.057693Z"
    }
   },
   "source": [
    "### Exercício 3\n",
    "   * Crie um programa que leia dois números e mostre a soma entre eles."
   ]
  },
  {
   "cell_type": "code",
   "execution_count": 8,
   "id": "f857e01b",
   "metadata": {
    "ExecuteTime": {
     "end_time": "2021-12-09T21:01:18.385891Z",
     "start_time": "2021-12-09T21:01:14.897420Z"
    }
   },
   "outputs": [
    {
     "name": "stdout",
     "output_type": "stream",
     "text": [
      "Digite primeiro numero: 15\n",
      "Digite segundo numero: 35\n",
      "A soma entre 15 e 35 é igual a 50!\n"
     ]
    }
   ],
   "source": [
    "n1 = int( input( 'Digite primeiro numero: '))\n",
    "n2 = int( input( 'Digite segundo numero: '))\n",
    "print( 'A soma entre {} e {} é igual a {}!'.format( n1, n2, n1+n2))\n"
   ]
  },
  {
   "cell_type": "markdown",
   "id": "4d25860c",
   "metadata": {},
   "source": [
    "### Exercício 4\n",
    "   * Faça um programa que leia algo pelo teclado e mostre na tela o seu tipo primitivo e todas as informações possíveis sobre ele."
   ]
  },
  {
   "cell_type": "code",
   "execution_count": 3,
   "id": "e469b36b",
   "metadata": {
    "ExecuteTime": {
     "end_time": "2022-01-25T23:54:17.448645Z",
     "start_time": "2022-01-25T23:54:15.009076Z"
    }
   },
   "outputs": [
    {
     "name": "stdout",
     "output_type": "stream",
     "text": [
      "Digite algo: 654hfdg\n",
      "O tipo primitivo desse valor é  <class 'str'>\n",
      "Só tem espaço?  False\n",
      "É um número?  False\n",
      "É alfabético  False\n",
      "É alfanumérico?  True\n",
      "Está em maiúsculas?  False\n",
      "Está em minúsculas?  True\n",
      "Está capitalizada?  False\n"
     ]
    }
   ],
   "source": [
    "a = input( 'Digite algo: ' )\n",
    "print( 'O tipo primitivo desse valor é ',type(a))\n",
    "print( 'Só tem espaço? ',a.isspace())\n",
    "print( 'É um número? ',a.isnumeric())\n",
    "print( 'É alfabético ',a.isalpha())\n",
    "print( 'É alfanumérico? ',a.isalnum())\n",
    "print( 'Está em maiúsculas? ',a.isupper())\n",
    "print( 'Está em minúsculas? ',a.islower())\n",
    "print( 'Está capitalizada? ',a.istitle())\n"
   ]
  },
  {
   "cell_type": "markdown",
   "id": "9176149e",
   "metadata": {},
   "source": [
    "### Exercício 5\n",
    "   * Faça um programa que leia um número Inteiro e mostre na tela o seu sucessor e seu antecessor."
   ]
  },
  {
   "cell_type": "code",
   "execution_count": 13,
   "id": "b1657cc2",
   "metadata": {
    "ExecuteTime": {
     "end_time": "2021-12-09T21:20:30.496589Z",
     "start_time": "2021-12-09T21:20:23.257202Z"
    }
   },
   "outputs": [
    {
     "name": "stdout",
     "output_type": "stream",
     "text": [
      "Digite um número inteiro: 2\n",
      "O antecessor de 2 é 1 e seu sucesso é 3\n"
     ]
    }
   ],
   "source": [
    "num = int( nput( 'Digite um número inteiro: '))\n",
    "print( 'O antecessor de {} é {} e seu sucesso é {}'.format(num, num - 1,num + 1))\n"
   ]
  },
  {
   "cell_type": "markdown",
   "id": "cf46000c",
   "metadata": {
    "ExecuteTime": {
     "end_time": "2021-12-09T21:22:27.036663Z",
     "start_time": "2021-12-09T21:22:27.025692Z"
    }
   },
   "source": [
    "### Exercício 6\n",
    "   * Crie um algoritmo que leia um número e mostre o seu dobro, triplo e raiz quadrada."
   ]
  },
  {
   "cell_type": "code",
   "execution_count": 20,
   "id": "e12a905c",
   "metadata": {
    "ExecuteTime": {
     "end_time": "2021-12-09T21:30:09.317911Z",
     "start_time": "2021-12-09T21:30:07.035366Z"
    }
   },
   "outputs": [
    {
     "name": "stdout",
     "output_type": "stream",
     "text": [
      "Digite um numero: 128\n",
      "O dobro de 128 é 256.\n",
      "O triplo de 128 é 384.\n",
      "A raiz quadrada de 128 é 11.31.\n"
     ]
    }
   ],
   "source": [
    "num = int( input( 'Digite um numero: '))\n",
    "print( 'O dobro de {} é {}.'.format(num, num * 2))\n",
    "print( 'O triplo de {} é {}.'.format(num, num * 3))\n",
    "print( 'A raiz quadrada de {} é {:.2f}.'.format(num, num ** (1/2)))\n"
   ]
  },
  {
   "cell_type": "markdown",
   "id": "70c44cef",
   "metadata": {},
   "source": [
    "### Exercício 7\n",
    "   * Desenvolva um programa que leia as duas notas de um aluno, calcule e mostre a sua média."
   ]
  },
  {
   "cell_type": "code",
   "execution_count": 26,
   "id": "ddf3ebb7",
   "metadata": {
    "ExecuteTime": {
     "end_time": "2021-12-09T21:37:05.188119Z",
     "start_time": "2021-12-09T21:37:03.308832Z"
    }
   },
   "outputs": [
    {
     "name": "stdout",
     "output_type": "stream",
     "text": [
      "Primeira nota: 8\n",
      "Segunda nota: 4\n",
      "A média entre 8.0 e 4.0 é igual a 6.0\n"
     ]
    }
   ],
   "source": [
    "n1 = float( input( 'Primeira nota: ' ))\n",
    "n2 = float( input( 'Segunda nota: ' ))\n",
    "print( 'A média entre {} e {} é igual a {}'.format(n1, n2, (n1 + n2) / 2))\n"
   ]
  },
  {
   "cell_type": "markdown",
   "id": "0da1f3d5",
   "metadata": {},
   "source": [
    "### Exercício 8\n",
    "   * Escreva um programa que leia um valor em metros e o exiba convertido em centímetros e milímetros."
   ]
  },
  {
   "cell_type": "code",
   "execution_count": 79,
   "id": "200294ec",
   "metadata": {
    "ExecuteTime": {
     "end_time": "2021-12-09T22:37:32.159387Z",
     "start_time": "2021-12-09T22:37:28.695495Z"
    }
   },
   "outputs": [
    {
     "name": "stdout",
     "output_type": "stream",
     "text": [
      "Uma diatância em metros: 50\n",
      "A medida de 50.0m corresponde a 5000cm e 50000mm\n"
     ]
    }
   ],
   "source": [
    "medida = float( input( 'Uma diatância em metros: ' ))\n",
    "cm = medida * 100\n",
    "mm = medida * 1000\n",
    "print( 'A medida de {}m corresponde a {:.0f}cm e {:.0f}mm'.format( medida, cm, mm ))\n"
   ]
  },
  {
   "cell_type": "markdown",
   "id": "6e550924",
   "metadata": {},
   "source": [
    "### Exercício 9\n",
    "   * Faça um programa que leia um número Inteiro qualquer e mostre na tela a sua tabuada."
   ]
  },
  {
   "cell_type": "code",
   "execution_count": 39,
   "id": "35074bec",
   "metadata": {
    "ExecuteTime": {
     "end_time": "2021-12-09T21:52:30.460360Z",
     "start_time": "2021-12-09T21:52:26.437158Z"
    }
   },
   "outputs": [
    {
     "name": "stdout",
     "output_type": "stream",
     "text": [
      "Digite um numero para ver sua tabuada: 7\n",
      "========\n",
      "7x 1=7\n",
      "7x 2=14\n",
      "7x 3=21\n",
      "7x 4=28\n",
      "7x 5=35\n",
      "7x 6=42\n",
      "7x 7=49\n",
      "7x 8=56\n",
      "7x 9=63\n",
      "7x10=70\n",
      "========\n"
     ]
    }
   ],
   "source": [
    "num = int( input( 'Digite um numero para ver sua tabuada: ' ))\n",
    "print('='*8)\n",
    "print( '{}x{:2}={}'.format(num, 1, num * 1))\n",
    "print( '{}x{:2}={}'.format(num, 2, num * 2))\n",
    "print( '{}x{:2}={}'.format(num, 3, num * 3))\n",
    "print( '{}x{:2}={}'.format(num, 4, num * 4))\n",
    "print( '{}x{:2}={}'.format(num, 5, num * 5))\n",
    "print( '{}x{:2}={}'.format(num, 6, num * 6))\n",
    "print( '{}x{:2}={}'.format(num, 7, num * 7))\n",
    "print( '{}x{:2}={}'.format(num, 8, num * 8))\n",
    "print( '{}x{:2}={}'.format(num, 9, num * 9))\n",
    "print( '{}x{:2}={}'.format(num, 10, num * 10))\n",
    "print('='*8)\n"
   ]
  },
  {
   "cell_type": "markdown",
   "id": "fccbf999",
   "metadata": {},
   "source": [
    "### Exercício 10\n",
    "   * Crie um programa que leia quanto dinheiro uma pessoa tem na carteira e mostre quantos dólares ela pode comprar."
   ]
  },
  {
   "cell_type": "code",
   "execution_count": 55,
   "id": "2ae75001",
   "metadata": {
    "ExecuteTime": {
     "end_time": "2021-12-09T22:07:42.255268Z",
     "start_time": "2021-12-09T22:07:37.078570Z"
    }
   },
   "outputs": [
    {
     "name": "stdout",
     "output_type": "stream",
     "text": [
      "Quanto dinheiro você tem na carteira? R$50000\n",
      "Com R$50000.00 você pode comprar $8976.66.\n"
     ]
    }
   ],
   "source": [
    "real = float( input( 'Quanto dinheiro você tem na carteira? R$'))\n",
    "dolar = real / 5.57\n",
    "print( 'Com R${:.2f} você pode comprar ${:.2f}.'.format( real, dolar ))\n"
   ]
  },
  {
   "cell_type": "markdown",
   "id": "3180495a",
   "metadata": {
    "ExecuteTime": {
     "end_time": "2021-12-09T22:05:02.378679Z",
     "start_time": "2021-12-09T22:05:02.371697Z"
    }
   },
   "source": [
    "### Exercício 11\n",
    "   * Faça um programa que leia a largura e a altura de uma parede em metros, calcule a sua área e a quantidade de tinta necessária para pintá-la, sabendo que cada litro de tinta pinta uma área de 2 metros quadrados."
   ]
  },
  {
   "cell_type": "code",
   "execution_count": 58,
   "id": "31c121ce",
   "metadata": {
    "ExecuteTime": {
     "end_time": "2021-12-09T22:16:31.963011Z",
     "start_time": "2021-12-09T22:16:09.805955Z"
    }
   },
   "outputs": [
    {
     "name": "stdout",
     "output_type": "stream",
     "text": [
      "Largura da parede: 5\n",
      "Atura da parede: 5\n",
      "Sua parede tem a dimensão de 5.0x5.0 e sua área é de 25.0m quadrados.\n",
      "Para pintar essa parede, você precisará de 12.5l de tinta.\n"
     ]
    }
   ],
   "source": [
    "larg = float( input( 'Largura da parede: '))\n",
    "alt = float( input( 'Atura da parede: '))\n",
    "area = larg * alt\n",
    "print( 'Sua parede tem a dimensão de {}x{} e sua área é de {}m quadrados.'.format( larg, alt, area ))\n",
    "tinta = area / 2\n",
    "print( 'Para pintar essa parede, você precisará de {}l de tinta.'.format( tinta ))"
   ]
  },
  {
   "cell_type": "markdown",
   "id": "8afeab58",
   "metadata": {},
   "source": [
    "### Exercício 12\n",
    "   * Faça um algoritmo que leia o preço de um produto e mostre seu novo preço, com 5% de desconto."
   ]
  },
  {
   "cell_type": "code",
   "execution_count": 72,
   "id": "03532f56",
   "metadata": {
    "ExecuteTime": {
     "end_time": "2021-12-09T22:26:24.294026Z",
     "start_time": "2021-12-09T22:26:22.240281Z"
    }
   },
   "outputs": [
    {
     "name": "stdout",
     "output_type": "stream",
     "text": [
      "Valor do produto R$100\n",
      "O produto que custa R$100.00 na promoção com 5% de desonto vai custar R$95.00.\n"
     ]
    }
   ],
   "source": [
    "preco = float( input( 'Valor do produto R$' ))\n",
    "print('O produto que custa R${:.2f} na promoção com 5% de desonto vai custar R${:.2f}.'.format(preco, preco - (preco * 0.05)))\n"
   ]
  },
  {
   "cell_type": "markdown",
   "id": "0459ba1a",
   "metadata": {},
   "source": [
    "### Exercício 13\n",
    "   * Faça um algoritmo que leia o salário de um funcionário e mostre seu novo salário, com 15% de aumento."
   ]
  },
  {
   "cell_type": "code",
   "execution_count": 78,
   "id": "972b3f54",
   "metadata": {
    "ExecuteTime": {
     "end_time": "2021-12-09T22:34:01.291276Z",
     "start_time": "2021-12-09T22:33:58.831720Z"
    }
   },
   "outputs": [
    {
     "name": "stdout",
     "output_type": "stream",
     "text": [
      "Qual é o salário do funcionário? R$1000\n",
      "Com salário de R$1000.00 após o reajuste passa a ganhar R$1150.00\n"
     ]
    }
   ],
   "source": [
    "salario = float( input( 'Qual é o salário do funcionário? R$'))\n",
    "print( 'Com salário de R${:.2f} após o reajuste passa a ganhar R${:.2f}'.format( salario, salario + ( salario * 0.15 )))\n"
   ]
  },
  {
   "cell_type": "markdown",
   "id": "de22edd1",
   "metadata": {},
   "source": [
    "### Exercício 14\n",
    "   * Escreva um programa que converta uma temperatura digitando em graus Celsius e converta para graus Fahrenheit."
   ]
  },
  {
   "cell_type": "code",
   "execution_count": 92,
   "id": "75c1b2d8",
   "metadata": {
    "ExecuteTime": {
     "end_time": "2021-12-09T22:48:04.057485Z",
     "start_time": "2021-12-09T22:48:02.767822Z"
    }
   },
   "outputs": [
    {
     "name": "stdout",
     "output_type": "stream",
     "text": [
      "Informe a temperatura em °C: 40\n",
      "A temperatura de 40.0°C corresponde a 104.0°F!\n"
     ]
    }
   ],
   "source": [
    "c = float( input( 'Informe a temperatura em °C: ' ))\n",
    "f = ( c * 9/5 ) + 32\n",
    "print( 'A temperatura de {}°C corresponde a {}°F!'.format( c, f ))\n"
   ]
  },
  {
   "cell_type": "markdown",
   "id": "d3dd1e22",
   "metadata": {},
   "source": [
    "### Exercício 15\n",
    "   * Escreva um programa que pergunte a quantidade de Km percorridos por um carro alugado e a quantidade de dias pelos quais ele foi alugado. Calcule o preço a pagar, sabendo que o carro custa 60,00 por dia e 0,15 por Km rodado."
   ]
  },
  {
   "cell_type": "code",
   "execution_count": 98,
   "id": "65545403",
   "metadata": {
    "ExecuteTime": {
     "end_time": "2021-12-09T22:58:26.346770Z",
     "start_time": "2021-12-09T22:58:23.202100Z"
    }
   },
   "outputs": [
    {
     "name": "stdout",
     "output_type": "stream",
     "text": [
      "Quantos dias alugados? 1\n",
      "Quantos Km rodados? 100\n",
      "O total a pagar é R$75.00\n"
     ]
    }
   ],
   "source": [
    "dia = int( input( 'Quantos dias alugados? '))\n",
    "km = float( input( 'Quantos Km rodados? '))\n",
    "total = (dia * 60) + (km * 0.15)\n",
    "print( 'O total a pagar é R${:.2f}'.format( total ))\n"
   ]
  },
  {
   "cell_type": "markdown",
   "id": "f5719831",
   "metadata": {},
   "source": [
    "## Usando módulos do Python"
   ]
  },
  {
   "cell_type": "markdown",
   "id": "6bf68ab9",
   "metadata": {},
   "source": [
    "### Exercício 16\n",
    "   * Crie um programa que leia um número Real qualquer pelo teclado e mostre na tela a sua porção Inteira."
   ]
  },
  {
   "cell_type": "code",
   "execution_count": 13,
   "id": "9f05925c",
   "metadata": {
    "ExecuteTime": {
     "end_time": "2021-12-10T23:28:48.485368Z",
     "start_time": "2021-12-10T23:28:43.720472Z"
    }
   },
   "outputs": [
    {
     "name": "stdout",
     "output_type": "stream",
     "text": [
      "Digite um valor: 3.1564\n",
      "O valor digitado foi 3.1564 e a sua porção inteira é 3.\n"
     ]
    }
   ],
   "source": [
    "from math import trunc \n",
    "num = float( input( 'Digite um valor: '))\n",
    "print( 'O valor digitado foi {} e a sua porção inteira é {}.'.format( num, trunc( num )))\n"
   ]
  },
  {
   "cell_type": "markdown",
   "id": "3ca82df6",
   "metadata": {},
   "source": [
    "### Exercício 17\n",
    "   * Faça um programa que leia o comprimento do cateto oposto e do cateto adjacente de um triângulo retângulo. Calcule e mostre o comprimento da hipotenusa."
   ]
  },
  {
   "cell_type": "code",
   "execution_count": 6,
   "id": "8e962418",
   "metadata": {
    "ExecuteTime": {
     "end_time": "2021-12-10T22:58:10.153692Z",
     "start_time": "2021-12-10T22:58:03.168147Z"
    }
   },
   "outputs": [
    {
     "name": "stdout",
     "output_type": "stream",
     "text": [
      "Comprimento do cateto oposto: 3.5\n",
      "Comprimento do cateto adjacente: 4.75\n",
      "A hipotenusa vai medir 5.90\n"
     ]
    }
   ],
   "source": [
    "from math import hypot\n",
    "co = float( input( 'Comprimento do cateto oposto: '))\n",
    "ca = float( input( 'Comprimento do cateto adjacente: '))\n",
    "hi = hypot(co, ca)\n",
    "print( 'A hipotenusa vai medir {:.2f}'.format( hi ))\n"
   ]
  },
  {
   "cell_type": "markdown",
   "id": "44fae229",
   "metadata": {},
   "source": [
    "### Exercício 18\n",
    "   * Faça um programa que leia um ângulo qualquer e mostre na tela o valor do seno, cosseno e tangente desse ângulo."
   ]
  },
  {
   "cell_type": "code",
   "execution_count": 8,
   "id": "0b40e128",
   "metadata": {
    "ExecuteTime": {
     "end_time": "2021-12-10T22:58:46.601793Z",
     "start_time": "2021-12-10T22:58:43.705772Z"
    }
   },
   "outputs": [
    {
     "name": "stdout",
     "output_type": "stream",
     "text": [
      "Digite o angulo que você deseja: 45\n",
      "O angulo de 45.0 tem o SENO de 0.71\n",
      "O angulo de 45.0 tem o COSSENO de 0.71\n",
      "O angulo de 45.0 tem a TANGENTE de 1.00\n"
     ]
    }
   ],
   "source": [
    "from math import radians, sin, cos, tan\n",
    "angulo = float( input( 'Digite o angulo que você deseja: '))\n",
    "seno = sin( radians( angulo ))\n",
    "print( 'O angulo de {} tem o SENO de {:.2f}'.format( angulo, seno ))\n",
    "cosseno = cos( radians( angulo ))\n",
    "print( 'O angulo de {} tem o COSSENO de {:.2f}'.format( angulo, cosseno ))\n",
    "tangente = tan( radians( angulo ))\n",
    "print( 'O angulo de {} tem a TANGENTE de {:.2f}'.format( angulo, tangente ))\n"
   ]
  },
  {
   "cell_type": "markdown",
   "id": "fe795387",
   "metadata": {},
   "source": [
    "### Exercício 19\n",
    "   * Um professor quer sortear um dos seus quatro alunos para apagar o quadro. Faça um programa que ajude ele, lendo o nome dos alunos e escrevendo na tela o nome do escolhido."
   ]
  },
  {
   "cell_type": "code",
   "execution_count": 9,
   "id": "9e20673e",
   "metadata": {
    "ExecuteTime": {
     "end_time": "2021-12-10T22:59:27.917717Z",
     "start_time": "2021-12-10T22:59:15.129674Z"
    }
   },
   "outputs": [
    {
     "name": "stdout",
     "output_type": "stream",
     "text": [
      "Primeiro aluno: Joao\n",
      "Segundo aluno: Pedro\n",
      "Terceiro aluno: Maria\n",
      "Quarto aluno: Cassiano\n",
      "O aluno escolhido foi: Maria!!\n"
     ]
    }
   ],
   "source": [
    "from random import choice\n",
    "n1 = str( input( 'Primeiro aluno: '))\n",
    "n2 = str( input( 'Segundo aluno: '))\n",
    "n3 = str( input( 'Terceiro aluno: '))\n",
    "n4 = str( input( 'Quarto aluno: '))\n",
    "lista = [n1, n2, n3, n4]\n",
    "sorteio = choice( lista )\n",
    "print( 'O aluno escolhido foi: {}!!'.format( sorteio ))\n"
   ]
  },
  {
   "cell_type": "markdown",
   "id": "ff00414e",
   "metadata": {},
   "source": [
    "### Exercício 20\n",
    "   * O mesmo professor do desafio 19 quer sortear a ordem de apresentação de trabalhos dos alunos. Faça um programa que leia o nome dos quatro alunos e mostre a ordem sorteada."
   ]
  },
  {
   "cell_type": "code",
   "execution_count": 4,
   "id": "e7d27822",
   "metadata": {
    "ExecuteTime": {
     "end_time": "2022-01-25T23:54:49.126519Z",
     "start_time": "2022-01-25T23:54:36.041658Z"
    }
   },
   "outputs": [
    {
     "name": "stdout",
     "output_type": "stream",
     "text": [
      "Primeiro aluno: Pedro\n",
      "Segundo aluno: Bia\n",
      "Terceiro aluno: George\n",
      "Quarto aluno: Caio\n",
      "A ordem de apresentação será\n",
      "['Bia', 'Pedro', 'George', 'Caio']\n"
     ]
    }
   ],
   "source": [
    "from random import shuffle\n",
    "n1 = str( input( 'Primeiro aluno: '))\n",
    "n2 = str( input( 'Segundo aluno: '))\n",
    "n3 = str( input( 'Terceiro aluno: '))\n",
    "n4 = str( input( 'Quarto aluno: '))\n",
    "lista = [n1, n2, n3, n4]\n",
    "shuffle( lista )\n",
    "print( 'A ordem de apresentação será')\n",
    "print( lista )\n"
   ]
  },
  {
   "cell_type": "markdown",
   "id": "ce381c3b",
   "metadata": {},
   "source": [
    "### Exercício 22\n",
    "   * Crie um programa que leia o nome completo de uma pessoa e mostre:\n",
    "         – O nome com todas as letras maiúsculas e minúsculas.\n",
    "         – Quantas letras ao todo (sem considerar espaços).\n",
    "         – Quantas letras tem o primeiro nome."
   ]
  },
  {
   "cell_type": "code",
   "execution_count": 11,
   "id": "7fc3292c",
   "metadata": {
    "ExecuteTime": {
     "end_time": "2021-12-10T23:01:10.368117Z",
     "start_time": "2021-12-10T23:01:01.970168Z"
    }
   },
   "outputs": [
    {
     "name": "stdout",
     "output_type": "stream",
     "text": [
      "Digite seu nome completo: Cassiano Schmeiske\n",
      "Analisando seu nome...\n",
      "Seu nome em maiúsculo é CASSIANO SCHMEISKE\n",
      "Seu nome em minúsculo é cassiano schmeiske\n",
      "Seu nome tem ao todo 17 letras\n",
      "Seu primeiro nome é Cassiano e ele tem 8 letras\n"
     ]
    }
   ],
   "source": [
    "nome = str( input( 'Digite seu nome completo: ')).strip() # strip -> remover espaço\n",
    "print( 'Analisando seu nome...' )\n",
    "print( 'Seu nome em maiúsculo é {}'.format( nome.upper() )) # upper maiúsculo\n",
    "print( 'Seu nome em minúsculo é {}'.format( nome.lower() )) # lower minúsculo\n",
    "print( 'Seu nome tem ao todo {} letras'.format( len(nome) - nome.count(' ')))\n",
    "separa = nome.split() # split -> separa \n",
    "print( 'Seu primeiro nome é {} e ele tem {} letras'.format( separa[0], len(separa[0])))\n"
   ]
  },
  {
   "cell_type": "markdown",
   "id": "6a0ddecc",
   "metadata": {},
   "source": [
    "### Exercício 23\n",
    "   * Faça um programa que leia um número de 0 a 9999 e mostre na tela cada um dos dígitos separados."
   ]
  },
  {
   "cell_type": "code",
   "execution_count": 12,
   "id": "8f6be991",
   "metadata": {
    "ExecuteTime": {
     "end_time": "2021-12-10T23:02:00.332057Z",
     "start_time": "2021-12-10T23:01:53.385784Z"
    }
   },
   "outputs": [
    {
     "name": "stdout",
     "output_type": "stream",
     "text": [
      "Digite um numero: 1987\n",
      "Analisando número 1987\n",
      "Unidade: 7\n",
      "Dezena: 8\n",
      "Centena: 9\n",
      "Milhar: 1\n"
     ]
    }
   ],
   "source": [
    "num = int( input( 'Digite um numero: '))\n",
    "print( 'Analisando número {}'.format( num ))\n",
    "u = num // 1 % 10\n",
    "d = num // 10 % 10\n",
    "c = num // 100 % 10\n",
    "m = num // 1000 % 10\n",
    "print( 'Unidade: {}'.format( u ))\n",
    "print( 'Dezena: {}'.format( d ))\n",
    "print( 'Centena: {}'.format( c ))\n",
    "print( 'Milhar: {}'.format( m ))\n"
   ]
  },
  {
   "cell_type": "markdown",
   "id": "f393eaaf",
   "metadata": {},
   "source": [
    "### Exercício 24\n",
    "   * Crie um programa que leia o nome de uma cidade diga se ela começa ou não com o nome “SANTO”."
   ]
  },
  {
   "cell_type": "code",
   "execution_count": 32,
   "id": "0eb2c6a8",
   "metadata": {
    "ExecuteTime": {
     "end_time": "2021-12-11T00:16:38.651546Z",
     "start_time": "2021-12-11T00:16:35.693608Z"
    }
   },
   "outputs": [
    {
     "name": "stdout",
     "output_type": "stream",
     "text": [
      "Digite o nome da cidade: sao paulo\n",
      "False\n"
     ]
    }
   ],
   "source": [
    "cid = str(input( 'Digite o nome da cidade: ')).strip() # strip -> remover espaço \n",
    "print(cid[:5].upper() == 'SANTO') # upper -> maiúsculo \n"
   ]
  },
  {
   "cell_type": "markdown",
   "id": "02cd1ab6",
   "metadata": {},
   "source": [
    "### Exercício 25\n",
    "   * Crie um programa que leia o nome de uma pessoa e diga se ela tem “SILVA” no nome."
   ]
  },
  {
   "cell_type": "code",
   "execution_count": 29,
   "id": "f05e004d",
   "metadata": {
    "ExecuteTime": {
     "end_time": "2021-12-11T00:14:54.699589Z",
     "start_time": "2021-12-11T00:14:47.028763Z"
    }
   },
   "outputs": [
    {
     "name": "stdout",
     "output_type": "stream",
     "text": [
      "Qual é seu nome completo? cassio SiLvA\n",
      "Seu nome tem Silva? True\n"
     ]
    }
   ],
   "source": [
    "nome = str( input( 'Qual é seu nome completo? ')).strip() # strip -> remover espaço\n",
    "print( 'Seu nome tem Silva? {}'.format( 'SILVA' in nome.upper() ))\n"
   ]
  },
  {
   "cell_type": "markdown",
   "id": "91a7317a",
   "metadata": {},
   "source": [
    "### Exercício 26\n",
    "   * Faça um programa que leia uma frase pelo teclado e mostre quantas vezes aparece a letra “A”, em que posição ela aparece a primeira vez e em que posição ela aparece a última vez."
   ]
  },
  {
   "cell_type": "code",
   "execution_count": 45,
   "id": "b386c750",
   "metadata": {
    "ExecuteTime": {
     "end_time": "2021-12-11T00:38:29.742213Z",
     "start_time": "2021-12-11T00:38:15.060779Z"
    }
   },
   "outputs": [
    {
     "name": "stdout",
     "output_type": "stream",
     "text": [
      "Digite uma frase: joao emmanuel da silva santos\n",
      "A letra A aparece 5 vezes na frase\n",
      "A primeira letra A apareceu  na posição 3\n",
      "A ultima letra A apareceu na posição 25\n"
     ]
    }
   ],
   "source": [
    "frase = str( input( 'Digite uma frase: ')).upper().strip() # upper -> maiúsculo / strip -> remover espaço\n",
    "print( 'A letra A aparece {} vezes na frase'.format(frase.count( 'A' )))\n",
    "print( 'A primeira letra A apareceu  na posição {}'.format( frase.find( 'A' ) + 1)) # find -> primeira\n",
    "print( 'A ultima letra A apareceu na posição {}'.format( frase.rfind( 'A' ) + 1)) # rfind -> primeira do lado direito\n"
   ]
  },
  {
   "cell_type": "markdown",
   "id": "72363221",
   "metadata": {},
   "source": [
    "### Exercício 27\n",
    "   * Faça um programa que leia o nome completo de uma pessoa, mostrando em seguida o primeiro e o último nome separadamente."
   ]
  },
  {
   "cell_type": "code",
   "execution_count": 1,
   "id": "a712d5df",
   "metadata": {
    "ExecuteTime": {
     "end_time": "2021-12-15T00:38:12.492011Z",
     "start_time": "2021-12-15T00:38:07.463769Z"
    }
   },
   "outputs": [
    {
     "name": "stdout",
     "output_type": "stream",
     "text": [
      "Digite seu nome completo: cassiano schmeiske\n",
      "Muito prazer em te conhecer!\n",
      "Seu primeiro nome é cassiano\n",
      "Seu último nome é schmeiske\n"
     ]
    }
   ],
   "source": [
    "n = str( input( 'Digite seu nome completo: ')).strip() # strip -> remover espaço\n",
    "nome = n.split() # split -> separa o nome\n",
    "print( 'Muito prazer em te conhecer!' )\n",
    "print( 'Seu primeiro nome é {}'.format( nome[0] ))\n",
    "print( 'Seu último nome é {}'.format( nome[len( nome ) - 1] ))\n"
   ]
  },
  {
   "cell_type": "markdown",
   "id": "245e89e6",
   "metadata": {},
   "source": [
    "## Condições (if..else)"
   ]
  },
  {
   "cell_type": "markdown",
   "id": "ab917272",
   "metadata": {},
   "source": [
    "### Exercício 28\n",
    "   * Escreva um programa que faça o computador “pensar” em um número inteiro entre 0 e 5 e peça para o usuário tentar descobrir qual foi o número escolhido pelo computador. O programa deverá escrever na tela se o usuário venceu ou perdeu."
   ]
  },
  {
   "cell_type": "code",
   "execution_count": 1,
   "id": "a1d47c41",
   "metadata": {
    "ExecuteTime": {
     "end_time": "2021-12-16T22:24:22.734890Z",
     "start_time": "2021-12-16T22:24:12.888352Z"
    }
   },
   "outputs": [
    {
     "name": "stdout",
     "output_type": "stream",
     "text": [
      "-=--=--=--=--=--=--=--=--=--=--=--=--=--=--=--=--=--=--=--=-\n",
      "Pensei em um número de 0 a 5. Tente adivinhar..\n",
      "-=--=--=--=--=--=--=--=--=--=--=--=--=--=--=--=--=--=--=--=-\n",
      "Em que número eu pensei? 5\n",
      "Processando..\n",
      "Errou! eu pensei no numero 0 e seu palpite foi 5\n"
     ]
    }
   ],
   "source": [
    "from random import randint\n",
    "from time import sleep\n",
    "cpu = randint(0, 5) # randint -> Faz o computador pensar\n",
    "print( '-=-' * 20)\n",
    "print( 'Pensei em um número de 0 a 5. Tente adivinhar..')\n",
    "print( '-=-' * 20)\n",
    "user = int( input( 'Em que número eu pensei? '))\n",
    "print( 'Processando..')\n",
    "sleep(3)\n",
    "if cpu == user:\n",
    "    print( 'Acertou! eu pensei no numero {} e seu palpite foi {}'.format(cpu, user))\n",
    "else:\n",
    "    print( 'Errou! eu pensei no numero {} e seu palpite foi {}'.format(cpu, user))\n",
    "    "
   ]
  },
  {
   "cell_type": "markdown",
   "id": "4ce43868",
   "metadata": {},
   "source": [
    "### Exercício 29\n",
    "   * Escreva um programa que leia a velocidade de um carro. Se ele ultrapassar 80Km/h, mostre uma mensagem dizendo que ele foi multado. A multa vai custar 7,00 por cada Km acima do limite."
   ]
  },
  {
   "cell_type": "code",
   "execution_count": 20,
   "id": "d521cf36",
   "metadata": {
    "ExecuteTime": {
     "end_time": "2021-12-15T23:01:56.124600Z",
     "start_time": "2021-12-15T23:01:53.307611Z"
    }
   },
   "outputs": [
    {
     "name": "stdout",
     "output_type": "stream",
     "text": [
      "Qual é a velocidade atual do carro? 120\n",
      "MULTADO! Você excedeu o limite permitido que é de 80km/h.\n",
      "Você deve pagar uma multa de R$280.00!\n",
      "Tenha um bom dia! Dirija com segurança!\n"
     ]
    }
   ],
   "source": [
    "velocidade = int( input( 'Qual é a velocidade atual do carro? '))\n",
    "if velocidade > 80:\n",
    "    print( 'MULTADO! Você excedeu o limite permitido que é de 80km/h.' )\n",
    "    print( 'Você deve pagar uma multa de R${:.2f}!'.format( (velocidade - 80) * 7))\n",
    "print( 'Tenha um bom dia! Dirija com segurança!')\n"
   ]
  },
  {
   "cell_type": "markdown",
   "id": "635cb72f",
   "metadata": {},
   "source": [
    "### Exercício 30\n",
    "   * Crie um programa que leia um número inteiro e mostre na tela se ele é PAR ou ÍMPAR."
   ]
  },
  {
   "cell_type": "code",
   "execution_count": 27,
   "id": "579635c6",
   "metadata": {
    "ExecuteTime": {
     "end_time": "2021-12-15T23:06:47.700507Z",
     "start_time": "2021-12-15T23:06:46.395561Z"
    }
   },
   "outputs": [
    {
     "name": "stdout",
     "output_type": "stream",
     "text": [
      "Me diga um número qualquer: 12\n",
      "O número 12 é PAR\n"
     ]
    }
   ],
   "source": [
    "num = int( input( 'Me diga um número qualquer: '))\n",
    "if num % 2 == 0:\n",
    "    print( 'O número {} é PAR'.format( num ))\n",
    "else:\n",
    "    print( 'O número {} é IMPAR'.format( num ))\n",
    "    "
   ]
  },
  {
   "cell_type": "markdown",
   "id": "a5041b83",
   "metadata": {},
   "source": [
    "### Exercício 31\n",
    "   * Desenvolva um programa que pergunte a distância de uma viagem em Km. Calcule o preço da passagem, cobrando 0,50 por Km para viagens de até 200Km e 0,45 parta viagens mais longas."
   ]
  },
  {
   "cell_type": "code",
   "execution_count": 33,
   "id": "2684d89a",
   "metadata": {
    "ExecuteTime": {
     "end_time": "2021-12-15T23:19:10.797890Z",
     "start_time": "2021-12-15T23:19:09.109511Z"
    }
   },
   "outputs": [
    {
     "name": "stdout",
     "output_type": "stream",
     "text": [
      "Qual é a distância da sua viagem?100\n",
      "Você está prestes a começar uma viagem de 100.0Km.\n",
      "E o preço da sua passagem será de R$50.00\n"
     ]
    }
   ],
   "source": [
    "distancia = int( input( 'Qual é a distância da sua viagem?'))\n",
    "print( 'Você está prestes a começar uma viagem de {:.1f}Km.'.format( distancia ))\n",
    "if distancia <= 200:\n",
    "    preco = distancia * 0.50\n",
    "else:\n",
    "    preco = distancia * 0.45   \n",
    "print( 'E o preço da sua passagem será de R${:.2f}'.format( preco ))\n",
    "    "
   ]
  },
  {
   "cell_type": "markdown",
   "id": "e31056d1",
   "metadata": {},
   "source": [
    "### Exercício 32\n",
    "   * Faça um programa que leia um ano qualquer e mostre se ele é bissexto."
   ]
  },
  {
   "cell_type": "code",
   "execution_count": 43,
   "id": "c6e981f4",
   "metadata": {
    "ExecuteTime": {
     "end_time": "2021-12-16T00:12:07.843042Z",
     "start_time": "2021-12-16T00:12:03.896084Z"
    }
   },
   "outputs": [
    {
     "name": "stdout",
     "output_type": "stream",
     "text": [
      "Que ano quer analisar? Coloque 0 para analisar o ano atual: 0\n",
      "O ano 2021 NÃO é BISSEXTO\n"
     ]
    }
   ],
   "source": [
    "from datetime import date\n",
    "ano = int( input( 'Que ano quer analisar? Coloque 0 para analisar o ano atual: '))\n",
    "if ano == 0:\n",
    "    ano = date.today().year\n",
    "if ano % 4 == 0 and ano % 100 != 0 or ano % 400 == 0:\n",
    "    print( 'O ano {} é BISSEXTO'.format( ano ))\n",
    "else:\n",
    "    print( 'O ano {} NÃO é BISSEXTO'.format( ano ))\n"
   ]
  },
  {
   "cell_type": "markdown",
   "id": "4873cc29",
   "metadata": {},
   "source": [
    "### Exercício 33\n",
    "   * Faça um programa que leia três números e mostre qual é o maior e qual é o menor."
   ]
  },
  {
   "cell_type": "code",
   "execution_count": 38,
   "id": "a108f872",
   "metadata": {
    "ExecuteTime": {
     "end_time": "2022-01-22T13:34:00.176677Z",
     "start_time": "2022-01-22T13:33:52.269191Z"
    }
   },
   "outputs": [
    {
     "name": "stdout",
     "output_type": "stream",
     "text": [
      "Digite o primeiro número:5\n",
      "Digite o segundo número:9\n",
      "Digite o terceiro número:4\n",
      "O MENOR valor digitado foi 4\n",
      "O MAIOR valor digitado foi 9\n"
     ]
    }
   ],
   "source": [
    "n1 = int( input( 'Digite o primeiro número:' ))\n",
    "n2 = int( input( 'Digite o segundo número:' ))\n",
    "n3 = int( input( 'Digite o terceiro número:' ))\n",
    "# Verificando quem é o menor\n",
    "menor = n1\n",
    "if n2<n1 and n2<n3:\n",
    "    menor = n2\n",
    "if n3<n1 and n3<n2:\n",
    "    menor = n3\n",
    "# Verificando quem é o maior\n",
    "maior = n1\n",
    "if n2>n1 and n2>n3:\n",
    "    maior = n2\n",
    "if n3>n1 and n3>n2:\n",
    "    maior = n3\n",
    "print( 'O MENOR valor digitado foi {}'.format( menor ))\n",
    "print( 'O MAIOR valor digitado foi {}'.format( maior ))\n"
   ]
  },
  {
   "cell_type": "markdown",
   "id": "977482d8",
   "metadata": {},
   "source": [
    "### Exercício 34\n",
    "   * Escreva um programa que pergunte o salário de um funcionário e calcule o valor do seu aumento. Para salários superiores a 1250,00, calcule um aumento de 10%. Para os inferiores ou iguais, o aumento é de 15%."
   ]
  },
  {
   "cell_type": "code",
   "execution_count": 19,
   "id": "497e10b0",
   "metadata": {
    "ExecuteTime": {
     "end_time": "2021-12-16T22:55:13.645121Z",
     "start_time": "2021-12-16T22:55:09.071284Z"
    }
   },
   "outputs": [
    {
     "name": "stdout",
     "output_type": "stream",
     "text": [
      "Qual é o salário do funcionário? R$5000\n",
      "Quem ganhava R$5000.00 passa a ganha R$5500.00 agora.\n"
     ]
    }
   ],
   "source": [
    "salario = float( input( 'Qual é o salário do funcionário? R$'))\n",
    "if salario > 1250:\n",
    "    aumento = salario * 0.1\n",
    "else:\n",
    "    aumento = salario * 0.15\n",
    "print( 'Quem ganhava R${:.2f} passa a ganha R${:.2f} agora.'.format( salario, salario + aumento))\n"
   ]
  },
  {
   "cell_type": "markdown",
   "id": "fe94b81d",
   "metadata": {},
   "source": [
    "### Exercício 35\n",
    "   * Desenvolva um programa que leia o comprimento de três retas e diga ao usuário se elas podem ou não formar um triângulo."
   ]
  },
  {
   "cell_type": "code",
   "execution_count": 25,
   "id": "ca2dd1b8",
   "metadata": {
    "ExecuteTime": {
     "end_time": "2021-12-16T23:08:35.483751Z",
     "start_time": "2021-12-16T23:08:30.896778Z"
    }
   },
   "outputs": [
    {
     "name": "stdout",
     "output_type": "stream",
     "text": [
      "-=--=--=--=--=--=--=--=--=--=--=--=-\n",
      "Analisador de Triângulos\n",
      "-=--=--=--=--=--=--=--=--=--=--=--=-\n",
      "Primeiro segmento: 9\n",
      "Segundo segmento: 7\n",
      "Terceiro segmento: 8\n",
      "Os segmentos acima PODEM FORMAR triângulo!\n"
     ]
    }
   ],
   "source": [
    "print( '-=-' * 12 )\n",
    "print( 'Analisador de Triângulos')\n",
    "print( '-=-' * 12 )\n",
    "r1 = float( input( 'Primeiro segmento: '))\n",
    "r2 = float( input( 'Segundo segmento: '))\n",
    "r3 = float( input( 'Terceiro segmento: '))\n",
    "if r1 < r2 + r3 and r2 < r1 + r3 and r3 < r1 + r2:\n",
    "    print( 'Os segmentos acima PODEM FORMAR triângulo!' )\n",
    "else:\n",
    "    print( 'Os segmentos acima NÃO PODEM FORMAR triângulo!')\n",
    "    "
   ]
  },
  {
   "cell_type": "markdown",
   "id": "a89ca025",
   "metadata": {},
   "source": [
    "# Mundo 2"
   ]
  },
  {
   "cell_type": "markdown",
   "id": "66885c72",
   "metadata": {},
   "source": [
    "## Condições (if..elif)"
   ]
  },
  {
   "cell_type": "markdown",
   "id": "4bca233a",
   "metadata": {},
   "source": [
    "### Exercício 36\n",
    "   * Escreva um programa para aprovar o empréstimo bancário para a compra de uma casa. Pergunte o valor da casa, o salário do comprador e em quantos anos ele vai pagar. A prestação mensal não pode exceder 30% do salário ou então o empréstimo será negado."
   ]
  },
  {
   "cell_type": "code",
   "execution_count": 31,
   "id": "0bf16612",
   "metadata": {
    "ExecuteTime": {
     "end_time": "2021-12-16T23:16:54.031084Z",
     "start_time": "2021-12-16T23:16:47.800219Z"
    }
   },
   "outputs": [
    {
     "name": "stdout",
     "output_type": "stream",
     "text": [
      "Qual é o valor da casa? R$: 100000\n",
      "Valor do Salário R$: 5000\n",
      "Quantidade de anos: 10\n",
      "EMPRÉSTIMO APROVADO! Valor da parcela é de R$833.33\n"
     ]
    }
   ],
   "source": [
    "casa = float( input( 'Qual é o valor da casa? R$: ') )\n",
    "salario = float( input( 'Valor do Salário R$: '))\n",
    "anos = int( input( 'Quantidade de anos: '))\n",
    "parcela = casa / ( anos * 12)\n",
    "if parcela < salario * 0.3:\n",
    "    print( 'EMPRÉSTIMO APROVADO! Valor da parcela é de R${:.2f}'.format( parcela))\n",
    "else:\n",
    "    print( 'EMPRÉSTMIO NEGADO! Valor da parcela é de R${:.2f} e o Maximo permitido é R${:.2f}'.format(parcela, salario * 0.3))\n"
   ]
  },
  {
   "cell_type": "markdown",
   "id": "a7105b15",
   "metadata": {},
   "source": [
    "### Exercício 37\n",
    "   * Escreva um programa em Python que leia um número inteiro qualquer e peça para o usuário escolher qual será a base de conversão: 1 para binário, 2 para octal e 3 para hexadecimal."
   ]
  },
  {
   "cell_type": "code",
   "execution_count": 37,
   "id": "9b8ed88b",
   "metadata": {
    "ExecuteTime": {
     "end_time": "2021-12-16T23:21:43.817503Z",
     "start_time": "2021-12-16T23:21:38.905432Z"
    }
   },
   "outputs": [
    {
     "name": "stdout",
     "output_type": "stream",
     "text": [
      "Digite um numero inteiro: 93\n",
      "Escolha uma base de conversão:\n",
      "[1] para Binário \n",
      "[2] para Octal \n",
      "[3] para Hexadecimal\n",
      "Opção Escolhida: 1\n",
      "A conversão do numero: 93 para BINÁRIO é igual a 1011101\n"
     ]
    }
   ],
   "source": [
    "num = int( input( 'Digite um numero inteiro: '))\n",
    "con = int( input( '''Escolha uma base de conversão:\n",
    "[1] para Binário \n",
    "[2] para Octal \n",
    "[3] para Hexadecimal\n",
    "Opção Escolhida: '''))\n",
    "if con == 1:\n",
    "    print( 'A conversão do numero: {} para BINÁRIO é igual a {}'.format(num, bin(num)[2:]))\n",
    "elif con == 2:\n",
    "    print( 'A conversão do numero: {} para OCTAL é igual a {}'.format(num, oct(num)[2:]))\n",
    "elif con == 3:\n",
    "    print( 'A conversão do numero: {} para HEXADECIMAL é igual a: {}'.format(num, hex(num)[2:]))\n",
    "else:\n",
    "    print( 'Opção Invalida!')\n"
   ]
  },
  {
   "cell_type": "markdown",
   "id": "99bccdd2",
   "metadata": {},
   "source": [
    "### Exercício 38\n",
    "   * Escreva um programa que leia dois números inteiros e compare-os. mostrando na tela uma mensagem:\n",
    "    * O primeiro valor é maior\n",
    "    * O segundo valor é maior\n",
    "    * Não existe valor maior, os dois são iguais"
   ]
  },
  {
   "cell_type": "code",
   "execution_count": 40,
   "id": "822de858",
   "metadata": {
    "ExecuteTime": {
     "end_time": "2021-12-16T23:25:27.206184Z",
     "start_time": "2021-12-16T23:25:26.003552Z"
    }
   },
   "outputs": [
    {
     "name": "stdout",
     "output_type": "stream",
     "text": [
      "Digite o primeiro numero inteiro:5\n",
      "Digite o segundo numero inteiro:5\n",
      "Os dois Valores são iguais!\n"
     ]
    }
   ],
   "source": [
    "n1 = int(input( 'Digite o primeiro numero inteiro:'))\n",
    "n2 = int(input( 'Digite o segundo numero inteiro:'))\n",
    "if n1 > n2:\n",
    "    print( 'O PRIMEIRO numero é maior!')\n",
    "elif n2 > n1:\n",
    "    print( ' O SEGUNDO numero é maior!')\n",
    "else:\n",
    "    print( 'Os dois Valores são iguais!')\n"
   ]
  },
  {
   "cell_type": "markdown",
   "id": "543206cc",
   "metadata": {
    "ExecuteTime": {
     "end_time": "2021-11-29T23:16:14.267035Z",
     "start_time": "2021-11-29T23:16:14.257075Z"
    }
   },
   "source": [
    "### Exercício  39\n",
    "* Faça um programa que leia o ano de nascimento de um jovem e informe, de acordo com a sua idade, se ele ainda vai se alistar ao serviço militar, se é a hora exata de se alistar ou se já passou do tempo do alistamento. Seu programa também deverá mostrar o tempo que falta ou que passou do prazo."
   ]
  },
  {
   "cell_type": "code",
   "execution_count": 41,
   "id": "c0917a07",
   "metadata": {
    "ExecuteTime": {
     "end_time": "2021-12-16T23:27:16.175003Z",
     "start_time": "2021-12-16T23:27:14.242014Z"
    }
   },
   "outputs": [
    {
     "name": "stdout",
     "output_type": "stream",
     "text": [
      "Ano de Nascimento: 1987\n",
      "Quem nasceu em 1987 tem 34 anos em 2021.\n",
      "Voce ja deveria ter se alistado há 16 anos.\n",
      "Seu alistamento foi em 2005\n"
     ]
    }
   ],
   "source": [
    "from datetime import date\n",
    "atual = date.today().year\n",
    "nasc = int( input( 'Ano de Nascimento: '))\n",
    "idade = atual - nasc\n",
    "print( 'Quem nasceu em {} tem {} anos em {}.'.format(nasc, idade, atual))\n",
    "if idade == 18:\n",
    "    print( 'Voce tem que se alistar IMEDIATAMENTE!')\n",
    "elif idade < 18:\n",
    "    saldo = 18 - idade\n",
    "    print( 'Ainda falta {} anos para alistar'.format( saldo ))\n",
    "    ano = atual + saldo\n",
    "    print( 'Seu alistamento será em {}'.format( ano ))\n",
    "elif idade > 18:\n",
    "    saldo = idade - 18\n",
    "    print( 'Voce ja deveria ter se alistado há {} anos.'.format( saldo) )\n",
    "    ano = atual - saldo\n",
    "    print( 'Seu alistamento foi em {}'.format( ano ))\n",
    "    "
   ]
  },
  {
   "cell_type": "markdown",
   "id": "efc6ee00",
   "metadata": {},
   "source": [
    "### Exercício 40\n",
    "   * Crie um programa que leia duas notas de um aluno e calcule sua média, mostrando uma mensagem no final, de acordo com a média atingida:\n",
    "    * Média abaixo de 5.0: REPROVADO\n",
    "    * Média entre 5.0 e 6.9: RECUPERAÇÃO\n",
    "    * Média 7.0 ou superior: APROVADO"
   ]
  },
  {
   "cell_type": "code",
   "execution_count": 43,
   "id": "02d55c2f",
   "metadata": {
    "ExecuteTime": {
     "end_time": "2021-12-16T23:35:09.864670Z",
     "start_time": "2021-12-16T23:35:00.394245Z"
    }
   },
   "outputs": [
    {
     "name": "stdout",
     "output_type": "stream",
     "text": [
      "Informe a primeira Nota:6.5\n",
      "Informe a segunda Nota:4.5\n",
      "Tirando 6.5 e 4.5, a média do aluno é 5.5\n",
      "O aluno está de RECUPERAÇÃO.\n"
     ]
    }
   ],
   "source": [
    "nt01 = float( input( 'Informe a primeira Nota:'))\n",
    "nt02 = float( input( 'Informe a segunda Nota:'))\n",
    "media = (nt01 + nt02) / 2\n",
    "print( 'Tirando {:.1f} e {:.1f}, a média do aluno é {:.1f}'.format( nt01, nt02, media))\n",
    "if media < 5.0:\n",
    "    print( 'O aluno esta REPROVADO.')\n",
    "elif ( media >= 5.0) & ( media <= 6.9):\n",
    "    print( 'O aluno está de RECUPERAÇÃO.' )\n",
    "else:\n",
    "    print( 'O aluno está APROVADO.')\n"
   ]
  },
  {
   "cell_type": "markdown",
   "id": "d4891633",
   "metadata": {
    "ExecuteTime": {
     "end_time": "2021-11-29T23:16:55.225360Z",
     "start_time": "2021-11-29T23:16:55.209065Z"
    }
   },
   "source": [
    "### Exercício 41  \n",
    "   * A Confederação Nacional de Natação precisa de um programa que leia o ano de nascimento de um atleta e mostre sua categoria, de acordo com a idade:\n",
    "    * Até 9 anos: MIRIM\n",
    "    * Até 14 anos: INFANTIL\n",
    "    * Até 19 anos: JÚNIOR\n",
    "    * Até 25 anos: SÊNIOR\n",
    "    * Acima de 25 anos: MASTER"
   ]
  },
  {
   "cell_type": "code",
   "execution_count": 44,
   "id": "ddc81caf",
   "metadata": {
    "ExecuteTime": {
     "end_time": "2021-12-16T23:37:25.307820Z",
     "start_time": "2021-12-16T23:37:22.569904Z"
    }
   },
   "outputs": [
    {
     "name": "stdout",
     "output_type": "stream",
     "text": [
      "Ano de Nascimento: 1987\n",
      "O atleta  tem 34 anos\n",
      "Atleta da categoria MASTER\n"
     ]
    }
   ],
   "source": [
    "from datetime import date\n",
    "atual = date.today().year\n",
    "nasc = int( input( 'Ano de Nascimento: '))\n",
    "idade = atual - nasc\n",
    "print( 'O atleta  tem {} anos'.format( idade))\n",
    "if nasc <= 9 :\n",
    "    print( 'Atleta da categoria MIRIM')    \n",
    "elif nasc <= 14:\n",
    "    print( 'Atleta da categoria INFANTIL')    \n",
    "elif nasc <= 19:\n",
    "    print( 'Atleta da categoria JUNIOR')    \n",
    "elif nasc <= 25:\n",
    "    print( 'Atleta da categoria SENIOR')\n",
    "else:\n",
    "    print( 'Atleta da categoria MASTER')\n",
    "    "
   ]
  },
  {
   "cell_type": "markdown",
   "id": "a4851ea7",
   "metadata": {},
   "source": [
    "### Exercício 42 \n",
    "   * Refaça o DESAFIO 35 dos triângulos, acrescentando o recurso de mostrar que tipo de triângulo será formado:\n",
    "    * EQUILÁTERO: todos os lados iguais\n",
    "    * ISÓSCELES: dois lados iguais, um diferente\n",
    "    * ESCALENO: todos os lados diferentes"
   ]
  },
  {
   "cell_type": "code",
   "execution_count": 49,
   "id": "60540efb",
   "metadata": {
    "ExecuteTime": {
     "end_time": "2021-12-16T23:50:47.648764Z",
     "start_time": "2021-12-16T23:50:39.964396Z"
    }
   },
   "outputs": [
    {
     "name": "stdout",
     "output_type": "stream",
     "text": [
      "-=--=--=--=--=--=--=--=--=--=--=--=-\n",
      "Analisador de Triângulos\n",
      "-=--=--=--=--=--=--=--=--=--=--=--=-\n",
      "Primeiro segmento: 789\n",
      "Segundo segmento: 654\n",
      "Terceiro segmento: 156\n",
      "Os segmentos acima PODEM FORMAR um triângulo ESCALENO!\n"
     ]
    }
   ],
   "source": [
    "print( '-=-' * 12 )\n",
    "print( 'Analisador de Triângulos')\n",
    "print( '-=-' * 12 )\n",
    "r1 = float( input( 'Primeiro segmento: '))\n",
    "r2 = float( input( 'Segundo segmento: '))\n",
    "r3 = float( input( 'Terceiro segmento: '))\n",
    "if r1 < r2 + r3 and r2 < r1 + r3 and r3 < r1 + r2:\n",
    "    print( 'Os segmentos acima PODEM FORMAR um triângulo ', end='' ) # ( end='' ) -> subiu o print( 'EQUILÁTERO!' )\n",
    "    if r1 == r2 == r3:\n",
    "        print( 'EQUILÁTERO!' )\n",
    "    if r1 != r2 != r3 != r1:\n",
    "        print( 'ESCALENO!' )\n",
    "    else:\n",
    "        print( 'ISÓSCELES' )\n",
    "else:\n",
    "    print( 'Os segmentos acima NÃO PODEM FORMAR triângulo!')\n",
    "    "
   ]
  },
  {
   "cell_type": "markdown",
   "id": "585a4f4b",
   "metadata": {},
   "source": [
    "### Exercício  43\n",
    "   * Desenvolva uma lógica que leia o peso e a altura de uma pessoa, calcule seu Índice de Massa Corporal (IMC) e mostre seu status, de acordo com a tabela abaixo:\n",
    "    * IMC abaixo de 18,5: Abaixo do Peso\n",
    "    * Entre 18,5 e 25: Peso Ideal\n",
    "    * 25 até 30: Sobrepeso\n",
    "    * 30 até 40: Obesidade\n",
    "    * Acima de 40: Obesidade Mórbida"
   ]
  },
  {
   "cell_type": "code",
   "execution_count": 52,
   "id": "623f9bbe",
   "metadata": {
    "ExecuteTime": {
     "end_time": "2021-12-16T23:56:08.525595Z",
     "start_time": "2021-12-16T23:56:03.555559Z"
    }
   },
   "outputs": [
    {
     "name": "stdout",
     "output_type": "stream",
     "text": [
      "Qual é seu peso? (kg) 78\n",
      "Qual é sua altura? (m) 1.87\n",
      "O IMC dessa pessoa é 22.3\n",
      "Você esta com Peso Ideal\n"
     ]
    }
   ],
   "source": [
    "peso = float( input( 'Qual é seu peso? (kg) '))\n",
    "alt = float( input( 'Qual é sua altura? (m) '))\n",
    "imc = peso / ( alt ** 2)\n",
    "print( 'O IMC dessa pessoa é {:.1f}'.format(imc))\n",
    "if imc < 18.5 :\n",
    "    print( 'Você está abaixo do peso normal' )\n",
    "elif (imc >= 18.5) & (imc < 25) :\n",
    "    print( 'Você esta com Peso Ideal' )    \n",
    "elif (imc >= 25) & (imc < 30) :\n",
    "    print( 'Você esta em Sobrepeso' )     \n",
    "elif (imc >= 30) & (imc < 40) :\n",
    "    print( 'Você esta em Obesidade' )    \n",
    "else:\n",
    "    print( 'Você esta em Obesidade mórbida')\n",
    "    "
   ]
  },
  {
   "cell_type": "markdown",
   "id": "b139aebf",
   "metadata": {},
   "source": [
    "### Exercício 44 \n",
    "   * Elabore um programa que calcule o valor a ser pago por um produto, considerando o seu preço normal e condição de pagamento:\n",
    "    * à vista dinheiro/cheque: 10% de desconto\n",
    "    * à vista no cartão: 5% de desconto\n",
    "    * em até 2x no cartão: preço formal \n",
    "    * 3x ou mais no cartão: 20% de juros"
   ]
  },
  {
   "cell_type": "code",
   "execution_count": 53,
   "id": "40747037",
   "metadata": {
    "ExecuteTime": {
     "end_time": "2021-12-17T00:01:38.675468Z",
     "start_time": "2021-12-17T00:01:23.583737Z"
    }
   },
   "outputs": [
    {
     "name": "stdout",
     "output_type": "stream",
     "text": [
      "=========== LOJAS SCHMEISKE ============\n",
      "Preço das compras: R$2000\n",
      "Forma de pagamento:\n",
      "[1] À Vista dinheiro/cheque\n",
      "[2] À vista no cartão \n",
      "[3] 2x no cartão\n",
      "[4] 3x ou mais no cartão \n",
      "Qual é a opção? 4\n",
      "Quantas parcelas? 3\n",
      "Sua compra será parcelada em 3x de R$800.00 COM JUROS!\n",
      "Sua compra de R$2000.00 vai custar R$2400.00 no final\n"
     ]
    }
   ],
   "source": [
    "print('{:=^40}'.format(' LOJAS SCHMEISKE '))\n",
    "price = float( input( 'Preço das compras: R$'))\n",
    "opcao = int( input( '''Forma de pagamento:\n",
    "[1] À Vista dinheiro/cheque\n",
    "[2] À vista no cartão \n",
    "[3] 2x no cartão\n",
    "[4] 3x ou mais no cartão \n",
    "Qual é a opção? '''))\n",
    "if opcao == 1:\n",
    "    total = price - (price * 0.1)\n",
    "elif opcao == 2:\n",
    "    total = price - (price * 0.05)\n",
    "elif opcao == 3:\n",
    "    total = price\n",
    "    parcela = total / 2\n",
    "    print( 'Sua compra será parcelada em 2x de R${:.2f}'.format(parcela))\n",
    "elif opcao == 4:\n",
    "    total = price + ( price * 0.2)\n",
    "    total_parcela = int(input( 'Quantas parcelas? '))\n",
    "    parcela = total / total_parcela\n",
    "    print( 'Sua compra será parcelada em {}x de R${:.2f} COM JUROS!'.format(total_parcela, parcela))\n",
    "else:\n",
    "    total = price\n",
    "    print( 'Opção invalida de pagamento. Tente novamente!')\n",
    "print( 'Sua compra de R${:.2f} vai custar R${:.2f} no final'.format(price, total ))\n"
   ]
  },
  {
   "cell_type": "markdown",
   "id": "1e81712e",
   "metadata": {},
   "source": [
    "### Exercício 45 \n",
    "   * Crie um programa que faça o computador jogar Jokenpô com você."
   ]
  },
  {
   "cell_type": "code",
   "execution_count": 99,
   "id": "47544211",
   "metadata": {
    "ExecuteTime": {
     "end_time": "2021-12-17T01:00:39.321212Z",
     "start_time": "2021-12-17T01:00:36.529390Z"
    }
   },
   "outputs": [
    {
     "name": "stdout",
     "output_type": "stream",
     "text": [
      "Suas opções:\n",
      "[0] PEDRA\n",
      "[1] PAPEL\n",
      "[2] TESOURA\n",
      "Qual é a sua jogada? 0\n",
      "JO \n",
      "KEN\n",
      "PO!!\n",
      "-=--=--=--=--=--=--=--=--=-\n",
      "Computador jogou TESOURA\n",
      "Jogador jogou PEDRA\n",
      "-=--=--=--=--=--=--=--=--=-\n",
      "JOGADOR VENCE\n"
     ]
    }
   ],
   "source": [
    "from random import randint\n",
    "from time import sleep\n",
    "itens = ( 'PEDRA', 'PAPEL', 'TESOURA')\n",
    "cpu = randint( 0, 2)\n",
    "print( \"\"\"Suas opções:\n",
    "[0] PEDRA\n",
    "[1] PAPEL\n",
    "[2] TESOURA\"\"\")\n",
    "user = int( input( 'Qual é a sua jogada? '))\n",
    "print( 'JO ')\n",
    "sleep(1)\n",
    "print( 'KEN' )\n",
    "sleep(1)\n",
    "print( 'PO!!')\n",
    "print( '-=-' * 9 )\n",
    "print( 'Computador jogou {}'.format( itens[cpu] ))\n",
    "print( 'Jogador jogou {}'.format( itens[user] ))\n",
    "print( '-=-' * 9 )\n",
    "if cpu == 0: # computador jogou PEDRA\n",
    "    if user == 0:\n",
    "        print( 'EMPATE' )        \n",
    "    elif user == 1:\n",
    "        print( 'JOGADOR VENCE')        \n",
    "    elif user == 2:\n",
    "        print( 'COMPUTADOR VENCE')        \n",
    "    else:\n",
    "        print( 'JOGADA INVÁLIDA!')    \n",
    "elif cpu == 1: # computador jogou PAPEL\n",
    "    if user == 0:\n",
    "        print( 'COMPUTADOR VENCE')        \n",
    "    elif user == 1:\n",
    "        print( 'EMPATE' )        \n",
    "    elif user == 2:\n",
    "        print( 'JOGADOR VENCE')        \n",
    "    else:\n",
    "        print( 'JOGADA INVÁLIDA!')    \n",
    "elif cpu == 2: # computador jogou TESOURA\n",
    "    if user == 0:\n",
    "        print( 'JOGADOR VENCE')        \n",
    "    elif user == 1:\n",
    "        print( 'COMPUTADOR VENCE')        \n",
    "    elif user == 2:\n",
    "        print( 'EMPATE' )        \n",
    "    else:\n",
    "        print( 'JOGADA INVÁLIDA!')\n"
   ]
  },
  {
   "cell_type": "markdown",
   "id": "dfb92214",
   "metadata": {},
   "source": [
    "## Repetições (for)"
   ]
  },
  {
   "cell_type": "markdown",
   "id": "2e0eda15",
   "metadata": {},
   "source": [
    "### Exercício 46\n",
    "   * Faça um programa que mostre na tela uma contagem regressiva para o estouro de fogos de artifício, indo de 10 até 0, com uma pausa de 1 segundo entre eles."
   ]
  },
  {
   "cell_type": "code",
   "execution_count": 100,
   "id": "36dc7019",
   "metadata": {
    "ExecuteTime": {
     "end_time": "2021-12-17T01:02:19.562196Z",
     "start_time": "2021-12-17T01:02:13.945427Z"
    }
   },
   "outputs": [
    {
     "name": "stdout",
     "output_type": "stream",
     "text": [
      "10\n",
      "9\n",
      "8\n",
      "7\n",
      "6\n",
      "5\n",
      "4\n",
      "3\n",
      "2\n",
      "1\n",
      "0\n",
      "POW! POW! BUUM!!\n"
     ]
    }
   ],
   "source": [
    "from time import sleep\n",
    "for i in range(10, -1, -1):\n",
    "    print(i)\n",
    "    sleep(0.5)\n",
    "print( 'POW! POW! BUUM!!')\n"
   ]
  },
  {
   "cell_type": "markdown",
   "id": "ba9c9b09",
   "metadata": {
    "ExecuteTime": {
     "end_time": "2021-12-02T23:08:45.857478Z",
     "start_time": "2021-12-02T23:08:45.850498Z"
    }
   },
   "source": [
    "#### Exercício  47\n",
    "   * Crie um programa que mostre na tela todos os números pares que estão no intervalo entre 1 e 50."
   ]
  },
  {
   "cell_type": "code",
   "execution_count": 23,
   "id": "c3ffed8d",
   "metadata": {
    "ExecuteTime": {
     "end_time": "2021-12-28T23:59:33.665750Z",
     "start_time": "2021-12-28T23:59:33.659767Z"
    }
   },
   "outputs": [
    {
     "name": "stdout",
     "output_type": "stream",
     "text": [
      "2 4 6 8 10 12 14 16 18 20 22 24 26 28 30 32 34 36 38 40 42 44 46 48 50 ..Acabou\n"
     ]
    }
   ],
   "source": [
    "for i in range(2, 51, 2):\n",
    "    print(i, end=' ')\n",
    "print( '..Acabou' )\n"
   ]
  },
  {
   "cell_type": "markdown",
   "id": "6f437060",
   "metadata": {
    "ExecuteTime": {
     "end_time": "2021-12-02T23:43:56.576606Z",
     "start_time": "2021-12-02T23:43:56.559651Z"
    }
   },
   "source": [
    "### Exercício 48\n",
    "   * Faça um programa que calcule a soma entre todos os números que são múltiplos de três e que se encontram no intervalo de 1 até 500."
   ]
  },
  {
   "cell_type": "code",
   "execution_count": 52,
   "id": "ff748094",
   "metadata": {
    "ExecuteTime": {
     "end_time": "2022-01-19T23:58:12.716152Z",
     "start_time": "2022-01-19T23:58:12.706180Z"
    }
   },
   "outputs": [
    {
     "name": "stdout",
     "output_type": "stream",
     "text": [
      "A soma de todos os 83 valores solicitados é 20667\n"
     ]
    }
   ],
   "source": [
    "cont = 0\n",
    "soma = 0\n",
    "for i in range( 1, 501, 2):\n",
    "    if i % 3 == 0:\n",
    "        cont += 1\n",
    "        soma += i\n",
    "print('A soma de todos os {} valores solicitados é {}'.format(cont, soma ))\n"
   ]
  },
  {
   "cell_type": "markdown",
   "id": "5a3299bb",
   "metadata": {},
   "source": [
    "### Exercício 49\n",
    "   * Refaça o DESAFIO 9, mostrando a tabuada de um número que o usuário escolher, só que agora utilizando um laço for."
   ]
  },
  {
   "cell_type": "code",
   "execution_count": 53,
   "id": "543ee18b",
   "metadata": {
    "ExecuteTime": {
     "end_time": "2022-01-19T23:58:32.999719Z",
     "start_time": "2022-01-19T23:58:28.891423Z"
    }
   },
   "outputs": [
    {
     "name": "stdout",
     "output_type": "stream",
     "text": [
      "Escolha um numero para Tabuada: 2\n",
      "2 x  1 = 2\n",
      "2 x  2 = 4\n",
      "2 x  3 = 6\n",
      "2 x  4 = 8\n",
      "2 x  5 = 10\n",
      "2 x  6 = 12\n",
      "2 x  7 = 14\n",
      "2 x  8 = 16\n",
      "2 x  9 = 18\n",
      "2 x 10 = 20\n"
     ]
    }
   ],
   "source": [
    "num = int(input( 'Escolha um numero para Tabuada: '))\n",
    "for i in range(1, 11):\n",
    "    print('{} x {:2} = {}'.format(num, i, num * i))\n"
   ]
  },
  {
   "cell_type": "markdown",
   "id": "99e96afa",
   "metadata": {},
   "source": [
    "### Exercício 50\n",
    "   * Desenvolva um programa que leia seis números inteiros e mostre a soma apenas daqueles que forem pares. Se o valor digitado for ímpar, desconsidere-o."
   ]
  },
  {
   "cell_type": "code",
   "execution_count": 105,
   "id": "085b12a4",
   "metadata": {
    "ExecuteTime": {
     "end_time": "2021-12-17T01:09:23.289060Z",
     "start_time": "2021-12-17T01:09:12.218900Z"
    }
   },
   "outputs": [
    {
     "name": "stdout",
     "output_type": "stream",
     "text": [
      "Digite 1 numero: 20\n",
      "Digite 2 numero: 53\n",
      "Digite 3 numero: 84\n",
      "Digite 4 numero: 32\n",
      "Digite 5 numero: 97\n",
      "Digite 6 numero: 22\n",
      "Você digitou 4 numeros Pares! a soma é 158\n"
     ]
    }
   ],
   "source": [
    "cont = 0\n",
    "soma = 0\n",
    "for i in range(1, 7):\n",
    "    num = int(input( 'Digite {} numero: '.format( i )))\n",
    "    if num % 2 == 0:\n",
    "        cont += 1\n",
    "        soma += num\n",
    "print( 'Você digitou {} numeros Pares! a soma é {}'.format(cont, soma) )\n",
    "        "
   ]
  },
  {
   "cell_type": "markdown",
   "id": "e421687e",
   "metadata": {},
   "source": [
    "### Exercício 51\n",
    "   * Desenvolva um programa que leia o primeiro termo e a razão de uma PA. No final, mostre os 10 primeiros termos dessa progressão."
   ]
  },
  {
   "cell_type": "code",
   "execution_count": 106,
   "id": "cfd0fe81",
   "metadata": {
    "ExecuteTime": {
     "end_time": "2021-12-17T01:10:28.223843Z",
     "start_time": "2021-12-17T01:10:21.170620Z"
    }
   },
   "outputs": [
    {
     "name": "stdout",
     "output_type": "stream",
     "text": [
      "Primeiro termo da P.A: 52\n",
      "Razão: 20\n",
      "52-> 72-> 92-> 112-> 132-> 152-> 172-> 192-> 212-> 232-> Acabou\n"
     ]
    }
   ],
   "source": [
    "pt = int( input( 'Primeiro termo da P.A: '))\n",
    "rz = int( input( 'Razão: '))\n",
    "decimo = pt + ( 10 - 1 ) * rz\n",
    "for i in range(pt, decimo + rz , rz):\n",
    "    print( i, end=\"-> \" ) # ( end='' ) -> print( 'Acabou' )\n",
    "print( 'Acabou' )\n"
   ]
  },
  {
   "cell_type": "markdown",
   "id": "5cdbe751",
   "metadata": {},
   "source": [
    "Exercício 52\n",
    "   * Faça um programa que leia um número inteiro e diga se ele é ou não um número primo."
   ]
  },
  {
   "cell_type": "code",
   "execution_count": 110,
   "id": "8699adfe",
   "metadata": {
    "ExecuteTime": {
     "end_time": "2021-12-17T01:16:18.217117Z",
     "start_time": "2021-12-17T01:16:16.602639Z"
    }
   },
   "outputs": [
    {
     "name": "stdout",
     "output_type": "stream",
     "text": [
      "Digite um numero: 13\n",
      "\u001b[33m 1 \u001b[31m 2 \u001b[31m 3 \u001b[31m 4 \u001b[31m 5 \u001b[31m 6 \u001b[31m 7 \u001b[31m 8 \u001b[31m 9 \u001b[31m 10 \u001b[31m 11 \u001b[31m 12 \u001b[33m 13 \n",
      "\u001b[mO número 13 foi divisível 2 vezes\n",
      "E por isso ele é PRIMO\n"
     ]
    }
   ],
   "source": [
    "num = int( input( 'Digite um numero: '))\n",
    "tot = 0\n",
    "for i in range(1, num + 1):\n",
    "    if num % i == 0:\n",
    "        print('\\033[33m',end=' ')\n",
    "        tot +=1\n",
    "    else:\n",
    "        print('\\033[31m',end=' ')    \n",
    "    print( i, end=\" \" )\n",
    "print( '\\n\\033[mO número {} foi divisível {} vezes'.format(num, tot))  \n",
    "if tot == 2:\n",
    "    print('E por isso ele é PRIMO')\n",
    "else:\n",
    "    print('Por isso ele não é PRIMO')\n"
   ]
  },
  {
   "cell_type": "markdown",
   "id": "dab23673",
   "metadata": {},
   "source": [
    "### Exercício 53\n",
    "   * Crie um programa que leia uma frase qualquer e diga se ela é um palíndromo, desconsiderando os espaços. Exemplos de palíndromos:"
   ]
  },
  {
   "cell_type": "code",
   "execution_count": 15,
   "id": "db8854ce",
   "metadata": {
    "ExecuteTime": {
     "end_time": "2021-12-17T19:02:42.645525Z",
     "start_time": "2021-12-17T19:02:29.649390Z"
    }
   },
   "outputs": [
    {
     "name": "stdout",
     "output_type": "stream",
     "text": [
      "Digite uma frase: o lobo ama o bolo\n",
      "O inverso da OLOBOAMAOBOLO é OLOBOAMAOBOLO\n",
      "Temos um palíndromo!\n"
     ]
    }
   ],
   "source": [
    "frase = str( input( 'Digite uma frase: ')).strip().upper()\n",
    "palavras = frase.split() # split -> separa as palavras\n",
    "junto = ''.join( palavras ) # join -> juntar as palavras\n",
    "inverso = ''\n",
    "for letra in range( len( junto ) -1, -1, -1):\n",
    "    inverso += junto[letra]\n",
    "print( 'O inverso da {} é {}'.format( junto, inverso))\n",
    "if inverso == junto:\n",
    "    print( 'Temos um palíndromo!' )\n",
    "else:\n",
    "    print( 'A frase digitada não é um palíndromo!' )\n",
    "    "
   ]
  },
  {
   "cell_type": "markdown",
   "id": "4a9bb380",
   "metadata": {},
   "source": [
    "### Exercício 54\n",
    "   * Crie um programa que leia o ano de nascimento de sete pessoas. No final, mostre quantas pessoas ainda não atingiram a maioridade e quantas já são maiores."
   ]
  },
  {
   "cell_type": "code",
   "execution_count": 111,
   "id": "21f6a10b",
   "metadata": {
    "ExecuteTime": {
     "end_time": "2021-12-17T01:19:17.077346Z",
     "start_time": "2021-12-17T01:18:52.594363Z"
    }
   },
   "outputs": [
    {
     "name": "stdout",
     "output_type": "stream",
     "text": [
      "Em que ano a 1ª pessoa nasceu?: 1987\n",
      "Em que ano a 2ª pessoa nasceu?: 1983\n",
      "Em que ano a 3ª pessoa nasceu?: 2015\n",
      "Em que ano a 4ª pessoa nasceu?: 2020\n",
      "Em que ano a 5ª pessoa nasceu?: 2012\n",
      "Em que ano a 6ª pessoa nasceu?: 1999\n",
      "Em que ano a 7ª pessoa nasceu?: 2016\n",
      "Ao todo tivemos 3 pessoas maior de idade\n",
      "E também tivemos 4 pessoas menores de idade\n"
     ]
    }
   ],
   "source": [
    "from datetime import date\n",
    "atual = date.today().year\n",
    "maioridade = 0\n",
    "menoridade = 0\n",
    "for i in range(1, 8):\n",
    "    nasc = int(input( 'Em que ano a {}ª pessoa nasceu?: '.format(i)))\n",
    "    idade = atual - nasc\n",
    "    if idade >= 21:\n",
    "        maioridade += 1\n",
    "    if idade < 21:\n",
    "        menoridade += 1\n",
    "print('Ao todo tivemos {} pessoas maior de idade'.format(maioridade))\n",
    "print('E também tivemos {} pessoas menores de idade'.format(menoridade))\n"
   ]
  },
  {
   "cell_type": "markdown",
   "id": "57c14d5b",
   "metadata": {},
   "source": [
    "### Exercício 55\n",
    "* Faça um programa que leia o peso de cinco pessoas. No final, mostre qual foi o maior e o menor peso lidos."
   ]
  },
  {
   "cell_type": "code",
   "execution_count": 112,
   "id": "d2faae68",
   "metadata": {
    "ExecuteTime": {
     "end_time": "2021-12-17T01:21:22.708434Z",
     "start_time": "2021-12-17T01:21:14.098593Z"
    }
   },
   "outputs": [
    {
     "name": "stdout",
     "output_type": "stream",
     "text": [
      "Qual o peso da 1ª pessoa?: 32\n",
      "Qual o peso da 2ª pessoa?: 57\n",
      "Qual o peso da 3ª pessoa?: 105\n",
      "Qual o peso da 4ª pessoa?: 99\n",
      "Qual o peso da 5ª pessoa?: 36\n",
      "105\n",
      "32\n"
     ]
    }
   ],
   "source": [
    "maiorpeso = 0\n",
    "menorpeso = 0\n",
    "for i in range(1, 6):\n",
    "    peso = int(input( 'Qual o peso da {}ª pessoa?: '.format(i)))\n",
    "    if i == 1:\n",
    "        maiorpeso = peso\n",
    "        menorpeso = peso\n",
    "    else:\n",
    "        if peso > maiorpeso:\n",
    "            maiorpeso = peso\n",
    "        if peso < menorpeso:\n",
    "            menorpeso = peso\n",
    "print(maiorpeso)\n",
    "print(menorpeso)\n"
   ]
  },
  {
   "cell_type": "markdown",
   "id": "20626568",
   "metadata": {},
   "source": [
    "### Exercício 56\n",
    "   * Desenvolva um programa que leia o nome, idade e sexo de 4 pessoas. No final do programa, mostre: a média de idade do grupo, qual é o nome do homem mais velho e quantas mulheres têm menos de 20 anos."
   ]
  },
  {
   "cell_type": "code",
   "execution_count": 55,
   "id": "9029e660",
   "metadata": {
    "ExecuteTime": {
     "end_time": "2021-12-17T20:05:46.311711Z",
     "start_time": "2021-12-17T20:05:22.982543Z"
    },
    "code_folding": []
   },
   "outputs": [
    {
     "name": "stdout",
     "output_type": "stream",
     "text": [
      "----- 1ª PESSOA ----\n",
      "Nome: Bia\n",
      "Idade: 12\n",
      "[M/F]:f\n",
      "----- 2ª PESSOA ----\n",
      "Nome: Carol\n",
      "Idade: 12\n",
      "[M/F]:f\n",
      "----- 3ª PESSOA ----\n",
      "Nome: Cassiano\n",
      "Idade: 99\n",
      "[M/F]:m\n",
      "----- 4ª PESSOA ----\n",
      "Nome: Thiago\n",
      "Idade: 35\n",
      "[M/F]:m\n",
      "A média de idade do grupo é de 39.5 anos\n",
      "O homem mais velho é Cassiano ele tem 99 anos\n",
      "Ao todo são 2 mulheres com menos de 20 anos\n"
     ]
    }
   ],
   "source": [
    "somaidade = 0\n",
    "mediaidade = 0\n",
    "maioridadehomem = 0\n",
    "nomevelho = ''\n",
    "totalmulher20 = 0\n",
    "for i in range( 1, 5):\n",
    "    print( '----- {}ª PESSOA ----'.format( i ))\n",
    "    name = str( input( 'Nome: ')).strip()\n",
    "    idade = int( input( 'Idade: '))\n",
    "    sexo = str( input( '[M/F]:' )).strip()\n",
    "    somaidade += idade\n",
    "    if i == 1 and sexo in 'Mm':\n",
    "        maioridadehomem = idade\n",
    "        nomevelho = name\n",
    "    if sexo in 'Mm' and idade > maioridadehomem:\n",
    "        maioridadehomem = idade\n",
    "        nomevelho = name\n",
    "    if sexo in 'Ff' and idade < 20:\n",
    "        totalmulher20 += 1\n",
    "    \n",
    "mediaidade = somaidade / 4\n",
    "print( 'A média de idade do grupo é de {} anos'.format( mediaidade ) )    \n",
    "print( 'O homem mais velho é {} ele tem {} anos'.format( nomevelho, maioridadehomem ))\n",
    "print( 'Ao todo são {} mulheres com menos de 20 anos'.format( totalmulher20 ))\n"
   ]
  },
  {
   "cell_type": "markdown",
   "id": "c761c860",
   "metadata": {},
   "source": [
    "## Repetições (while)"
   ]
  },
  {
   "cell_type": "markdown",
   "id": "f4c770e3",
   "metadata": {},
   "source": [
    "### Exercício 57\n",
    "   * Faça um programa que leia o sexo de uma pessoa, mas só aceite os valores ‘M’ ou ‘F’. Caso esteja errado, peça a digitação novamente até ter um valor correto."
   ]
  },
  {
   "cell_type": "code",
   "execution_count": 80,
   "id": "829f7056",
   "metadata": {
    "ExecuteTime": {
     "end_time": "2021-12-17T20:37:33.083729Z",
     "start_time": "2021-12-17T20:37:25.178258Z"
    }
   },
   "outputs": [
    {
     "name": "stdout",
     "output_type": "stream",
     "text": [
      "Informe seu sexo: [M/F] g\n",
      "Dados inválidos. Por favor, informe seu sexo: h\n",
      "Dados inválidos. Por favor, informe seu sexo: t\n",
      "Dados inválidos. Por favor, informe seu sexo: h\n",
      "Dados inválidos. Por favor, informe seu sexo: m\n",
      "Sexo M registrado com sucesso\n"
     ]
    }
   ],
   "source": [
    "sexo = str( input( 'Informe seu sexo: [M/F] ')).strip().upper()[0]#strip->Eliminar espaço / upper()[0]->somente primeira letra\n",
    "while sexo not in 'MmFf':\n",
    "    sexo = str( input( 'Dados inválidos. Por favor, informe seu sexo: ')).strip().upper()[0]\n",
    "print( 'Sexo {} registrado com sucesso'.format( sexo ))\n"
   ]
  },
  {
   "cell_type": "markdown",
   "id": "0548aedb",
   "metadata": {},
   "source": [
    "### Exercício 58\n",
    "   * Melhore o jogo do DESAFIO 28 onde o computador vai “pensar” em um número entre 0 e 10. Só que agora o jogador vai tentar adivinhar até acertar, mostrando no final quantos palpites foram necessários para vencer."
   ]
  },
  {
   "cell_type": "code",
   "execution_count": 23,
   "id": "382f7582",
   "metadata": {
    "ExecuteTime": {
     "end_time": "2021-12-18T10:40:37.111932Z",
     "start_time": "2021-12-18T10:40:29.942337Z"
    }
   },
   "outputs": [
    {
     "name": "stdout",
     "output_type": "stream",
     "text": [
      "Sou seu computador...\n",
      "Acabei de pensar em um número entre 0 e 10.\n",
      "Será que você consegue adivinhar qual foi?\n",
      "Qual é seu palpite? 5\n",
      "Menos..Tente novamente.\n",
      "Qual é seu palpite? 4\n",
      "Menos..Tente novamente.\n",
      "Qual é seu palpite? 2\n",
      "Menos..Tente novamente.\n",
      "Qual é seu palpite? 0\n",
      "Acertou com 4 tentativas Parabéns!\n"
     ]
    }
   ],
   "source": [
    "from random import randint\n",
    "computador = randint(0, 10) # randint -> Faz o computador pensar\n",
    "print( '''Sou seu computador...\n",
    "Acabei de pensar em um número entre 0 e 10.\n",
    "Será que você consegue adivinhar qual foi?''')\n",
    "acertou = False\n",
    "palpites = 0\n",
    "while not acertou:\n",
    "    jogador = int( input( 'Qual é seu palpite? '))\n",
    "    palpites += 1\n",
    "    if jogador == computador:\n",
    "        acertou = True\n",
    "    else:\n",
    "        if jogador > computador:\n",
    "            print('Menos..Tente novamente.')\n",
    "        elif jogador < computador:\n",
    "            print('Mais..Tente novamente') \n",
    "print( 'Acertou com {} tentativas Parabéns!'.format( palpites ))\n"
   ]
  },
  {
   "cell_type": "markdown",
   "id": "a76ed37b",
   "metadata": {},
   "source": [
    "### Exercício 59\n",
    "* Crie um programa que leia dois valores e mostre um menu na tela:\n",
    "     - [ 1 ] somar\n",
    "     - [ 2 ] multiplicar\n",
    "     - [ 3 ] maior\n",
    "     - [ 4 ] novos números\n",
    "     - [ 5 ] sair do programa\n",
    "     \n",
    "Seu programa deverá realizar a operação solicitada em cada caso."
   ]
  },
  {
   "cell_type": "code",
   "execution_count": 28,
   "id": "86cd4036",
   "metadata": {
    "ExecuteTime": {
     "end_time": "2021-12-18T12:36:12.588855Z",
     "start_time": "2021-12-18T12:36:06.757875Z"
    }
   },
   "outputs": [
    {
     "name": "stdout",
     "output_type": "stream",
     "text": [
      "Primeiro valor: 1\n",
      "Segundo valor: 2\n",
      "    [ 1 ] somar\n",
      "    [ 2 ] multiplicar\n",
      "    [ 3 ] maior\n",
      "    [ 4 ] novos números\n",
      "    [ 5 ] sair do programa\n",
      ">>> Qual é a sua opção? 5\n",
      "Finalizando.. \n",
      "-=--=--=--=--=--=--=--=--=--=--=--=--=--=-\n",
      "Programa finalizado! Volte sempre!\n"
     ]
    }
   ],
   "source": [
    "from time import sleep\n",
    "n1 = int( input( 'Primeiro valor: '))\n",
    "n2 = int( input( 'Segundo valor: '))\n",
    "opcao = 0\n",
    "while opcao != 5:\n",
    "    print('''    [ 1 ] somar\n",
    "    [ 2 ] multiplicar\n",
    "    [ 3 ] maior\n",
    "    [ 4 ] novos números\n",
    "    [ 5 ] sair do programa''')\n",
    "    opcao = int( input( '>>> Qual é a sua opção? '))\n",
    "    if opcao == 1:\n",
    "        print( 'A soma entre {} + {} é igual a {}'.format( n1, n2, n1 + n2))\n",
    "    elif opcao == 2:\n",
    "        print( 'A multiplicação entre {} x {} é igual a {}'.format( n1, n2, n1 * n2 ))\n",
    "    elif opcao == 3:\n",
    "        if n1 > n2:\n",
    "            maior = n1\n",
    "        else:\n",
    "            maior = n2\n",
    "        print( 'Entre {} e {} o maior valor é {}'.format( n1, n2, maior ))\n",
    "    elif opcao == 4:\n",
    "        print( 'Informe novos números novamente:')\n",
    "        n1 = int( input( 'Primeiro valor: '))\n",
    "        n2 = int( input( 'Segundo valor: '))\n",
    "    elif opcao == 5:\n",
    "        print( 'Finalizando.. ')\n",
    "    else:\n",
    "        print( 'Opçao inválida. Tente novamente!')\n",
    "    print('-=-' * 14)\n",
    "    sleep(2)\n",
    "print( 'Programa finalizado! Volte sempre!')\n"
   ]
  },
  {
   "cell_type": "markdown",
   "id": "cfffc748",
   "metadata": {},
   "source": [
    "### Exercício 60\n",
    "   * Faça um programa que leia um número qualquer e mostre o seu fatorial. Exemplo: 5! = 5 x 4 x 3 x 2 x 1 = 120"
   ]
  },
  {
   "cell_type": "code",
   "execution_count": 6,
   "id": "ffdebda6",
   "metadata": {
    "ExecuteTime": {
     "end_time": "2021-12-20T12:18:39.545567Z",
     "start_time": "2021-12-20T12:18:38.160393Z"
    }
   },
   "outputs": [
    {
     "name": "stdout",
     "output_type": "stream",
     "text": [
      "Digite um número para calcular seu Fatorial: 12\n",
      "Calculando 12! = 12 x 11 x 10 x 9 x 8 x 7 x 6 x 5 x 4 x 3 x 2 x 1 = 479001600\n"
     ]
    }
   ],
   "source": [
    "num = int( input( 'Digite um número para calcular seu Fatorial: '))\n",
    "c = num\n",
    "f = 1\n",
    "print( 'Calculando {}! ='.format( num ), end=' ')\n",
    "while c > 0:\n",
    "    print( '{}'.format( c ), end='')\n",
    "    print( ' x ' if c > 1 else ' = ', end='')\n",
    "    f *= c\n",
    "    c -= 1\n",
    "print( '{}'.format( f ))"
   ]
  },
  {
   "cell_type": "markdown",
   "id": "b67a62ec",
   "metadata": {},
   "source": [
    "### Exercício 61\n",
    "   * Refaça o DESAFIO 51, lendo o primeiro termo e a razão de uma PA, mostrando os 10 primeiros termos da progressão usando a estrutura while."
   ]
  },
  {
   "cell_type": "code",
   "execution_count": 13,
   "id": "5c4ea684",
   "metadata": {
    "ExecuteTime": {
     "end_time": "2021-12-20T12:56:13.331562Z",
     "start_time": "2021-12-20T12:56:11.475130Z"
    }
   },
   "outputs": [
    {
     "name": "stdout",
     "output_type": "stream",
     "text": [
      "Primeiro termo da P.A: 15\n",
      "Razão: 5\n",
      "15 -> 20 -> 25 -> 30 -> 35 -> 40 -> 45 -> 50 -> 55 -> 60 -> Fim\n"
     ]
    }
   ],
   "source": [
    "primeiro = int( input( 'Primeiro termo da P.A: '))\n",
    "razao = int( input( 'Razão: '))\n",
    "termo = primeiro\n",
    "cont = 1\n",
    "while cont <= 10:\n",
    "    print( '{} -> '.format( termo ), end='')\n",
    "    termo += razao\n",
    "    cont += 1\n",
    "    \n",
    "print( 'Fim' )"
   ]
  },
  {
   "cell_type": "markdown",
   "id": "21bf11dd",
   "metadata": {},
   "source": [
    "### Exercício 62 \n",
    "   * Melhore o DESAFIO 61, perguntando para o usuário se ele quer mostrar mais alguns termos. O programa encerrará quando ele disser que quer mostrar 0 termos."
   ]
  },
  {
   "cell_type": "code",
   "execution_count": 23,
   "id": "d69856f4",
   "metadata": {
    "ExecuteTime": {
     "end_time": "2021-12-20T13:55:41.412321Z",
     "start_time": "2021-12-20T13:55:36.575478Z"
    }
   },
   "outputs": [
    {
     "name": "stdout",
     "output_type": "stream",
     "text": [
      "Primeiro termo da P.A: 2\n",
      "Razão: 5\n",
      "2 -> 7 -> 12 -> 17 -> 22 -> 27 -> 32 -> 37 -> 42 -> 47 -> PAUSA\n",
      "Quantos termos você quer mostrar a mais? 10\n",
      "52 -> 57 -> 62 -> 67 -> 72 -> 77 -> 82 -> 87 -> 92 -> 97 -> PAUSA\n",
      "Quantos termos você quer mostrar a mais? 0\n",
      "Progressão finalizada com 20 termos\n"
     ]
    }
   ],
   "source": [
    "primeiro = int( input( 'Primeiro termo da P.A: '))\n",
    "razao = int( input( 'Razão: '))\n",
    "termo = primeiro\n",
    "cont = 1\n",
    "total = 0\n",
    "mais = 10\n",
    "while mais != 0:\n",
    "    total = total + mais\n",
    "    while cont <= total:\n",
    "        print( '{} -> '.format( termo ), end='')\n",
    "        termo += razao\n",
    "        cont += 1\n",
    "        \n",
    "    print( 'PAUSA' )\n",
    "    mais = int( input( 'Quantos termos você quer mostrar a mais? '))\n",
    "print( 'Progressão finalizada com {} termos'.format( total ) )"
   ]
  },
  {
   "cell_type": "markdown",
   "id": "c4beec23",
   "metadata": {},
   "source": [
    "### Exercício 63\n",
    "   * Escreva um programa que leia um número N inteiro qualquer e mostre na tela os N primeiros elementos de uma Sequência de Fibonacci. Exemplo:\n",
    "    * 0 – 1 – 1 – 2 – 3 – 5 – 8"
   ]
  },
  {
   "cell_type": "code",
   "execution_count": 19,
   "id": "e3d6f551",
   "metadata": {
    "ExecuteTime": {
     "end_time": "2022-01-20T23:40:28.347840Z",
     "start_time": "2022-01-20T23:40:22.186072Z"
    }
   },
   "outputs": [
    {
     "name": "stdout",
     "output_type": "stream",
     "text": [
      "-----------------------\n",
      "Sequência de Fibonacci\n",
      "-----------------------\n",
      "Quantos termos você quer mostrar? 10\n",
      "~~~~~~~~~~~~~~~~~~~~~~~~~~~~~~\n",
      "0 -> 1 -> 1 -> 2 -> 3 -> 5 -> 8 -> 13 -> 21 -> 34 -> FIM\n",
      "~~~~~~~~~~~~~~~~~~~~~~~~~~~~~~\n"
     ]
    }
   ],
   "source": [
    "print( '-' * 23)\n",
    "print( 'Sequência de Fibonacci' )\n",
    "print( '-' * 23 )\n",
    "n = int( input( 'Quantos termos você quer mostrar? '))\n",
    "t1 = 0\n",
    "t2 = 1\n",
    "print( '~' * 30)\n",
    "print( '{} -> {}'.format( t1, t2 ), end='')\n",
    "cont = 3\n",
    "while cont <= n:\n",
    "    t3 = t1 + t2\n",
    "    print( ' -> {}'.format( t3 ), end='')\n",
    "    t1 = t2\n",
    "    t2 = t3\n",
    "    cont += 1\n",
    "print( ' -> FIM' )\n",
    "print( '~' * 30)\n"
   ]
  },
  {
   "cell_type": "markdown",
   "id": "31a1d680",
   "metadata": {},
   "source": [
    "### Exercício 64\n",
    "   * Crie um programa que leia vários números inteiros pelo teclado. O programa só vai parar quando o usuário digitar o valor 999, que é a condição de parada. No final, mostre quantos números foram digitados e qual foi a soma entre eles (desconsiderando o flag)."
   ]
  },
  {
   "cell_type": "code",
   "execution_count": 9,
   "id": "915607bd",
   "metadata": {
    "ExecuteTime": {
     "end_time": "2021-12-20T15:42:11.648185Z",
     "start_time": "2021-12-20T15:41:57.930192Z"
    }
   },
   "outputs": [
    {
     "name": "stdout",
     "output_type": "stream",
     "text": [
      "Digite um número [999 para parar]: 12\n",
      "Digite um número [999 para parar]: 3\n",
      "Digite um número [999 para parar]: 6\n",
      "Digite um número [999 para parar]: 999\n",
      "Você digitou 3 números e a soma entre eles foi 21.\n"
     ]
    }
   ],
   "source": [
    "num = cont = soma = 0\n",
    "num = int( input( 'Digite um número [999 para parar]: '))\n",
    "while num != 999:\n",
    "    soma += num\n",
    "    cont += 1\n",
    "    num = int( input( 'Digite um número [999 para parar]: '))\n",
    "print( 'Você digitou {} números e a soma entre eles foi {}.'.format( cont, soma ))\n"
   ]
  },
  {
   "cell_type": "markdown",
   "id": "fb70cd72",
   "metadata": {},
   "source": [
    "### Exercício 65\n",
    "   * Crie um programa que leia vários números inteiros pelo teclado. No final da execução, mostre a média entre todos os valores e qual foi o maior e o menor valores lidos. O programa deve perguntar ao usuário se ele quer ou não continuar a digitar valores."
   ]
  },
  {
   "cell_type": "code",
   "execution_count": 46,
   "id": "bf3da113",
   "metadata": {
    "ExecuteTime": {
     "end_time": "2021-12-20T20:11:31.743373Z",
     "start_time": "2021-12-20T18:57:43.123321Z"
    }
   },
   "outputs": [
    {
     "name": "stdout",
     "output_type": "stream",
     "text": [
      "Digite um número: 10\n",
      "Quer continuar? [S/N] n\n",
      "Você digitou 1 números e a média foi 10.0\n",
      "O maior número digitado foi 10 e o menor foi 10\n"
     ]
    }
   ],
   "source": [
    "soma = quant = media = maior = menor = 0\n",
    "option = 'S'\n",
    "while option in 'Ss':\n",
    "    num = int( input( 'Digite um número: '))\n",
    "    soma += num\n",
    "    quant += 1\n",
    "    if quant == 1:\n",
    "        maior = menor = num\n",
    "    else:\n",
    "        if num > maior:\n",
    "            maior = num\n",
    "        if num < menor:\n",
    "            menor = num\n",
    "    option = str( input( 'Quer continuar? [S/N] ')).upper().strip()[0] #strip->Eliminar espaço / upper()[0]->somente primeira letra\n",
    "media = soma / quant    \n",
    "print( 'Você digitou {} números e a média foi {}'.format( quant, media ))\n",
    "print( 'O maior número digitado foi {} e o menor foi {}'.format( maior, menor ))\n"
   ]
  },
  {
   "cell_type": "markdown",
   "id": "4435fb8a",
   "metadata": {},
   "source": [
    "### Exercício 66\n",
    "   * Crie um programa que leia números inteiros pelo teclado. O programa só vai parar quando o usuário digitar o valor 999, que é a condição de parada. No final, mostre quantos números foram digitados e qual foi a soma entre elas (desconsiderando o flag)."
   ]
  },
  {
   "cell_type": "code",
   "execution_count": 2,
   "id": "16560d53",
   "metadata": {
    "ExecuteTime": {
     "end_time": "2021-12-21T18:59:40.416990Z",
     "start_time": "2021-12-21T18:59:33.785998Z"
    }
   },
   "outputs": [
    {
     "name": "stdout",
     "output_type": "stream",
     "text": [
      "Digite um número [999 para parar]: 3\n",
      "Digite um número [999 para parar]: 8\n",
      "Digite um número [999 para parar]: 1\n",
      "Digite um número [999 para parar]: 7\n",
      "Digite um número [999 para parar]: 999\n",
      "A soma dos 4 valores foi 19\n"
     ]
    }
   ],
   "source": [
    "num = option = soma = cont = 0\n",
    "while True:\n",
    "    num = int( input( 'Digite um número [999 para parar]: '))\n",
    "    if num == 999:\n",
    "        break\n",
    "    cont += 1\n",
    "    soma += num\n",
    "print( 'A soma dos {} valores foi {}'.format( cont, soma ) )\n"
   ]
  },
  {
   "cell_type": "markdown",
   "id": "9029a0e2",
   "metadata": {},
   "source": [
    "### Exercício 67\n",
    "   * Faça um programa que mostre a tabuada de vários números, um de cada vez, para cada valor digitado pelo usuário. O programa será interrompido quando o número solicitado for negativo."
   ]
  },
  {
   "cell_type": "code",
   "execution_count": 6,
   "id": "3340f698",
   "metadata": {
    "ExecuteTime": {
     "end_time": "2021-12-21T19:13:35.954358Z",
     "start_time": "2021-12-21T19:13:31.187650Z"
    }
   },
   "outputs": [
    {
     "name": "stdout",
     "output_type": "stream",
     "text": [
      "Quer ver a tabuada de qual valor? 5\n",
      "--------------------\n",
      "5 x  1 = 5\n",
      "5 x  2 = 10\n",
      "5 x  3 = 15\n",
      "5 x  4 = 20\n",
      "5 x  5 = 25\n",
      "5 x  6 = 30\n",
      "5 x  7 = 35\n",
      "5 x  8 = 40\n",
      "5 x  9 = 45\n",
      "5 x 10 = 50\n",
      "--------------------\n",
      "Quer ver a tabuada de qual valor? -1\n",
      "Programa Finalizado\n"
     ]
    }
   ],
   "source": [
    "while True:\n",
    "    n = int( input( 'Quer ver a tabuada de qual valor? '))\n",
    "    if n < 0:\n",
    "        break\n",
    "    print( '-' * 20)\n",
    "    if n == 0:\n",
    "        break\n",
    "    for i in range(1, 11):\n",
    "        print( '{} x {:2} = {}'.format( n, i, n * i ))\n",
    "    print( '-' * 20)\n",
    "print( 'Programa Finalizado')\n"
   ]
  },
  {
   "cell_type": "markdown",
   "id": "0bd2aa90",
   "metadata": {},
   "source": [
    "### Exercício 68\n",
    "   * Faça um programa que jogue par ou ímpar com o computador. O jogo só será interrompido quando o jogador perder, mostrando o total de vitórias consecutivas que ele conquistou no final do jogo."
   ]
  },
  {
   "cell_type": "code",
   "execution_count": 50,
   "id": "b5a689f6",
   "metadata": {
    "ExecuteTime": {
     "end_time": "2021-12-21T20:15:38.146447Z",
     "start_time": "2021-12-21T20:15:06.241070Z"
    }
   },
   "outputs": [
    {
     "name": "stdout",
     "output_type": "stream",
     "text": [
      "Digite um valor: 10\n",
      "Par ou Ímpar? [P/I] p\n",
      "O computador escolheu 10 e você jogou 10. Total de 20 DEU PAR\n",
      "Você VENCEU!\n",
      "Vamos jogar novamente...\n",
      "Digite um valor: 5\n",
      "Par ou Ímpar? [P/I] i\n",
      "O computador escolheu 7 e você jogou 5. Total de 12 DEU PAR\n",
      "Você PERDEU!\n",
      "GAME OVER! Você venceu 1 vezes\n"
     ]
    }
   ],
   "source": [
    "from random import randint\n",
    "cont = 0\n",
    "while True:\n",
    "    jogador = int( input( 'Digite um valor: '))\n",
    "    cpu = randint( 0, 11)\n",
    "    total = cpu + jogador\n",
    "    opcao = ' '\n",
    "    while opcao not in 'PI':\n",
    "        opcao = str( input( 'Par ou Ímpar? [P/I] ')).strip().upper()[0]\n",
    "    print( 'O computador escolheu {} e você jogou {}. Total de {}'.format( cpu, jogador, total), end=' ')\n",
    "    print( 'DEU PAR' if total % 2 == 0 else 'DEU IMPAR')\n",
    "    if opcao == 'P':\n",
    "        if total % 2 == 0:\n",
    "            print( 'Você VENCEU!')\n",
    "            cont += 1\n",
    "        else:\n",
    "            print( 'Você PERDEU!')\n",
    "            break\n",
    "    elif opcao == 'I':\n",
    "        if total % 2 == 1:\n",
    "            print( 'Você VENCEU!')\n",
    "            cont += 1\n",
    "        else:\n",
    "            print( 'Você PERDEU!')\n",
    "            break\n",
    "    print( 'Vamos jogar novamente...' )  \n",
    "\n",
    "print( 'GAME OVER! Você venceu {} vezes'.format( cont ))\n"
   ]
  },
  {
   "cell_type": "markdown",
   "id": "418e0954",
   "metadata": {},
   "source": [
    "### Exercício 69 \n",
    "   * Crie um programa que leia a idade e o sexo de várias pessoas. A cada pessoa cadastrada, o programa deverá perguntar se o usuário quer ou não continuar. No final, mostre:\n",
    "    * quantas pessoas tem mais de 18 anos.\n",
    "    * quantos homens foram cadastrados.\n",
    "    * quantas mulheres tem menos de 20 anos"
   ]
  },
  {
   "cell_type": "code",
   "execution_count": 6,
   "id": "3a3bc095",
   "metadata": {
    "ExecuteTime": {
     "end_time": "2021-12-22T11:54:11.343055Z",
     "start_time": "2021-12-22T11:53:54.248557Z"
    }
   },
   "outputs": [
    {
     "name": "stdout",
     "output_type": "stream",
     "text": [
      "Idade: 32\n",
      "Sexo: [M/F] f\n",
      "Quer continuar: [S/N] s\n",
      "Idade: 17\n",
      "Sexo: [M/F] f\n",
      "Quer continuar: [S/N] n\n",
      "==== FIM DO PROGRAMA ====\n",
      "Total de pessoas com mais de 18 anos: 1\n",
      "Ao todo tem 0 homens cadastrados\n",
      "E temos 1 mulheres com menos de 20 anos\n"
     ]
    }
   ],
   "source": [
    "maioridade = homens = mulhermenor = 0\n",
    "while True:\n",
    "    idade = int( input( 'Idade: '))\n",
    "    sexo = ' '\n",
    "    while sexo not in 'MF':\n",
    "        sexo = str( input( 'Sexo: [M/F] ')).strip().upper()[0]\n",
    "    if idade >= 18:\n",
    "        maioridade += 1\n",
    "    if sexo == 'M':\n",
    "        homens += 1\n",
    "    if (sexo == 'F') & (idade < 20):\n",
    "        mulhermenor += 1\n",
    "    opcao = ' '\n",
    "    while opcao not in 'SN':\n",
    "        opcao = str( input( 'Quer continuar: [S/N] ')).strip().upper()[0]\n",
    "    if opcao == 'N':\n",
    "        break\n",
    "print( '==== FIM DO PROGRAMA ====')\n",
    "print( 'Total de pessoas com mais de 18 anos: {}'.format( maioridade ))\n",
    "print( 'Ao todo tem {} homens cadastrados'.format( homens ))\n",
    "print( 'E temos {} mulheres com menos de 20 anos'.format( mulhermenor ))\n",
    "    "
   ]
  },
  {
   "cell_type": "markdown",
   "id": "19d4ae9a",
   "metadata": {},
   "source": [
    "### Exercício 70\n",
    "   * Crie um programa que leia o nome e o preço de vários produtos. O programa deverá perguntar se o usuário vai continuar ou não. No final, mostre:\n",
    "    * qual é o total gasto na compra.\n",
    "    * quantos produtos custam mais de 1000.\n",
    "    * qual é o nome do produto mais barato."
   ]
  },
  {
   "cell_type": "code",
   "execution_count": 12,
   "id": "cf4667f0",
   "metadata": {
    "ExecuteTime": {
     "end_time": "2021-12-22T12:33:00.627504Z",
     "start_time": "2021-12-22T12:32:37.155966Z"
    }
   },
   "outputs": [
    {
     "name": "stdout",
     "output_type": "stream",
     "text": [
      "--------------------\n",
      "LOJA SUPER BARATÃO\n",
      "--------------------\n",
      "Nome do Produto: caneta\n",
      "Preço: R$3\n",
      "Quer continuar? [S/N] s\n",
      "--------------------\n",
      "Nome do Produto: impressora\n",
      "Preço: R$950\n",
      "Quer continuar? [S/N] s\n",
      "--------------------\n",
      "Nome do Produto: celular\n",
      "Preço: R$1850\n",
      "Quer continuar? [S/N] n\n",
      "=============================================\n",
      "O Total de compra foi R$2803.00\n",
      "Temos 1 produtos custando mais de R$1000.00\n",
      "Produto mais barato foi caneta que custa 3.00\n",
      "=============================================\n"
     ]
    }
   ],
   "source": [
    "print( '-' * 20 )\n",
    "print( 'LOJA SUPER BARATÃO')\n",
    "print( '-' * 20 )\n",
    "total = maisdemil = menorpreco = cont = 0\n",
    "nomeprod = ' '\n",
    "while True:\n",
    "    produto = str( input( 'Nome do Produto: '))\n",
    "    price = float( input( 'Preço: R$'))\n",
    "    total += price\n",
    "    cont += 1\n",
    "    if price > 1000:\n",
    "        maisdemil += 1\n",
    "    if cont == 1 or price < menorpreco:\n",
    "        menorpreco = price\n",
    "        nomeprod = produto\n",
    "    opcao = ' '\n",
    "    while opcao not in 'SN':\n",
    "        opcao = str( input( 'Quer continuar? [S/N] ')).strip().upper()[0]\n",
    "    if opcao == 'N':\n",
    "        break\n",
    "    print( '-' * 20 )\n",
    "print( '=' * 45 )\n",
    "print( 'O Total de compra foi R${:.2f}'.format( total ))\n",
    "print( 'Temos {} produtos custando mais de R$1000.00'.format( maisdemil ))\n",
    "print( 'Produto mais barato foi {} que custa {:.2f}'.format( nomeprod, menorpreco))\n",
    "print( '=' * 45 )\n"
   ]
  },
  {
   "cell_type": "markdown",
   "id": "ca725a4d",
   "metadata": {},
   "source": [
    "### Exercício 71\n",
    "   * Crie um programa que simule o funcionamento de um caixa eletrônico. No início, pergunte ao usuário qual será o valor a ser sacado (número inteiro) e o programa vai informar quantas cédulas de cada valor serão entregues. OBS:\n",
    "    * considere que o caixa possui cédulas de 50, 20, 10 e 1."
   ]
  },
  {
   "cell_type": "code",
   "execution_count": 22,
   "id": "456b7473",
   "metadata": {
    "ExecuteTime": {
     "end_time": "2021-12-22T13:00:04.269916Z",
     "start_time": "2021-12-22T13:00:00.423768Z"
    }
   },
   "outputs": [
    {
     "name": "stdout",
     "output_type": "stream",
     "text": [
      "==============================\n",
      "           BANCO SC           \n",
      "==============================\n",
      "Que valor você quer sacar? R$183\n",
      "Total de 3 cédulas de R$50\n",
      "Total de 1 cédulas de R$20\n",
      "Total de 1 cédulas de R$10\n",
      "Total de 3 cédulas de R$1\n",
      "==============================\n",
      "Volte sempre ao BANCO CS! Tenha um bom dia!\n"
     ]
    }
   ],
   "source": [
    "print( '=' * 30 )\n",
    "print( '{:^30}'.format('BANCO SC'))\n",
    "print( '=' * 30 )\n",
    "valor = int( input( 'Que valor você quer sacar? R$'))\n",
    "total = valor\n",
    "ced = 50\n",
    "totalced = 0\n",
    "while True:\n",
    "    if total >= ced:\n",
    "        total -= ced\n",
    "        totalced += 1\n",
    "    else:\n",
    "        if totalced > 0:\n",
    "            print( 'Total de {} cédulas de R${}'.format(totalced, ced))\n",
    "        if ced == 50:\n",
    "            ced = 20\n",
    "        elif ced == 20:\n",
    "            ced = 10\n",
    "        elif ced == 10:\n",
    "            ced = 1\n",
    "        totalced = 0\n",
    "        if total == 0:\n",
    "            break\n",
    "print( '=' * 30 )\n",
    "print( 'Volte sempre ao BANCO CS! Tenha um bom dia!')\n"
   ]
  },
  {
   "cell_type": "markdown",
   "id": "2fa5277a",
   "metadata": {
    "ExecuteTime": {
     "end_time": "2022-01-23T02:21:39.195373Z",
     "start_time": "2022-01-23T02:21:39.183377Z"
    }
   },
   "source": [
    "# Mundo 3"
   ]
  },
  {
   "cell_type": "markdown",
   "id": "5e8f2df9",
   "metadata": {},
   "source": [
    "## Tuplas"
   ]
  },
  {
   "cell_type": "markdown",
   "id": "9bf3bff9",
   "metadata": {},
   "source": [
    "### Exercício 72 \n",
    "   * Crie um programa que tenha uma dupla totalmente preenchida com uma contagem por extenso, de zero até vinte. Seu programa deverá ler um número pelo teclado (entre 0 e 20) e mostrá-lo por extenso."
   ]
  },
  {
   "cell_type": "code",
   "execution_count": 32,
   "id": "9912a215",
   "metadata": {
    "ExecuteTime": {
     "end_time": "2021-12-26T11:55:14.909381Z",
     "start_time": "2021-12-26T11:55:13.327405Z"
    }
   },
   "outputs": [
    {
     "name": "stdout",
     "output_type": "stream",
     "text": [
      "Digite um número entre 0 e 20: 3\n",
      "Você digitou o número Tres\n"
     ]
    }
   ],
   "source": [
    "lista = ('Zero', 'Um', 'Dois', 'Tres', 'Quatro', 'Cinco', 'Seis', 'Sete', 'Oito', 'Nove', 'Dez',\n",
    "     'Onze', 'Doze', 'Treze', 'Quatorze', 'Quinze', 'Dezesseis', 'Dezessete', 'Dezoito', 'Dezenove', 'Vinte') # Tuplas\n",
    "while True:\n",
    "    num = int( input( 'Digite um número entre 0 e 20: '))\n",
    "    if ( num >= 0 ) & ( num <= 20 ):\n",
    "        break\n",
    "    print( 'Tente novamente!', end='')\n",
    "print( 'Você digitou o número {}'.format(lista[num]))\n"
   ]
  },
  {
   "cell_type": "markdown",
   "id": "81dd4653",
   "metadata": {},
   "source": [
    "### Exercício 73\n",
    "   *  Crie uma tupla preenchida com os 20 primeiros colocados da Tabela do Campeonato Brasileiro de Futebol, na ordem de colocação. Depois mostre:\n",
    "    * Os 5 primeiros times.\n",
    "    * Os últimos 4 colocados.\n",
    "    * Times em ordem alfabética.\n",
    "    * Em que posição está o time da Chapecoense."
   ]
  },
  {
   "cell_type": "code",
   "execution_count": 36,
   "id": "6732ca02",
   "metadata": {
    "ExecuteTime": {
     "end_time": "2021-12-26T12:03:04.955386Z",
     "start_time": "2021-12-26T12:03:04.944417Z"
    }
   },
   "outputs": [
    {
     "name": "stdout",
     "output_type": "stream",
     "text": [
      "-=--=--=--=--=--=--=--=--=--=--=--=--=--=--=--=--=--=--=--=-\n",
      "Lista de times do Brasileirão: ('Atlético-Mineiro', 'Flamengo', 'Palmeiras', 'Fortaleza', 'Corinthians', 'Red Bull Bragantino', 'Fluminense', 'America', 'Atlético', 'Santos', 'Ceará', 'Internacional', 'São Paulo', 'Athletico-PR', 'Cuiabá', 'Juventude', 'Grêmio', 'Bahia', 'Sport', 'Chapecoense')\n",
      "-=--=--=--=--=--=--=--=--=--=--=--=--=--=--=--=--=--=--=--=-\n",
      "Os 5 primeiros são: ('Atlético-Mineiro', 'Flamengo', 'Palmeiras', 'Fortaleza', 'Corinthians')\n",
      "-=--=--=--=--=--=--=--=--=--=--=--=--=--=--=--=--=--=--=--=-\n",
      "Os últimos 4 são: ('Grêmio', 'Bahia', 'Sport', 'Chapecoense')\n",
      "-=--=--=--=--=--=--=--=--=--=--=--=--=--=--=--=--=--=--=--=-\n",
      "Times em ordem alfabética ['America', 'Athletico-PR', 'Atlético', 'Atlético-Mineiro', 'Bahia', 'Ceará', 'Chapecoense', 'Corinthians', 'Cuiabá', 'Flamengo', 'Fluminense', 'Fortaleza', 'Grêmio', 'Internacional', 'Juventude', 'Palmeiras', 'Red Bull Bragantino', 'Santos', 'Sport', 'São Paulo']\n",
      "-=--=--=--=--=--=--=--=--=--=--=--=--=--=--=--=--=--=--=--=-\n",
      "O Chapecoense está na 20ª posição\n",
      "-=--=--=--=--=--=--=--=--=--=--=--=--=--=--=--=--=--=--=--=-\n"
     ]
    }
   ],
   "source": [
    "tabela= ('Atlético-Mineiro', 'Flamengo', 'Palmeiras', 'Fortaleza', 'Corinthians', 'Red Bull Bragantino', 'Fluminense',\n",
    "'America', 'Atlético', 'Santos', 'Ceará', 'Internacional', 'São Paulo', 'Athletico-PR', 'Cuiabá', 'Juventude', 'Grêmio',\n",
    "'Bahia', 'Sport', 'Chapecoense')  # Tuplas\n",
    "print( '-=-' * 20 )\n",
    "print( 'Lista de times do Brasileirão: {}'.format( tabela, end=' ' ))\n",
    "print( '-=-' * 20 )\n",
    "print( 'Os 5 primeiros são: {}'.format( tabela[0:5]))\n",
    "print( '-=-' * 20 )\n",
    "print( 'Os últimos 4 são: {}'.format( tabela[-4:]))\n",
    "print( '-=-' * 20 )\n",
    "print( 'Times em ordem alfabética {}'.format( sorted( tabela)))\n",
    "print( '-=-' * 20 )\n",
    "print( 'O Chapecoense está na {}ª posição'.format( tabela.index( 'Chapecoense' ) + 1))\n",
    "print( '-=-' * 20 )\n"
   ]
  },
  {
   "cell_type": "markdown",
   "id": "bf8b30b0",
   "metadata": {
    "ExecuteTime": {
     "end_time": "2021-12-23T13:47:07.425819Z",
     "start_time": "2021-12-23T13:47:07.416843Z"
    }
   },
   "source": [
    "#### Exercício 74\n",
    "   * Crie um programa que vai gerar cinco números aleatórios e colocar em uma tupla. Depois disso, mostre a listagem de números gerados e também indique o menor e o maior valor que estão na tupla."
   ]
  },
  {
   "cell_type": "code",
   "execution_count": 60,
   "id": "625a370e",
   "metadata": {
    "ExecuteTime": {
     "end_time": "2021-12-26T12:19:30.055789Z",
     "start_time": "2021-12-26T12:19:30.046812Z"
    }
   },
   "outputs": [
    {
     "name": "stdout",
     "output_type": "stream",
     "text": [
      "O valores sorteador foram:  1 5 1 4 5 \n",
      "O maior valor sorteado foi: 5\n",
      "O menor valor sorteado foi: 1\n"
     ]
    }
   ],
   "source": [
    "from random import randint\n",
    "numeros = (randint(1, 10), randint(1, 10), randint(1, 10), randint(1, 10), randint(1, 10) )  # Tuplas\n",
    "print( 'O valores sorteador foram: ',end=' ')\n",
    "for i in numeros:\n",
    "    print('{}'.format( i ), end=' ')\n",
    "print( '\\nO maior valor sorteado foi: {}'.format( max(numeros)))\n",
    "print( 'O menor valor sorteado foi: {}'.format( min(numeros)))\n"
   ]
  },
  {
   "cell_type": "markdown",
   "id": "c70f502a",
   "metadata": {},
   "source": [
    "### Exercício 75\n",
    "   * Desenvolva um programa que leia quatro valores pelo teclado e guarde-os em uma tupla. No final, mostre:\n",
    "    * Quantas vezes apareceu o valor 9.\n",
    "    * Em que posição foi digitado o primeiro valor 3.\n",
    "    * Quais foram os números pares."
   ]
  },
  {
   "cell_type": "code",
   "execution_count": 79,
   "id": "14d5dbf5",
   "metadata": {
    "ExecuteTime": {
     "end_time": "2021-12-26T12:44:09.436449Z",
     "start_time": "2021-12-26T12:44:04.803566Z"
    }
   },
   "outputs": [
    {
     "name": "stdout",
     "output_type": "stream",
     "text": [
      "Digite um número: 3\n",
      "Digite outro número: 4\n",
      "Digite mais um número: 9\n",
      "Digite o último número: 8\n",
      "Você digitou os valores (3, 4, 9, 8)\n",
      "O valor 9 apareceu 1 vezes\n",
      "O valor 3 apareceu na 1ª posição\n",
      "Os valores pares digitados foram 4 8 "
     ]
    }
   ],
   "source": [
    "num = ( int( input( 'Digite um número: ')),    # Tuplas\n",
    "       int( input( 'Digite outro número: ')),\n",
    "       int( input( 'Digite mais um número: ')),\n",
    "       int( input( 'Digite o último número: ')) )\n",
    "print( 'Você digitou os valores {}'.format( num ))\n",
    "print( 'O valor 9 apareceu {} vezes'.format( num.count( 9 )))\n",
    "if 3 in num:\n",
    "    print( 'O valor 3 apareceu na {}ª posição'.format( num.index( 3 ) + 1 ) )\n",
    "else:\n",
    "    print( 'O valor 3 não foi digitado em nenhuma posição')\n",
    "print( 'Os valores pares digitados foram ', end='')\n",
    "for n in num:\n",
    "    if n % 2 == 0:\n",
    "        print( n, end=' ')\n",
    "        "
   ]
  },
  {
   "cell_type": "markdown",
   "id": "fa1706f7",
   "metadata": {},
   "source": [
    "### Exercício 76 \n",
    "   * Crie um programa que tenha uma tupla única com nomes de produtos e seus respectivos preços, na sequência. No final, mostre uma listagem de preços, organizando os dados em forma tabular."
   ]
  },
  {
   "cell_type": "code",
   "execution_count": 108,
   "id": "fd8259ff",
   "metadata": {
    "ExecuteTime": {
     "end_time": "2021-12-26T13:13:21.105949Z",
     "start_time": "2021-12-26T13:13:21.087973Z"
    }
   },
   "outputs": [
    {
     "name": "stdout",
     "output_type": "stream",
     "text": [
      "----------------------------------------\n",
      "           Listagem de preço            \n",
      "----------------------------------------\n",
      "Caderno.......................R$  15.90\n",
      "lápis de cor..................R$   7.99\n",
      "Cola branca...................R$   2.20\n",
      "Borracha......................R$   0.75\n",
      "Apontador.....................R$   2.50\n",
      "Tesoura.......................R$   4.00\n",
      "Régua.........................R$   2.80\n",
      "Pasta.........................R$   6.99\n",
      "Estojo........................R$  10.50\n",
      "----------------------------------------\n"
     ]
    }
   ],
   "source": [
    "lista = ('Caderno', 15.90,   # Tuplas\n",
    "        'lápis de cor', 7.99,\n",
    "        'Cola branca', 2.20,\n",
    "        'Borracha', 0.75, \n",
    "        'Apontador', 2.50,\n",
    "        'Tesoura', 4.00,\n",
    "        'Régua', 2.80,\n",
    "        'Pasta', 6.99,\n",
    "        'Estojo', 10.50)\n",
    "print( '-' * 40)\n",
    "print( '{:^40}'.format( 'Listagem de preço' ))\n",
    "print( '-' * 40)\n",
    "for i in range( 0, len( lista )):\n",
    "    if i % 2 == 0:\n",
    "        print( '{:.<30}'.format( lista[i] ),end='')\n",
    "    else:\n",
    "        print( 'R${:>7.2f}'.format( lista[i] ))\n",
    "print( '-' * 40)\n"
   ]
  },
  {
   "cell_type": "markdown",
   "id": "139d6630",
   "metadata": {},
   "source": [
    "### Exercício 77 \n",
    "   * Crie um programa que tenha uma tupla com várias palavras (não usar acentos). Depois disso, você deve mostrar, para cada palavra, quais são as suas vogais."
   ]
  },
  {
   "cell_type": "code",
   "execution_count": 123,
   "id": "b414403a",
   "metadata": {
    "ExecuteTime": {
     "end_time": "2021-12-26T13:36:43.741378Z",
     "start_time": "2021-12-26T13:36:43.728439Z"
    }
   },
   "outputs": [
    {
     "name": "stdout",
     "output_type": "stream",
     "text": [
      "\n",
      "Na palavra APRENDER temos: A E E \n",
      "Na palavra PROGRAMAR temos: O A A \n",
      "Na palavra LINGUAGEM temos: I U A E \n",
      "Na palavra PYTHON temos: O \n",
      "Na palavra CURSO temos: U O \n",
      "Na palavra GRATIS temos: A I \n",
      "Na palavra ESTUDAR temos: E U A \n",
      "Na palavra PRATICA temos: A I A \n",
      "Na palavra TRABALHAR temos: A A A \n",
      "Na palavra MERCADO temos: E A O \n",
      "Na palavra PROGRAMADOR temos: O A A O \n",
      "Na palavra FUTURO temos: U U O "
     ]
    }
   ],
   "source": [
    "palavras = ( 'APRENDER',   # Tuplas\n",
    "            'PROGRAMAR',\n",
    "            'LINGUAGEM',\n",
    "            'PYTHON',\n",
    "            'CURSO',\n",
    "            'GRATIS',\n",
    "            'ESTUDAR',\n",
    "            'PRATICA',\n",
    "            'TRABALHAR',\n",
    "            'MERCADO',\n",
    "            'PROGRAMADOR',\n",
    "            'FUTURO' )\n",
    "for i in palavras:\n",
    "    print( '\\nNa palavra {} temos: '.format( i ), end='')\n",
    "    for letra in i:\n",
    "        if letra in 'AEIOU':\n",
    "            print( letra, end=' ')\n",
    "            "
   ]
  },
  {
   "cell_type": "markdown",
   "id": "b0c770b9",
   "metadata": {},
   "source": [
    "## Listas"
   ]
  },
  {
   "cell_type": "markdown",
   "id": "0bf1b71e",
   "metadata": {},
   "source": [
    "### Exercício 78\n",
    "   * Faça um programa que leia 5 valores numéricos e guarde-os em uma lista. No final, mostre qual foi o maior e o menor valor digitado e as suas respectivas posições na lista."
   ]
  },
  {
   "cell_type": "code",
   "execution_count": 39,
   "id": "2fd28144",
   "metadata": {
    "ExecuteTime": {
     "end_time": "2021-12-27T11:42:30.854312Z",
     "start_time": "2021-12-27T11:42:23.977173Z"
    }
   },
   "outputs": [
    {
     "name": "stdout",
     "output_type": "stream",
     "text": [
      "Digite um valor para a Posição 0: 1\n",
      "Digite um valor para a Posição 1: 8\n",
      "Digite um valor para a Posição 2: 8\n",
      "Digite um valor para a Posição 3: 2\n",
      "Digite um valor para a Posição 4: 1\n",
      "----------------------------------------\n",
      "Você digitou os valores [1, 8, 8, 2, 1]\n",
      "O maior valor digitado foi 8 nas posições 1... 2... \n",
      "O menor valor digitado foi 1 nas posições 0... 4... \n"
     ]
    }
   ],
   "source": [
    "lista = [] # Lista\n",
    "maior = 0\n",
    "menor = 0\n",
    "for i in range( 0, 5 ):\n",
    "    lista.append( int( input( 'Digite um valor para a Posição {}: '.format( i ))))\n",
    "    if i == 0:\n",
    "        maior = menor = lista[i]\n",
    "    else:\n",
    "        if lista[i] > maior:\n",
    "            maior = lista[i]\n",
    "        if lista[i] < menor:\n",
    "            menor = lista[i]\n",
    "print( '-' * 40)\n",
    "print( f'Você digitou os valores { lista }')\n",
    "print( f'O maior valor digitado foi { maior } nas posições ', end='')\n",
    "for p, v in enumerate( lista ):\n",
    "    if v == maior:\n",
    "        print( f'{ p }...', end=' ')\n",
    "print()\n",
    "print( f'O menor valor digitado foi { menor } nas posições ', end='')\n",
    "for p, v in enumerate( lista ):\n",
    "    if v == menor:\n",
    "        print( f'{ p }...', end=' ')\n",
    "print()\n"
   ]
  },
  {
   "cell_type": "markdown",
   "id": "07aa5a48",
   "metadata": {},
   "source": [
    "### Exercício 79 \n",
    "* Crie um programa onde o usuário possa digitar vários valores numéricos e cadastre-os em uma lista. Caso o número já exista lá dentro, ele não será adicionado. No final, serão exibidos todos os valores únicos digitados, em ordem crescente."
   ]
  },
  {
   "cell_type": "code",
   "execution_count": 66,
   "id": "45013dfc",
   "metadata": {
    "ExecuteTime": {
     "end_time": "2021-12-27T12:24:39.676342Z",
     "start_time": "2021-12-27T12:24:34.744131Z"
    }
   },
   "outputs": [
    {
     "name": "stdout",
     "output_type": "stream",
     "text": [
      "Digite um valor: 2\n",
      "Valor adicionado com sucesso...\n",
      "Quer continuar? [S/N] n\n",
      "------------------------------\n",
      "[2]\n"
     ]
    }
   ],
   "source": [
    "lista = [] # Lista\n",
    "while True:\n",
    "    num =  int( input( 'Digite um valor: '))\n",
    "    if num not in lista:\n",
    "        lista.append( num )\n",
    "        print( 'Valor adicionado com sucesso...')\n",
    "    else:\n",
    "        print( 'Valor duplicado! Não vou adicionar..' )    \n",
    "    opcao = ' '\n",
    "    while not opcao in 'SN':\n",
    "        opcao = str( input( 'Quer continuar? [S/N] ')).strip().upper()\n",
    "    if opcao == 'N':\n",
    "        break\n",
    "print( '-' * 30 )\n",
    "lista.sort()\n",
    "print( lista )\n"
   ]
  },
  {
   "cell_type": "markdown",
   "id": "b577b851",
   "metadata": {},
   "source": [
    "### Exercício 80\n",
    "   * Crie um programa onde o usuário possa digitar cinco valores numéricos e cadastre-os em uma lista, já na posição correta de inserção (sem usar o sort()). No final, mostre a lista ordenada na tela"
   ]
  },
  {
   "cell_type": "code",
   "execution_count": 70,
   "id": "8d1affc6",
   "metadata": {
    "ExecuteTime": {
     "end_time": "2021-12-27T13:13:31.309174Z",
     "start_time": "2021-12-27T13:13:16.375269Z"
    }
   },
   "outputs": [
    {
     "name": "stdout",
     "output_type": "stream",
     "text": [
      "Digite um valor: 8\n",
      "Adicionado ao final da lista\n",
      "Digite um valor: 1\n",
      "Adicionado  na posição 0 da lista\n",
      "Digite um valor: 7\n",
      "Adicionado  na posição 1 da lista\n",
      "Digite um valor: 10\n",
      "Adicionado ao final da lista\n",
      "Digite um valor: 0\n",
      "Adicionado  na posição 0 da lista\n",
      "------------------------------\n",
      "[0, 1, 7, 8, 10]\n"
     ]
    }
   ],
   "source": [
    "lista = [] # Lista\n",
    "for i in range( 0, 5):\n",
    "    num = int( input( 'Digite um valor: '))\n",
    "    if i == 0 or num > lista[-1]:\n",
    "        lista.append( num )\n",
    "        print( 'Adicionado ao final da lista')\n",
    "    else:\n",
    "        pos = 0\n",
    "        while pos < len( lista ):\n",
    "            if num <= lista[pos]:\n",
    "                lista.insert( pos, num )\n",
    "                print( f'Adicionado na posição { pos } da lista')\n",
    "                break\n",
    "            pos += 1\n",
    "print( '-' * 30 )\n",
    "print( lista )\n",
    "            "
   ]
  },
  {
   "cell_type": "markdown",
   "id": "b78e4d1c",
   "metadata": {},
   "source": [
    "### Exercício 81\n",
    "   * Crie um programa que vai ler vários números e colocar em uma lista. Depois disso, mostre:\n",
    "    * A) Quantos números foram digitados.\n",
    "    * B) A lista de valores, ordenada de forma decrescente.\n",
    "    * C) Se o valor 5 foi digitado e está ou não na lista."
   ]
  },
  {
   "cell_type": "code",
   "execution_count": 17,
   "id": "6ff3fab9",
   "metadata": {
    "ExecuteTime": {
     "end_time": "2021-12-28T19:22:50.833534Z",
     "start_time": "2021-12-28T19:22:40.461066Z"
    }
   },
   "outputs": [
    {
     "name": "stdout",
     "output_type": "stream",
     "text": [
      "Digite um valor: 9\n",
      "Quer continuar? [S/N] s\n",
      "Digite um valor: 2\n",
      "Quer continuar? [S/N] s\n",
      "Digite um valor: 4\n",
      "Quer continuar? [S/N] s\n",
      "Digite um valor: 3\n",
      "Quer continuar? [S/N] n\n",
      "-=--=--=--=--=--=--=--=--=--=--=--=--=--=--=--=--=--=--=--=-\n",
      "Você digitou 4 elementos.\n",
      "Os valores em ordem decrescente são [9, 4, 3, 2]\n",
      "O valor 5 não foi encontrado na lista\n"
     ]
    }
   ],
   "source": [
    "num = [] # Lista\n",
    "while True:\n",
    "    num.append( int( input( 'Digite um valor: ')) )\n",
    "    opcao = ' '\n",
    "    while not opcao in 'SN':\n",
    "        opcao = str( input( 'Quer continuar? [S/N] ')).strip().upper()\n",
    "    if opcao == 'N':\n",
    "        break\n",
    "print( '-=-' * 20 )   \n",
    "print( f'Você digitou {len( num )} elementos.')\n",
    "num.sort( reverse=True )\n",
    "print( f'Os valores em ordem decrescente são { num }')\n",
    "if 5 in num:\n",
    "    print( 'O valor 5 faz parte da lista!')\n",
    "else:\n",
    "    print( 'O valor 5 não foi encontrado na lista.') \n",
    "    "
   ]
  },
  {
   "cell_type": "markdown",
   "id": "121732f9",
   "metadata": {},
   "source": [
    "### Exercício 82\n",
    "   * Crie um programa que vai ler vários números e colocar em uma lista. Depois disso, crie duas listas extras que vão conter apenas os valores pares e os valores ímpares digitados, respectivamente. Ao final, mostre o conteúdo das três listas geradas."
   ]
  },
  {
   "cell_type": "code",
   "execution_count": 23,
   "id": "5103885c",
   "metadata": {
    "ExecuteTime": {
     "end_time": "2021-12-28T19:44:10.902055Z",
     "start_time": "2021-12-28T19:43:49.471395Z"
    }
   },
   "outputs": [
    {
     "name": "stdout",
     "output_type": "stream",
     "text": [
      "Digite um número: 8\n",
      "Quer continuar? [S/N] s\n",
      "Digite um número: 5\n",
      "Quer continuar? [S/N] s\n",
      "Digite um número: 12\n",
      "Quer continuar? [S/N] s\n",
      "Digite um número: 13\n",
      "Quer continuar? [S/N] s\n",
      "Digite um número: 15\n",
      "Quer continuar? [S/N] n\n",
      "-=--=--=--=--=--=--=--=--=--=--=--=-\n",
      "A lista completa é [8, 5, 12, 13, 15]\n",
      "A lista de pares é [8, 12]\n",
      "A lista de impares é [5, 13, 15]\n"
     ]
    }
   ],
   "source": [
    "lista = [] # Lista\n",
    "pares = [] # Lista\n",
    "impares = [] # Lista\n",
    "while True:\n",
    "    num =  int( input( 'Digite um número: '))\n",
    "    lista.append( num )\n",
    "    if num % 2 == 0:\n",
    "        pares.append( num )\n",
    "    else:\n",
    "        impares.append( num )\n",
    "    opcao = str( input( 'Quer continuar? [S/N] ') )\n",
    "    if opcao in 'Nn':\n",
    "        break\n",
    "print( '-=-' * 12 )\n",
    "print( f'A lista completa é { lista }')\n",
    "print( f'A lista de pares é { pares }')\n",
    "print( f'A lista de impares é { impares }')\n"
   ]
  },
  {
   "cell_type": "markdown",
   "id": "6d3bd105",
   "metadata": {},
   "source": [
    "### Exercício 83\n",
    "   * Crie um programa onde o usuário digite uma expressão qualquer que use parênteses. Seu aplicativo deverá analisar se a expressão passada está com os parênteses abertos e fechados na ordem correta."
   ]
  },
  {
   "cell_type": "code",
   "execution_count": 5,
   "id": "3119e7c0",
   "metadata": {
    "ExecuteTime": {
     "end_time": "2021-12-28T23:16:12.888988Z",
     "start_time": "2021-12-28T23:16:09.604693Z"
    }
   },
   "outputs": [
    {
     "name": "stdout",
     "output_type": "stream",
     "text": [
      "Digite a expressão: ()\n",
      "Sua expressão está válida!\n"
     ]
    }
   ],
   "source": [
    "expr = str( input( 'Digite a expressão: '))\n",
    "pilha = [] # Lista\n",
    "for simb in expr:\n",
    "    if simb == '(':\n",
    "        pilha.append( '(' )\n",
    "    elif simb == ')':\n",
    "        if len( pilha ) > 0:\n",
    "            pilha.pop()\n",
    "        else:\n",
    "            pilha.append( ')' )\n",
    "            break\n",
    "if len( pilha ) == 0:\n",
    "    print( 'Sua expressão está válida!' )\n",
    "else:\n",
    "    print( 'Sua expressão é invalida!')\n"
   ]
  },
  {
   "cell_type": "markdown",
   "id": "542f8a2c",
   "metadata": {},
   "source": [
    "### Exercício 84\n",
    "   * Faça um programa que leia nome e peso de várias pessoas, guardando tudo em uma lista. No final, mostre:\n",
    "    * Quantas pessoas foram cadastradas.\n",
    "    * Uma listagem com as pessoas mais pesadas.\n",
    "    * Uma listagem com as pessoas mais leves."
   ]
  },
  {
   "cell_type": "code",
   "execution_count": 112,
   "id": "f2290189",
   "metadata": {
    "ExecuteTime": {
     "end_time": "2021-12-29T16:31:20.892853Z",
     "start_time": "2021-12-29T16:30:58.872788Z"
    },
    "code_folding": []
   },
   "outputs": [
    {
     "name": "stdout",
     "output_type": "stream",
     "text": [
      "Nome: Bia\n",
      "Peso: 75\n",
      "Quer continuar? [S/N]: s\n",
      "Nome: Ana\n",
      "Peso: 75\n",
      "Quer continuar? [S/N]: s\n",
      "Nome: Rafael\n",
      "Peso: 15\n",
      "Quer continuar? [S/N]: s\n",
      "Nome: lucas\n",
      "Peso: 15\n",
      "Quer continuar? [S/N]: n\n",
      "-=--=--=--=--=--=--=--=--=--=--=--=--=--=--=-\n",
      "Ao todo, você cadastrou 4 pessoas\n",
      "O maior peso foi de 75Kg. Peso de [Bia] [Ana] \n",
      "O menor peso foi de 15Kg. Peso de [Rafael] [lucas] "
     ]
    }
   ],
   "source": [
    "temp = [] # Lista\n",
    "princ = [] # Lista\n",
    "maior = menor = 0\n",
    "while True:\n",
    "    temp.append( str( input( 'Nome: ')))\n",
    "    temp.append( int( input( 'Peso: ')))\n",
    "    if len( princ ) == 0:\n",
    "        maior = menor = temp[1]\n",
    "    else:\n",
    "        if temp[1] > maior:\n",
    "            maior = temp[1]\n",
    "        if temp[1] < menor:\n",
    "            menor = temp[1]\n",
    "    princ.append( temp[:] )\n",
    "    temp.clear()\n",
    "    opcao = str( input( 'Quer continuar? [S/N]: ')).strip().upper()\n",
    "    if opcao in 'N':\n",
    "        break\n",
    "print( '-=-' * 15 )    \n",
    "print( f'Ao todo, você cadastrou {len(princ)} pessoas')\n",
    "print( f'O maior peso foi de {maior}Kg. Peso de ', end='' )\n",
    "for p in princ:\n",
    "    if p[1] == maior:\n",
    "        print( f'[{p[0]}]', end=' ')\n",
    "print()\n",
    "print( f'O menor peso foi de {menor}Kg. Peso de ', end='' )\n",
    "for p in princ:\n",
    "    if p[1] == menor:\n",
    "        print( f'[{p[0]}]', end=' ')\n",
    "        "
   ]
  },
  {
   "cell_type": "markdown",
   "id": "e5b17663",
   "metadata": {},
   "source": [
    "### Exercício 85\n",
    "   * Crie um programa onde o usuário possa digitar sete valores numéricos e cadastre-os em uma lista única que mantenha separados os valores pares e ímpares. No final, mostre os valores pares e ímpares em ordem crescente."
   ]
  },
  {
   "cell_type": "code",
   "execution_count": 3,
   "id": "c0b09ff0",
   "metadata": {
    "ExecuteTime": {
     "end_time": "2022-01-12T22:32:50.157399Z",
     "start_time": "2022-01-12T22:32:42.776447Z"
    }
   },
   "outputs": [
    {
     "name": "stdout",
     "output_type": "stream",
     "text": [
      "Digite o 1º. valor: 5\n",
      "Digite o 2º. valor: 4\n",
      "Digite o 3º. valor: 8\n",
      "Digite o 4º. valor: 5\n",
      "Digite o 5º. valor: 4\n",
      "Digite o 6º. valor: 4\n",
      "Digite o 7º. valor: 4\n",
      "-=--=--=--=--=--=--=--=--=--=--=--=--=--=--=-\n",
      "Os Valores pares digitados foram: [4, 4, 4, 4, 8]\n",
      "Os Valores ímpares digitados foram: [5, 5]\n"
     ]
    }
   ],
   "source": [
    "lista = [[], []] # Lista\n",
    "for c in range( 0, 7 ):\n",
    "    num = int( input( f'Digite o {c+1}º. valor: '))\n",
    "    if num % 2 == 0:\n",
    "        lista[0].append( num )\n",
    "    else:\n",
    "        lista[1].append( num )\n",
    "lista[0].sort()\n",
    "lista[1].sort() \n",
    "print( '-=-' * 15 )\n",
    "print( f'Os Valores pares digitados foram: {lista[0]}' )\n",
    "print( f'Os Valores ímpares digitados foram: {lista[1]}' )\n"
   ]
  },
  {
   "cell_type": "markdown",
   "id": "19f036de",
   "metadata": {
    "ExecuteTime": {
     "end_time": "2021-12-29T14:26:17.087948Z",
     "start_time": "2021-12-29T14:26:17.079981Z"
    }
   },
   "source": [
    "### Exercício 86\n",
    "*  Crie um programa que declare uma matriz de dimensão 3×3 e preencha com valores lidos pelo teclado. No final, mostre a matriz na tela, com a formatação correta."
   ]
  },
  {
   "cell_type": "code",
   "execution_count": 125,
   "id": "95a77bfd",
   "metadata": {
    "ExecuteTime": {
     "end_time": "2021-12-29T18:36:10.830900Z",
     "start_time": "2021-12-29T18:35:52.078409Z"
    }
   },
   "outputs": [
    {
     "name": "stdout",
     "output_type": "stream",
     "text": [
      "Digite um valor para [0, 0]: 111\n",
      "Digite um valor para [0, 1]: 32\n",
      "Digite um valor para [0, 2]: 6\n",
      "Digite um valor para [1, 0]: 0\n",
      "Digite um valor para [1, 1]: 999\n",
      "Digite um valor para [1, 2]: 1234\n",
      "Digite um valor para [2, 0]: 40\n",
      "Digite um valor para [2, 1]: 1\n",
      "Digite um valor para [2, 2]: 0\n",
      "-=--=--=--=--=--=--=--=--=--=--=--=--=--=--=-\n",
      "[ 111 ] [ 32  ] [  6  ] \n",
      "[  0  ] [ 999 ] [1234 ] \n",
      "[ 40  ] [  1  ] [  0  ] \n"
     ]
    }
   ],
   "source": [
    "matriz = [ [0, 0, 0], [0, 0, 0], [0, 0, 0] ] # Lista\n",
    "for linha in range( 0, 3 ):\n",
    "    for coluna in range( 0, 3 ):\n",
    "        matriz[linha][coluna] = int( input( f'Digite um valor para [{linha}, {coluna}]: '))\n",
    "print( '-=-' * 15 )\n",
    "for linha in range( 0, 3 ):\n",
    "    for coluna in range( 0, 3):\n",
    "        print( f'[{matriz[linha][coluna]:^5}]', end=' ')\n",
    "    print()\n"
   ]
  },
  {
   "cell_type": "markdown",
   "id": "538f1263",
   "metadata": {},
   "source": [
    "### Exercício 87\n",
    "   * Aprimore o desafio anterior, mostrando no final: \n",
    "    * A soma de todos os valores pares digitados.\n",
    "    * A soma dos valores da terceira coluna.\n",
    "    * O maior valor da segunda linha."
   ]
  },
  {
   "cell_type": "code",
   "execution_count": 135,
   "id": "3edb181e",
   "metadata": {
    "ExecuteTime": {
     "end_time": "2021-12-29T19:10:02.254695Z",
     "start_time": "2021-12-29T19:09:56.199951Z"
    }
   },
   "outputs": [
    {
     "name": "stdout",
     "output_type": "stream",
     "text": [
      "Digite um valor para [0, 0]: 1\n",
      "Digite um valor para [0, 1]: 2\n",
      "Digite um valor para [0, 2]: 3\n",
      "Digite um valor para [1, 0]: 4\n",
      "Digite um valor para [1, 1]: 5\n",
      "Digite um valor para [1, 2]: 6\n",
      "Digite um valor para [2, 0]: 7\n",
      "Digite um valor para [2, 1]: 8\n",
      "Digite um valor para [2, 2]: 9\n",
      "-=--=--=--=--=--=--=--=--=--=--=--=--=--=--=-\n",
      "[  1  ] [  2  ] [  3  ] \n",
      "[  4  ] [  5  ] [  6  ] \n",
      "[  7  ] [  8  ] [  9  ] \n",
      "-=--=--=--=--=--=--=--=--=--=--=--=--=--=--=-\n",
      "A soma dos valores pares é 20\n",
      "A soma dos valores da terceira coluna é 18\n",
      "O maior valor da segunda linha é 6\n"
     ]
    }
   ],
   "source": [
    "matriz = [ [0, 0, 0], [0, 0, 0], [0, 0, 0] ] # Lista\n",
    "somapar =  somacoluna = maior = 0\n",
    "for linha in range( 0, 3 ):\n",
    "    for coluna in range( 0, 3 ):\n",
    "        matriz[linha][coluna] = int( input( f'Digite um valor para [{linha}, {coluna}]: '))\n",
    "print( '-=-' * 15 )\n",
    "for linha in range( 0, 3 ):\n",
    "    for coluna in range( 0, 3):\n",
    "        print( f'[{matriz[linha][coluna]:^5}]', end=' ')\n",
    "        if matriz[linha][coluna] % 2 == 0:\n",
    "            somapar += matriz[linha][coluna]\n",
    "    print()\n",
    "print( '-=-' * 15 )    \n",
    "\n",
    "\n",
    "print( f'A soma dos valores pares é {somapar}')\n",
    "for linha in range( 0, 3 ):\n",
    "    somacoluna += matriz[linha][2]\n",
    "print( f'A soma dos valores da terceira coluna é {somacoluna}')\n",
    "for coluna in range( 0, 3):\n",
    "    if coluna == 0:\n",
    "        maior = matriz[1][coluna]\n",
    "    elif matriz[1][coluna] > maior:\n",
    "        maior = matriz[1][coluna]\n",
    "print( f'O maior valor da segunda linha é {maior}')\n"
   ]
  },
  {
   "cell_type": "markdown",
   "id": "4c1e6a90",
   "metadata": {},
   "source": [
    "### Exercício 88\n",
    "   * Faça um programa que ajude um jogador da MEGA SENA a criar palpites.O programa vai perguntar quantos jogos serão gerados e vai sortear 6 números entre 1 e 60 para cada jogo, cadastrando tudo em uma lista composta."
   ]
  },
  {
   "cell_type": "code",
   "execution_count": 1,
   "id": "f4cbb15c",
   "metadata": {
    "ExecuteTime": {
     "end_time": "2022-01-12T22:20:49.185987Z",
     "start_time": "2022-01-12T22:20:42.509813Z"
    }
   },
   "outputs": [
    {
     "name": "stdout",
     "output_type": "stream",
     "text": [
      "------------------------------\n",
      "     JOGA NA MEGA SENA     \n",
      "------------------------------\n",
      "Quantos jogos você quer que eu sorteie? 5\n",
      "-=-=-= SORTEANDO 5 JOGOS =-=-=-\n",
      "Jogo 1: [8, 9, 10, 21, 38, 48]\n",
      "Jogo 2: [19, 21, 31, 39, 41, 50]\n",
      "Jogo 3: [23, 41, 46, 52, 53, 55]\n",
      "Jogo 4: [4, 13, 20, 40, 46, 58]\n",
      "Jogo 5: [14, 19, 24, 35, 42, 44]\n"
     ]
    }
   ],
   "source": [
    "from random import randint\n",
    "from time import sleep\n",
    "lista = [] # Lista\n",
    "jogos = []\n",
    "print( '-' * 30)\n",
    "print( '     JOGA NA MEGA SENA     ')\n",
    "print( '-' * 30)\n",
    "quant = int( input( 'Quantos jogos você quer que eu sorteie? '))\n",
    "tot = 1\n",
    "while tot <= quant:\n",
    "    cont = 0\n",
    "    while True:\n",
    "        num = randint( 1, 60)\n",
    "        if num not in lista:\n",
    "            lista.append( num )\n",
    "            cont += 1\n",
    "        if cont >= 6:\n",
    "            break\n",
    "    lista.sort()\n",
    "    jogos.append(lista[:])\n",
    "    lista.clear()\n",
    "    tot += 1\n",
    "print( '-=' * 3, f'SORTEANDO {quant} JOGOS', '=-' * 3)\n",
    "for i, lista in enumerate( jogos ):\n",
    "    print( f'Jogo {i+1}: {lista}')\n",
    "    sleep(1)\n",
    "\n"
   ]
  },
  {
   "cell_type": "markdown",
   "id": "6b2c6337",
   "metadata": {},
   "source": [
    "### Exercício 89\n",
    "* Crie um programa que leia nome e duas notas de vários alunos e guarde tudo em uma lista composta. No final, mostre um boletim contendo a média de cada um e permita que o usuário possa mostrar as notas de cada aluno individualmente."
   ]
  },
  {
   "cell_type": "code",
   "execution_count": 1,
   "id": "79cc1205",
   "metadata": {
    "ExecuteTime": {
     "end_time": "2022-01-14T22:11:48.017597Z",
     "start_time": "2022-01-14T22:11:04.595764Z"
    }
   },
   "outputs": [
    {
     "name": "stdout",
     "output_type": "stream",
     "text": [
      "Nome: Cassiano\n",
      "Nota 1: 7.5\n",
      "Nota 2: 9.2\n",
      "Quer continuar? [S/N] s\n",
      "Nome: Carlos\n",
      "Nota 1: 7.2\n",
      "Nota 2: 5.3\n",
      "Quer continuar? [S/N] n\n",
      "-=-=-=-=-=-=-=-=-=-=-=-=-=-=-=-=-=-=-=-=-=-=-=-=-=-=-=-=-=-=\n",
      "No. NOME         MÉDIA\n",
      "------------------------------\n",
      "0   Cassiano       8.3\n",
      "1   Carlos         6.2\n",
      "-----------------------------------\n",
      "Mostrar notas de qual aluno? (999 interrompe): 1\n",
      "Notas de Carlos são [7.2, 5.3]\n",
      "-----------------------------------\n",
      "Mostrar notas de qual aluno? (999 interrompe): 0\n",
      "Notas de Cassiano são [7.5, 9.2]\n",
      "-----------------------------------\n",
      "Mostrar notas de qual aluno? (999 interrompe): 999\n",
      "FINALIZADO...\n"
     ]
    }
   ],
   "source": [
    "ficha = [] # Lista\n",
    "while True:\n",
    "    nome = str( input( 'Nome: '))\n",
    "    nt1 = float( input( 'Nota 1: '))\n",
    "    nt2 = float( input( 'Nota 2: '))\n",
    "    media = ( nt1 + nt2 ) / 2\n",
    "    ficha.append( [nome, [nt1, nt2], media] )\n",
    "    opcao = str( input( 'Quer continuar? [S/N] '))\n",
    "    if opcao in 'Nn':\n",
    "        break\n",
    "print( '-=' * 30)\n",
    "print(f'{\"No.\":<4}{\"NOME\":<10}{\"MÉDIA\":>8}')\n",
    "print( '-' * 30 )\n",
    "for i, a in enumerate( ficha ):\n",
    "    print(f'{i:<4}{a[0]:<10}{a[2]:>8.1f}')\n",
    "while True:\n",
    "    print( '-' * 35 )\n",
    "    opc = int( input( 'Mostrar notas de qual aluno? (999 interrompe): '))\n",
    "    if opc == 999:\n",
    "        print( 'FINALIZADO...')\n",
    "        break\n",
    "    if opc <= len( ficha ) -1:\n",
    "        print(f'Notas de {ficha[opc][0]} são {ficha[opc][1]}')\n",
    "        "
   ]
  },
  {
   "cell_type": "markdown",
   "id": "7c852260",
   "metadata": {},
   "source": [
    "## Dicionários"
   ]
  },
  {
   "cell_type": "markdown",
   "id": "dc9504aa",
   "metadata": {},
   "source": [
    "### Exercício 90\n",
    "* Faça um programa que leia nome e média de um aluno, guardando também a situação em um dicionário. No final, mostre o conteúdo da estrutura na tela."
   ]
  },
  {
   "cell_type": "code",
   "execution_count": 32,
   "id": "7816c7c4",
   "metadata": {
    "ExecuteTime": {
     "end_time": "2022-01-14T22:37:34.886653Z",
     "start_time": "2022-01-14T22:37:30.602002Z"
    }
   },
   "outputs": [
    {
     "name": "stdout",
     "output_type": "stream",
     "text": [
      "Nome: Bia\n",
      "Média de Bia: 8.2\n",
      "-=-=-=-=-=-=-=-=-=-=-=-=-=-=-=-=-=-=-=-=\n",
      " -nome é igual a Bia\n",
      " -média é igual a 8.2\n",
      " -situação é igual a Aprovado\n"
     ]
    }
   ],
   "source": [
    "dados = {} # Dicionário\n",
    "dados['nome'] = str( input( 'Nome: '))\n",
    "dados['média'] = float( input(f'Média de {dados[\"nome\"]}: '))\n",
    "print( '-=' * 20 )\n",
    "if dados['média'] >= 7:\n",
    "    dados['situação'] = 'Aprovado'\n",
    "elif ( dados['média'] >= 5 ) & ( dados['média'] < 7 ):\n",
    "    dados['situação'] = 'Recuperação'\n",
    "else: \n",
    "    dados['situação'] = 'Reprovado'\n",
    "for i, l in dados.items():\n",
    "    print(f' -{i} é igual a {l}' )\n"
   ]
  },
  {
   "cell_type": "markdown",
   "id": "cf6ddcf4",
   "metadata": {},
   "source": [
    "### Exercício 91\n",
    "* Crie um programa onde 4 jogadores joguem um dado e tenham resultados aleatórios. Guarde esses resultados em um dicionário em Python. No final, coloque esse dicionário em ordem, sabendo que o vencedor tirou o maior número no dado."
   ]
  },
  {
   "cell_type": "code",
   "execution_count": 69,
   "id": "9f028dcb",
   "metadata": {
    "ExecuteTime": {
     "end_time": "2022-01-14T23:08:29.498267Z",
     "start_time": "2022-01-14T23:08:21.425710Z"
    }
   },
   "outputs": [
    {
     "name": "stdout",
     "output_type": "stream",
     "text": [
      "=== Valores Sorteados ===\n",
      "jogado1 tirou 6 no dado.\n",
      "jogado2 tirou 3 no dado.\n",
      "jogado3 tirou 5 no dado.\n",
      "jogado4 tirou 4 no dado.\n",
      "-=-=-=-=-=-=-=-=-=-=-=-=-=-=-=\n",
      "=== Ranking dos Jogadores ===\n",
      "1º lugar: jogado1 com 6\n",
      "2º lugar: jogado3 com 5\n",
      "3º lugar: jogado4 com 4\n",
      "4º lugar: jogado2 com 3\n"
     ]
    }
   ],
   "source": [
    "from random import randint\n",
    "from time import sleep\n",
    "from operator import itemgetter\n",
    "jogo = {                            # Dicionário\n",
    "        'jogado1': randint(1, 6),\n",
    "        'jogado2': randint(1, 6),\n",
    "        'jogado3': randint(1, 6),\n",
    "        'jogado4': randint(1, 6),}\n",
    "ranking = list()                    # lista\n",
    "print( '=== Valores Sorteados ===' )\n",
    "for n, j in jogo.items():\n",
    "    print(f'{n} tirou {j} no dado.' )\n",
    "    sleep(1)\n",
    "ranking = sorted( jogo.items(), key=itemgetter(1), reverse=True)\n",
    "print( '-=' * 15 )\n",
    "print( '=== Ranking dos Jogadores ===' )\n",
    "for i, v in enumerate( ranking ):\n",
    "    print(f'{i+1}º lugar: {v[0]} com {v[1]}')\n",
    "    sleep(1)\n"
   ]
  },
  {
   "cell_type": "markdown",
   "id": "ff8dceea",
   "metadata": {},
   "source": [
    "### Exercício 92\n",
    "* Crie um programa que leia nome, ano de nascimento e carteira de trabalho e cadastre-o (com idade) em um dicionário. Se por acaso a CTPS for diferente de ZERO, o dicionário receberá também o ano de contratação e o salário. Calcule e acrescente, além da idade, com quantos anos a pessoa vai se aposentar."
   ]
  },
  {
   "cell_type": "code",
   "execution_count": 33,
   "id": "c47fee4a",
   "metadata": {
    "ExecuteTime": {
     "end_time": "2022-01-15T12:41:45.454218Z",
     "start_time": "2022-01-15T12:41:31.792302Z"
    },
    "code_folding": []
   },
   "outputs": [
    {
     "name": "stdout",
     "output_type": "stream",
     "text": [
      "Nome: Bia\n",
      "Ano de Nascimento: 1987\n",
      "Carteira de Trabalho (0 não tem): 582\n",
      "Ano de Contratação: 2009\n",
      "Salário: R$487\n",
      "-=-=-=-=-=-=-=-=-=-=-=-=-=-=-=-=-=-=-=-=-=-=-=-=-=\n",
      " -nome tem o valor Bia\n",
      " -idade tem o valor 22\n",
      " -ctps tem o valor 582\n",
      " -contratação tem o valor 2009\n",
      " -salário tem o valor 487.0\n",
      " -aposentadoria tem o valor 22\n"
     ]
    }
   ],
   "source": [
    "from datetime import datetime\n",
    "dados = {} # Dicionário\n",
    "dados['nome'] = str( input( 'Nome: '))\n",
    "nasc =  int( input( 'Ano de Nascimento: '))\n",
    "dados['idade'] = datetime.now().year - nasc\n",
    "dados['ctps'] = int( input( 'Carteira de Trabalho (0 não tem): '))\n",
    "if dados['ctps'] != 0:\n",
    "    dados['contratação'] = int( input( 'Ano de Contratação: '))\n",
    "    dados['salário'] = float( input( 'Salário: R$' ))\n",
    "    print( '-=' * 25 )\n",
    "    dados['aposentadoria'] = dados['idade'] = ((dados['contratação'] + 35) - datetime.now().year)\n",
    "for k, v in dados.items():\n",
    "    print(f' -{k} tem o valor {v}')\n"
   ]
  },
  {
   "cell_type": "markdown",
   "id": "add9642d",
   "metadata": {},
   "source": [
    "### Exercício 93\n",
    "* Crie um programa que gerencie o aproveitamento de um jogador de futebol. O programa vai ler o nome do jogador e quantas partidas ele jogou. Depois vai ler a quantidade de gols feitos em cada partida. No final, tudo isso será guardado em um dicionário, incluindo o total de gols feitos durante o campeonato."
   ]
  },
  {
   "cell_type": "code",
   "execution_count": 83,
   "id": "d3f3bd21",
   "metadata": {
    "ExecuteTime": {
     "end_time": "2022-01-15T13:46:47.759695Z",
     "start_time": "2022-01-15T13:46:36.325540Z"
    }
   },
   "outputs": [
    {
     "name": "stdout",
     "output_type": "stream",
     "text": [
      "Nome do Jogador: Helio\n",
      "Quantas partidas Helio jogou? 3\n",
      "    Quantas gols na partida 1? 0\n",
      "    Quantas gols na partida 2? 1\n",
      "    Quantas gols na partida 3? 5\n",
      "-=-=-=-=-=-=-=-=-=-=-=-=-=-=-=-=-=-=-=-=-=-=-=-=-=-=-=-=-=-=\n",
      "{'nome': 'Helio', 'gols': [0, 1, 5], 'total': 6}\n",
      "-=-=-=-=-=-=-=-=-=-=-=-=-=-=-=-=-=-=-=-=-=-=-=-=-=-=-=-=-=-=\n",
      "O campo nome tem o valor Helio\n",
      "O campo gols tem o valor [0, 1, 5]\n",
      "O campo total tem o valor 6\n",
      "-=-=-=-=-=-=-=-=-=-=-=-=-=-=-=-=-=-=-=-=-=-=-=-=-=-=-=-=-=-=\n",
      "O Jogador Helio jogou 3 partidas.\n",
      "  => Na partida 1, fez 0 gols.\n",
      "  => Na partida 2, fez 1 gols.\n",
      "  => Na partida 3, fez 5 gols.\n",
      "Foi um total de 6 gols\n"
     ]
    }
   ],
   "source": [
    "jogador = {} # Dicionário\n",
    "partidas = [] # Lista\n",
    "jogador['nome'] = str( input( 'Nome do Jogador: '))\n",
    "tot = int( input(f'Quantas partidas {jogador[\"nome\"]} jogou? '))\n",
    "for c in range(1, tot + 1):\n",
    "    partidas.append(int(input(f'    Quantas gols na partida {c}? ')))\n",
    "jogador['gols'] = partidas[:]\n",
    "jogador['total'] = sum(partidas)\n",
    "print( '-='  * 30)\n",
    "print(jogador)\n",
    "print( '-='  * 30)\n",
    "for k, v in jogador.items():\n",
    "    print(f'O campo {k} tem o valor {v}')\n",
    "print( '-='  * 30)\n",
    "print(f'O Jogador {jogador[\"nome\"]} jogou {len(jogador[\"gols\"])} partidas.')\n",
    "for i, v in enumerate( jogador['gols'] ):\n",
    "    print(f'  => Na partida {i + 1}, fez {v} gols.')\n",
    "print(f'Foi um total de {jogador[\"total\"]} gols')\n"
   ]
  },
  {
   "cell_type": "markdown",
   "id": "a63e7d25",
   "metadata": {},
   "source": [
    "### Exercício 94\n",
    "* Crie um programa que leia nome, sexo e idade de várias pessoas, guardando os dados de cada pessoa em um dicionário e todos os dicionários em uma lista. No final, mostre: \n",
    " * A) Quantas pessoas foram cadastradas \n",
    " * B) A média de idade \n",
    " * C) Uma lista com as mulheres \n",
    " * D) Uma lista de pessoas com idade acima da média"
   ]
  },
  {
   "cell_type": "code",
   "execution_count": 109,
   "id": "4d483b74",
   "metadata": {
    "ExecuteTime": {
     "end_time": "2022-01-15T15:10:37.027474Z",
     "start_time": "2022-01-15T15:08:57.308626Z"
    }
   },
   "outputs": [
    {
     "name": "stdout",
     "output_type": "stream",
     "text": [
      "Nome: Theo\n",
      "Sexo [M/F]: m\n",
      "Idade: 12\n",
      "Quer continuar? [S/N]s\n",
      "Nome: Lurdes\n",
      "Sexo [M/F]: f\n",
      "Idade: 72\n",
      "Quer continuar? [S/N]s\n",
      "Nome: Joaquim\n",
      "Sexo [M/F]: t\n",
      "ERRO! Por Favor, digite apenas M ou F.\n",
      "Sexo [M/F]: m\n",
      "Idade: 52\n",
      "Quer continuar? [S/N]s\n",
      "Nome: Bia\n",
      "Sexo [M/F]: f\n",
      "Idade: 32\n",
      "Quer continuar? [S/N]n\n",
      "-=-=-=-=-=-=-=-=-=-=-=-=-=-=-=-=-=-=-=-=\n",
      "A) Ao todo temos 4 pessoas cadastradas.\n",
      "B) A média de idade é de 42.00 anos.\n",
      "C) As mulheres cadastradas foram Lurdes  Bia  \n",
      "D) Lista de pessoas com idade acima da média: \n",
      "   \n",
      "nome = Lurdes;  sexo = F;  idade = 72;  \n",
      "   \n",
      "nome = Joaquim;  sexo = M;  idade = 52;  \n",
      "<< ENCERRADO >>\n"
     ]
    }
   ],
   "source": [
    "galera = [] # Lista\n",
    "pessoa = {} # Dicionário\n",
    "somaidade = 0\n",
    "while True:\n",
    "    pessoa.clear()\n",
    "    pessoa['nome'] = str( input( 'Nome: '))\n",
    "    while True:\n",
    "        pessoa['sexo'] = str( input( 'Sexo [M/F]: ')).upper()[0]\n",
    "        if pessoa['sexo'] in 'MF':\n",
    "            break\n",
    "        print( 'ERRO! Por Favor, digite apenas M ou F.' )\n",
    "    pessoa['idade'] = int( input( 'Idade: '))\n",
    "    somaidade += pessoa['idade']\n",
    "    galera.append(pessoa.copy())\n",
    "    while True:\n",
    "        opc = str( input( 'Quer continuar? [S/N]')).upper()[0]\n",
    "        if opc in 'SN':\n",
    "            break\n",
    "        print( 'ERRO! Responda apenas S ou N.')\n",
    "    if opc == 'N':\n",
    "        break\n",
    "print( '-=' * 20)\n",
    "print( f'A) Ao todo temos {len(galera)} pessoas cadastradas.')\n",
    "mediaidade = somaidade / len(galera)\n",
    "print( f'B) A média de idade é de {mediaidade:5.2f} anos.' )\n",
    "print( 'C) As mulheres cadastradas foram', end=' ' )\n",
    "for p in galera:\n",
    "    if p['sexo'] == 'F':\n",
    "        print( f'{p[\"nome\"]} ', end=' ')\n",
    "print()\n",
    "print( 'D) Lista de pessoas com idade acima da média: ')\n",
    "for p in galera:\n",
    "    if p['idade'] >= mediaidade:\n",
    "        print('   ')\n",
    "        for k, v in p.items():\n",
    "            print( f'{k} = {v}; ',  end=' ')\n",
    "        print()\n",
    "print( '<< ENCERRADO >>')\n",
    "        "
   ]
  },
  {
   "cell_type": "markdown",
   "id": "d163efd4",
   "metadata": {},
   "source": [
    "### Exercício 95\n",
    "* Aprimore o desafio 93 para que ele funcione com vários jogadores, incluindo um sistema de visualização de detalhes do aproveitamento de cada jogador."
   ]
  },
  {
   "cell_type": "code",
   "execution_count": 17,
   "id": "6f0653c4",
   "metadata": {
    "ExecuteTime": {
     "end_time": "2022-01-16T23:11:42.042655Z",
     "start_time": "2022-01-16T23:10:43.092778Z"
    }
   },
   "outputs": [
    {
     "name": "stdout",
     "output_type": "stream",
     "text": [
      "Nome do Jogador: Pedro\n",
      "Quantas partidas Pedro jogou? 2\n",
      "    Quantas gols na partida 1? 0\n",
      "    Quantas gols na partida 2? 3\n",
      "Quer continuar? [S/N]s\n",
      "Nome do Jogador: Carlos\n",
      "Quantas partidas Carlos jogou? 1\n",
      "    Quantas gols na partida 1? 3\n",
      "Quer continuar? [S/N]s\n",
      "Nome do Jogador: Ronaldo\n",
      "Quantas partidas Ronaldo jogou? 3\n",
      "    Quantas gols na partida 1? 2\n",
      "    Quantas gols na partida 2? 1\n",
      "    Quantas gols na partida 3? 3\n",
      "Quer continuar? [S/N]n\n",
      "-=-=-=-=-=-=-=-=-=-=-=-=-=-=-=-=-=-=-=-=-=-=-=-=-=-=-=-=-=-=\n",
      "cod nome            gols            total           \n",
      "-=-=-=-=-=-=-=-=-=-=-=-=-=-=-=-=-=-=-=-=-=-=-=-=-=-=-=-=-=-=\n",
      "  0 Pedro           [0, 3]          3               \n",
      "  1 Carlos          [3]             3               \n",
      "  2 Ronaldo         [2, 1, 3]       6               \n",
      "-=-=-=-=-=-=-=-=-=-=-=-=-=-=-=-=-=-=-=-=-=-=-=-=-=-=-=-=-=-=\n",
      "Mostrar dados de qual jogador? (999 para para) 0\n",
      " -- LEVANTAMENTO DO JOGADOR Pedro:\n",
      "    No jogo 1 fez 0 gols.\n",
      "    No jogo 2 fez 3 gols.\n",
      "-=-=-=-=-=-=-=-=-=-=-=-=-=-=-=-=-=-=-=-=-=-=-=-=-=-=-=-=-=-=\n",
      "Mostrar dados de qual jogador? (999 para para) 1\n",
      " -- LEVANTAMENTO DO JOGADOR Carlos:\n",
      "    No jogo 1 fez 3 gols.\n",
      "-=-=-=-=-=-=-=-=-=-=-=-=-=-=-=-=-=-=-=-=-=-=-=-=-=-=-=-=-=-=\n",
      "Mostrar dados de qual jogador? (999 para para) 999\n",
      "<< Volte Sempre! >>\n"
     ]
    }
   ],
   "source": [
    "time = [] # Lista\n",
    "jogador = {} # Dicionário\n",
    "partidas = [] # Lista\n",
    "\n",
    "while True:\n",
    "    jogador.clear()\n",
    "    jogador['nome'] = str( input( 'Nome do Jogador: '))\n",
    "    tot = int( input(f'Quantas partidas {jogador[\"nome\"]} jogou? '))\n",
    "    partidas.clear()\n",
    "    for c in range(1, tot + 1):\n",
    "        partidas.append(int(input(f'    Quantas gols na partida {c}? ')))\n",
    "    jogador['gols'] = partidas[:]\n",
    "    jogador['total'] = sum(partidas)\n",
    "    time.append( jogador.copy() )\n",
    "    while True:\n",
    "        opc = str( input( 'Quer continuar? [S/N]')).upper()[0]\n",
    "        if opc in 'SN':\n",
    "            break\n",
    "        print( 'ERRO! Responda apenas S ou N.')\n",
    "    if opc == 'N':\n",
    "        break\n",
    "print( '-='  * 30)\n",
    "print( 'cod', end=' ')\n",
    "for i in jogador.keys():\n",
    "    print(f'{i:<15}', end=' ')\n",
    "print()\n",
    "print( '-=' * 30)\n",
    "for k, v in enumerate( time ):\n",
    "    print(f'{k:>3}', end=' ')\n",
    "    for d in v.values():\n",
    "        print(f'{str(d):<15}', end=' ')\n",
    "    print()\n",
    "print( '-=' * 30)\n",
    "while True:\n",
    "    busca = int( input( 'Mostrar dados de qual jogador? (999 para para) '))\n",
    "    if busca == 999:\n",
    "        break\n",
    "    if busca >= len( time ):\n",
    "        print( f'Erro! Não existe jogador com código {busca}!')\n",
    "    else:\n",
    "        print( f' -- LEVANTAMENTO DO JOGADOR {time[busca][\"nome\"]}:')\n",
    "        for i, g in enumerate(time[busca][\"gols\"]):\n",
    "            print(f'    No jogo {i+1} fez {g} gols.')\n",
    "    print( '-=' * 30)\n",
    "print( '<< Volte Sempre! >>')\n"
   ]
  },
  {
   "cell_type": "markdown",
   "id": "b02ad5b8",
   "metadata": {},
   "source": [
    "## Funções"
   ]
  },
  {
   "cell_type": "markdown",
   "id": "2db5c2c9",
   "metadata": {
    "ExecuteTime": {
     "end_time": "2022-01-16T14:02:14.927156Z",
     "start_time": "2022-01-16T14:02:14.917157Z"
    }
   },
   "source": [
    "### Exercício 96\n",
    "* Faça um programa que tenha uma função chamada área(), que receba as dimensões de um terreno retangular (largura e comprimento) e mostre a área do terreno."
   ]
  },
  {
   "cell_type": "code",
   "execution_count": 51,
   "id": "fed5909b",
   "metadata": {
    "ExecuteTime": {
     "end_time": "2022-01-19T23:52:42.653453Z",
     "start_time": "2022-01-19T23:52:39.644104Z"
    }
   },
   "outputs": [
    {
     "name": "stdout",
     "output_type": "stream",
     "text": [
      "controle de terreno\n",
      "--------------------\n",
      "LARGURA (m): 2\n",
      "COMPRIMENTO (m): 5\n",
      "A área de um terreno 2.0 x 5.0 é de 10.0m\n"
     ]
    }
   ],
   "source": [
    "def area(larg, comp):\n",
    "    a = larg * comp\n",
    "    print(f'A área de um terreno {larg} x {comp} é de {a}m')\n",
    "    \n",
    "print( 'controle de terreno')\n",
    "print( '-' * 20)\n",
    "l = float( input( 'LARGURA (m): '))\n",
    "c = float( input( 'COMPRIMENTO (m): '))\n",
    "area(l, c)\n"
   ]
  },
  {
   "cell_type": "markdown",
   "id": "bd09e389",
   "metadata": {},
   "source": [
    "### Exercício 97\n",
    "* Faça um programa que tenha uma função chamada escreva(), que receba um texto qualquer como parâmetro e mostre uma mensagem com tamanho adaptável."
   ]
  },
  {
   "cell_type": "code",
   "execution_count": 26,
   "id": "c93d4ffc",
   "metadata": {
    "ExecuteTime": {
     "end_time": "2022-01-17T23:31:41.626865Z",
     "start_time": "2022-01-17T23:31:41.614868Z"
    }
   },
   "outputs": [
    {
     "name": "stdout",
     "output_type": "stream",
     "text": [
      "~~~~~~~~~~~~~~~~~~~~~~\n",
      "  Cassiano Schmeiske\n",
      "~~~~~~~~~~~~~~~~~~~~~~\n",
      "~~~~~~\n",
      "  Oi\n",
      "~~~~~~\n",
      "~~~~~~~~~~\n",
      "  Python\n",
      "~~~~~~~~~~\n"
     ]
    }
   ],
   "source": [
    "def escreva( msg ):\n",
    "    tam = len( msg ) + 4\n",
    "    print( '~' * tam )\n",
    "    print( f'  {msg}' )\n",
    "    print( '~' * tam )\n",
    "    \n",
    "#Programa Principal    \n",
    "escreva( 'Cassiano Schmeiske' )\n",
    "escreva( 'Oi' )\n",
    "escreva( 'Python' )"
   ]
  },
  {
   "cell_type": "markdown",
   "id": "3474ab25",
   "metadata": {},
   "source": [
    "### Exercício 98\n",
    "* Faça um programa que tenha uma função chamada contador(), que receba três parâmetros: início, fim e passo. Seu programa tem que realizar três contagens através da função criada:\n",
    " * a) de 1 até 10, de 1 em 1\n",
    " * b) de 10 até 0, de 2 em 2\n",
    " * c) uma contagem personalizada"
   ]
  },
  {
   "cell_type": "code",
   "execution_count": 65,
   "id": "a7965afe",
   "metadata": {
    "ExecuteTime": {
     "end_time": "2022-01-20T00:15:09.904910Z",
     "start_time": "2022-01-20T00:14:45.386235Z"
    }
   },
   "outputs": [
    {
     "name": "stdout",
     "output_type": "stream",
     "text": [
      "-=-=-=-=-=-=-=-=-=-=-=-=-=-=-=-=-=-=-=-=\n",
      "Contagem de 1 até 10 de 1 em 1\n",
      "1 2 3 4 5 6 7 8 9 10 FIM!\n",
      "-=-=-=-=-=-=-=-=-=-=-=-=-=-=-=-=-=-=-=-=\n",
      "-=-=-=-=-=-=-=-=-=-=-=-=-=-=-=-=-=-=-=-=\n",
      "Contagem de 10 até 0 de 2 em 2\n",
      "10 8 6 4 2 0 FIM!\n",
      "-=-=-=-=-=-=-=-=-=-=-=-=-=-=-=-=-=-=-=-=\n",
      "Agora é sua vez de personalizar a contagem!\n",
      "Início: 10\n",
      "Fim: 100\n",
      "Passagem: 20\n",
      "-=-=-=-=-=-=-=-=-=-=-=-=-=-=-=-=-=-=-=-=\n",
      "Contagem de 10 até 100 de 20 em 20\n",
      "10 30 50 70 90 FIM!\n",
      "-=-=-=-=-=-=-=-=-=-=-=-=-=-=-=-=-=-=-=-=\n"
     ]
    }
   ],
   "source": [
    "from time import sleep\n",
    "def contador(i, f, p):   # Docstrings\n",
    "    \"\"\"\n",
    "    -> Faz uma contagem e mostra na tela.   \n",
    "    :param i: início da contagem\n",
    "    :param f: fim da contagem\n",
    "    :param p: passo da contagem\n",
    "    :return: sem retorno\n",
    "    \"\"\"\n",
    "    if p < 0:\n",
    "        p *= -1\n",
    "    if p == 0:\n",
    "        p =1\n",
    "    print( '-=' * 20)\n",
    "    print(f'Contagem de {i} até {f} de {p} em {p}')\n",
    "    sleep( 2 )\n",
    "\n",
    "    if i < f:\n",
    "        cont = i\n",
    "        while cont <= f:\n",
    "            print(f'{cont} ', end='')\n",
    "            sleep( 0.5 )\n",
    "            cont += p\n",
    "        print( 'FIM!')\n",
    "    else:\n",
    "        cont = i\n",
    "        while cont >= f:\n",
    "            print(f'{cont} ', end='')\n",
    "            sleep( 0.5 )\n",
    "            cont -= p\n",
    "        print( 'FIM!')\n",
    "    print( '-=' * 20)\n",
    "\n",
    "#Programa Principal\n",
    "contador(1, 10, 1)\n",
    "contador(10, 0, 2)\n",
    "print( 'Agora é sua vez de personalizar a contagem!' )\n",
    "ini = int( input ( 'Início: '))\n",
    "fim = int( input ( 'Fim: '))\n",
    "pas = int( input( 'Passagem: '))\n",
    "contador(ini, fim, pas)\n"
   ]
  },
  {
   "cell_type": "markdown",
   "id": "3440a0d2",
   "metadata": {},
   "source": [
    "### Docstrings"
   ]
  },
  {
   "cell_type": "code",
   "execution_count": 67,
   "id": "ee0a28a3",
   "metadata": {
    "ExecuteTime": {
     "end_time": "2022-01-20T00:15:44.143752Z",
     "start_time": "2022-01-20T00:15:44.131760Z"
    }
   },
   "outputs": [
    {
     "name": "stdout",
     "output_type": "stream",
     "text": [
      "Help on function contador in module __main__:\n",
      "\n",
      "contador(i, f, p)\n",
      "    -> Faz uma contagem e mostra na tela.\n",
      "    :param i: início da contagem\n",
      "    :param f: fim da contagem\n",
      "    :param p: passo da contagem\n",
      "    :return: sem retorno\n",
      "\n"
     ]
    }
   ],
   "source": [
    "help(contador)  "
   ]
  },
  {
   "cell_type": "markdown",
   "id": "a7184fc2",
   "metadata": {},
   "source": [
    "### Exercício 99 \n",
    "* Faça um programa que tenha uma função chamada maior(), que receba vários parâmetros com valores inteiros. Seu programa tem que analisar todos os valores e dizer qual deles é o maior."
   ]
  },
  {
   "cell_type": "code",
   "execution_count": 10,
   "id": "4a9a656a",
   "metadata": {
    "ExecuteTime": {
     "end_time": "2022-01-19T23:01:17.714316Z",
     "start_time": "2022-01-19T23:01:12.721647Z"
    }
   },
   "outputs": [
    {
     "name": "stdout",
     "output_type": "stream",
     "text": [
      "-=-=-=-=-=-=-=-=-=-=-=-=-=-=-=-=-=-=-=-=\n",
      "\n",
      "Analisando os valores passados...\n",
      "3 8 7 15 27 foram informados 5 números ao todo.\n",
      "O 27 é o maior deles. \n",
      "-=-=-=-=-=-=-=-=-=-=-=-=-=-=-=-=-=-=-=-=\n",
      "\n",
      "Analisando os valores passados...\n",
      "33 54 27 42 foram informados 4 números ao todo.\n",
      "O 54 é o maior deles. \n",
      "-=-=-=-=-=-=-=-=-=-=-=-=-=-=-=-=-=-=-=-=\n",
      "\n",
      "Analisando os valores passados...\n",
      "4 7 0 foram informados 3 números ao todo.\n",
      "O 7 é o maior deles. \n",
      "-=-=-=-=-=-=-=-=-=-=-=-=-=-=-=-=-=-=-=-=\n",
      "\n",
      "Analisando os valores passados...\n",
      "47 72 800 127 foram informados 4 números ao todo.\n",
      "O 800 é o maior deles. \n"
     ]
    }
   ],
   "source": [
    "from time import sleep\n",
    "def maior( * num ):\n",
    "    cont = maior = 0\n",
    "    print( '-=' * 20)\n",
    "    print( '\\nAnalisando os valores passados...')\n",
    "    for valor in num:\n",
    "        print( f'{valor}', end=' ')\n",
    "        sleep(0.3)\n",
    "        if cont == 0:\n",
    "            maior = valor\n",
    "        else:\n",
    "            if valor > maior:\n",
    "                maior = valor\n",
    "        cont += 1\n",
    "    print( f'foram informados {cont} números ao todo.' )\n",
    "    print( f'O {maior} é o maior deles. ')\n",
    "        \n",
    "# Programa Principal        \n",
    "maior(3, 8, 7, 15, 27)\n",
    "maior(33, 54, 27, 42)\n",
    "maior( 4, 7, 0)\n",
    "maior( 47, 72, 800, 127)\n"
   ]
  },
  {
   "cell_type": "markdown",
   "id": "259c5169",
   "metadata": {},
   "source": [
    "### Exercício 100\n",
    "* Faça um programa que tenha uma lista chamada números e duas funções chamadas sorteia() e somaPar(). A primeira função vai sortear 5 números e vai colocá-los dentro da lista e a segunda função vai mostrar a soma entre todos os valores pares sorteados pela função anterior."
   ]
  },
  {
   "cell_type": "code",
   "execution_count": 50,
   "id": "fbd8776a",
   "metadata": {
    "ExecuteTime": {
     "end_time": "2022-01-19T23:51:41.417984Z",
     "start_time": "2022-01-19T23:51:39.868146Z"
    }
   },
   "outputs": [
    {
     "name": "stdout",
     "output_type": "stream",
     "text": [
      "Sorteando 5 valores da lista: 10 2 7 9 3 PRONTO!\n",
      "A soma dos valores pares de [10, 2, 7, 9, 3], temos 12\n"
     ]
    }
   ],
   "source": [
    "from random import randint\n",
    "from time import sleep\n",
    "\n",
    "def sorteia( lista ):\n",
    "    print( 'Sorteando 5 valores da lista: ', end='')\n",
    "    for c in range(0, 5):\n",
    "        n = randint(1, 10)\n",
    "        lista.append( n )\n",
    "        print(f'{n}', end=' ')\n",
    "        sleep(0.3)\n",
    "    print( 'PRONTO!')\n",
    "    \n",
    "def somapar( lista ):\n",
    "    soma = 0\n",
    "    for n in lista:\n",
    "        if n % 2 == 0:\n",
    "            soma += n\n",
    "    print( f'A soma dos valores pares de {lista}, temos {soma}' )\n",
    "\n",
    "#Programa Principal\n",
    "numeros = []\n",
    "sorteia( numeros )\n",
    "somapar( numeros )\n"
   ]
  },
  {
   "cell_type": "markdown",
   "id": "a0af3abc",
   "metadata": {},
   "source": [
    "### Exercício 101\n",
    "* Crie um programa que tenha uma função chamada voto() que vai receber como parâmetro o ano de nascimento de uma pessoa, retornando um valor literal indicando se uma pessoa tem voto NEGADO, OPCIONAL e OBRIGATÓRIO nas eleições."
   ]
  },
  {
   "cell_type": "code",
   "execution_count": 18,
   "id": "b9b1e6ca",
   "metadata": {
    "ExecuteTime": {
     "end_time": "2022-01-20T23:34:43.851467Z",
     "start_time": "2022-01-20T23:34:42.009997Z"
    }
   },
   "outputs": [
    {
     "name": "stdout",
     "output_type": "stream",
     "text": [
      "Em que ano você nasceu? 2010\n",
      "Com 12 anos: voto NEGADO!\n"
     ]
    }
   ],
   "source": [
    "def voto( ano ):\n",
    "    from datetime import date\n",
    "    atual = date.today().year\n",
    "    idade = atual - ano\n",
    "    if idade < 16:\n",
    "        return f'Com {idade} anos: voto NEGADO!'\n",
    "    elif ( idade >= 16 ) & ( idade < 18 ) or ( idade > 65 ):\n",
    "        return f'Com {idade} anos: voto é OPCIONAL.'\n",
    "    else:\n",
    "        return f'Com {idade} anos: voto é OBRIGATÓTIO!'\n",
    "\n",
    "# Programa Principal\n",
    "nasc = int( input( 'Em que ano você nasceu? '))\n",
    "print( voto( nasc ))\n"
   ]
  },
  {
   "cell_type": "markdown",
   "id": "50764583",
   "metadata": {},
   "source": [
    "### Exercício 102\n",
    "* Crie um programa que tenha uma função fatorial() que receba dois parâmetros: o primeiro que indique o número a calcular e outro chamado show, que será um valor lógico (opcional) indicando se será mostrado ou não na tela o processo de cálculo do fatorial."
   ]
  },
  {
   "cell_type": "code",
   "execution_count": 47,
   "id": "89aeb84d",
   "metadata": {
    "ExecuteTime": {
     "end_time": "2022-01-21T00:05:44.791319Z",
     "start_time": "2022-01-21T00:05:44.786307Z"
    }
   },
   "outputs": [
    {
     "name": "stdout",
     "output_type": "stream",
     "text": [
      "5 x 4 x 3 x 2 x 1 = 120\n"
     ]
    }
   ],
   "source": [
    "def fatorial( n, show=False ): # show -> (opcional) Mostra ou não a conta.\n",
    "    \"\"\"\n",
    "    -> Calcula o Fatorial de um número.\n",
    "    :param n: O número a ser calculado\n",
    "    :param show: (opcional) Mostra ou não a conta.\n",
    "    :return: O valor do Fatorial de um número n.    \n",
    "    \"\"\"\n",
    "    f=1\n",
    "    for c in range(n, 0, -1):\n",
    "        if show:\n",
    "            print( c, end=' ')\n",
    "            if c > 1:\n",
    "                print('x', end=' ')\n",
    "            else:\n",
    "                print( '=', end=' ')\n",
    "        f *=c\n",
    "    return f\n",
    "\n",
    "# Programa Principal\n",
    "print( fatorial(5, show=True) )\n"
   ]
  },
  {
   "cell_type": "markdown",
   "id": "4856da9d",
   "metadata": {},
   "source": [
    "### Docstrings"
   ]
  },
  {
   "cell_type": "code",
   "execution_count": 48,
   "id": "39d7d028",
   "metadata": {
    "ExecuteTime": {
     "end_time": "2022-01-21T00:05:47.489660Z",
     "start_time": "2022-01-21T00:05:47.474700Z"
    }
   },
   "outputs": [
    {
     "name": "stdout",
     "output_type": "stream",
     "text": [
      "Help on function fatorial in module __main__:\n",
      "\n",
      "fatorial(n, show=False)\n",
      "    -> Calcula o Fatorial de um número.\n",
      "    :param n: O número a ser calculado\n",
      "    :param show: (opcional) Mostra ou não a conta.\n",
      "    :return: O valor do Fatorial de um número n.\n",
      "\n"
     ]
    }
   ],
   "source": [
    "help( fatorial )"
   ]
  },
  {
   "cell_type": "markdown",
   "id": "f828c9ec",
   "metadata": {},
   "source": [
    "### Exercício 103\n",
    "* Faça um programa que tenha uma função chamada ficha(), que receba dois parâmetros opcionais: o nome de um jogador e quantos gols ele marcou. O programa deverá ser capaz de mostrar a ficha do jogador, mesmo que algum dado não tenha sido informado corretamente."
   ]
  },
  {
   "cell_type": "code",
   "execution_count": 51,
   "id": "aca30177",
   "metadata": {
    "ExecuteTime": {
     "end_time": "2022-01-21T00:41:40.530619Z",
     "start_time": "2022-01-21T00:41:39.427981Z"
    }
   },
   "outputs": [
    {
     "name": "stdout",
     "output_type": "stream",
     "text": [
      "Nome do jogador: \n",
      "Número de Gols: \n",
      "O jogador <desconhecido> fez 0 gol(s) no campeonato.\n"
     ]
    }
   ],
   "source": [
    "def ficha(jog='<desconhecido>', gol=0):\n",
    "    print(f'O jogador {jog} fez {gol} gol(s) no campeonato.')\n",
    "    \n",
    "# Programa Principal\n",
    "n = str( input( 'Nome do jogador: '))\n",
    "g = str( input('Número de Gols: ' ))\n",
    "if g.isnumeric():\n",
    "    g = int( g )\n",
    "else:\n",
    "    g = 0\n",
    "if n.strip() == '':\n",
    "    ficha(gol=g)\n",
    "else:\n",
    "    ficha(n, g)\n"
   ]
  },
  {
   "cell_type": "markdown",
   "id": "8517202f",
   "metadata": {},
   "source": [
    "### Exercício 104\n",
    "* Crie um programa que tenha a função leiaInt(), que vai funcionar de forma semelhante ‘a função input() do Python, só que fazendo a validação para aceitar apenas um valor numérico. Ex: n = leiaInt(‘Digite um n: ‘)"
   ]
  },
  {
   "cell_type": "code",
   "execution_count": 54,
   "id": "df4a0b7e",
   "metadata": {
    "ExecuteTime": {
     "end_time": "2022-01-21T00:58:03.283841Z",
     "start_time": "2022-01-21T00:58:00.812892Z"
    }
   },
   "outputs": [
    {
     "name": "stdout",
     "output_type": "stream",
     "text": [
      "Digite um número: \n",
      "\u001b[0;31mERRO! Digite um número inteiro válido.\u001b[m\n",
      "Digite um número: 5\n",
      "Você acabou de digitar o número 5\n"
     ]
    }
   ],
   "source": [
    "def leiaint( msg ):\n",
    "    ok = False\n",
    "    valor = 0\n",
    "    while True:\n",
    "        n = str( input( msg ))\n",
    "        if n.isnumeric():\n",
    "            valor = int( n )\n",
    "            ok = True\n",
    "        else:\n",
    "            print( '\\033[0;31mERRO! Digite um número inteiro válido.\\033[m')\n",
    "        if ok:\n",
    "            break\n",
    "    return valor    \n",
    "    \n",
    "# Programa Principal\n",
    "n = leiaint( 'Digite um número: ')\n",
    "print( f'Você acabou de digitar o número {n}')\n"
   ]
  },
  {
   "cell_type": "markdown",
   "id": "5c2d1ced",
   "metadata": {},
   "source": [
    "### Exercício 105\n",
    "* Faça um programa que tenha uma função notas() que pode receber várias notas de alunos e vai retornar um dicionário com as seguintes informações:\n",
    " * Quantidade de notas\n",
    " * A maior nota\n",
    " * A menor nota\n",
    " * A média da turma\n",
    " * A situação (opcional)"
   ]
  },
  {
   "cell_type": "code",
   "execution_count": 16,
   "id": "6faf9c17",
   "metadata": {
    "ExecuteTime": {
     "end_time": "2022-01-22T12:35:51.418174Z",
     "start_time": "2022-01-22T12:35:51.403214Z"
    }
   },
   "outputs": [
    {
     "name": "stdout",
     "output_type": "stream",
     "text": [
      "{'total': 3, 'maior': 7.0, 'menor': 5.5, 'média': 6.233333333333333, 'situação': 'RAZOÁVEL'}\n"
     ]
    }
   ],
   "source": [
    "def notas( *n, sit=False ):\n",
    "    \"\"\"\n",
    "    -> Função para analisar notas e situações de vários alunos.\n",
    "    :param n: uma ou mais notas dos alunos (aceita várias)\n",
    "    :param sit: valor (opcional), indicando se deve ou não adicionar a situação\n",
    "    :return: dicionário com várias informações sobre a situação da turma.\n",
    "    \"\"\"\n",
    "    r = dict()  # {} Dicionário\n",
    "    r['total'] = len( n )\n",
    "    r['maior'] = max( n )\n",
    "    r['menor'] = min( n )\n",
    "    r['média'] = sum( n ) / len( n )\n",
    "    if sit:\n",
    "        if r['média'] >= 7:\n",
    "            r['situação'] = 'BOA'\n",
    "        elif r['média'] >= 5:\n",
    "            r['situação'] = 'RAZOÁVEL'\n",
    "        else:\n",
    "            r['situação'] = 'RUIM'\n",
    "            \n",
    "    return( r )\n",
    "\n",
    "# Programa Principal\n",
    "resp = notas(6.2, 7.0, 5.5, sit=True)\n",
    "print( resp )\n"
   ]
  },
  {
   "cell_type": "markdown",
   "id": "5be92aa9",
   "metadata": {},
   "source": [
    "### Docstrings"
   ]
  },
  {
   "cell_type": "code",
   "execution_count": 17,
   "id": "bfbcbe7f",
   "metadata": {
    "ExecuteTime": {
     "end_time": "2022-01-22T12:35:53.776943Z",
     "start_time": "2022-01-22T12:35:53.762981Z"
    }
   },
   "outputs": [
    {
     "name": "stdout",
     "output_type": "stream",
     "text": [
      "Help on function notas in module __main__:\n",
      "\n",
      "notas(*n, sit=False)\n",
      "    -> Função para analisar notas e situações de vários alunos.\n",
      "    :param n: uma ou mais notas dos alunos (aceita várias)\n",
      "    :param sit: valor (opcional), indicando se deve ou não adicionar a situação\n",
      "    :return: dicionário com várias informações sobre a situação da turma.\n",
      "\n"
     ]
    }
   ],
   "source": [
    "help( notas )"
   ]
  },
  {
   "cell_type": "markdown",
   "id": "92a4c484",
   "metadata": {},
   "source": [
    "### Exercício 106\n",
    "* Faça um mini-sistema que utilize o Interactive Help do Python. O usuário vai digitar o comando e o manual vai aparecer. Quando o usuário digitar a palavra ‘FIM’, o programa se encerrará. Importante: use cores."
   ]
  },
  {
   "cell_type": "code",
   "execution_count": 37,
   "id": "4a4fd92b",
   "metadata": {
    "ExecuteTime": {
     "end_time": "2022-01-22T13:31:28.757458Z",
     "start_time": "2022-01-22T13:31:02.523062Z"
    },
    "code_folding": []
   },
   "outputs": [
    {
     "name": "stdout",
     "output_type": "stream",
     "text": [
      "\u001b[0;30;42m ~~~~~~~~~~~~~~~~~~~~~~~~~~~\n",
      "  SISTEMA DE AJUDA PyHELP\n",
      "~~~~~~~~~~~~~~~~~~~~~~~~~~~\n",
      "\u001b[m Função ou Biblioteca > print\n",
      "\u001b[0;30;44m ~~~~~~~~~~~~~~~~~~~~~~~~~~~~~~~~~~~~~~~~~\n",
      "  Acessando o manual do comando 'print'\n",
      "~~~~~~~~~~~~~~~~~~~~~~~~~~~~~~~~~~~~~~~~~\n",
      "\u001b[m \u001b[7;30mHelp on built-in function print in module builtins:\n",
      "\n",
      "print(...)\n",
      "    print(value, ..., sep=' ', end='\\n', file=sys.stdout, flush=False)\n",
      "    \n",
      "    Prints the values to a stream, or to sys.stdout by default.\n",
      "    Optional keyword arguments:\n",
      "    file:  a file-like object (stream); defaults to the current sys.stdout.\n",
      "    sep:   string inserted between values, default a space.\n",
      "    end:   string appended after the last value, default a newline.\n",
      "    flush: whether to forcibly flush the stream.\n",
      "\n",
      "\u001b[m\u001b[0;30;42m ~~~~~~~~~~~~~~~~~~~~~~~~~~~\n",
      "  SISTEMA DE AJUDA PyHELP\n",
      "~~~~~~~~~~~~~~~~~~~~~~~~~~~\n",
      "\u001b[m Função ou Biblioteca > len\n",
      "\u001b[0;30;44m ~~~~~~~~~~~~~~~~~~~~~~~~~~~~~~~~~~~~~~~\n",
      "  Acessando o manual do comando 'len'\n",
      "~~~~~~~~~~~~~~~~~~~~~~~~~~~~~~~~~~~~~~~\n",
      "\u001b[m \u001b[7;30mHelp on built-in function len in module builtins:\n",
      "\n",
      "len(obj, /)\n",
      "    Return the number of items in a container.\n",
      "\n",
      "\u001b[m\u001b[0;30;42m ~~~~~~~~~~~~~~~~~~~~~~~~~~~\n",
      "  SISTEMA DE AJUDA PyHELP\n",
      "~~~~~~~~~~~~~~~~~~~~~~~~~~~\n",
      "\u001b[m Função ou Biblioteca > fim\n",
      "\u001b[0;30;41m ~~~~~~~~~~~~~\n",
      "  ATÉ LOGO!\n",
      "~~~~~~~~~~~~~\n",
      "\u001b[m "
     ]
    }
   ],
   "source": [
    "from time import sleep\n",
    "c = ('\\033[m',          # 0 -> sem cores\n",
    "     '\\033[0;30;41m',   # 1 -> vermelho\n",
    "     '\\033[0;30;42m',   # 2 -> verde\n",
    "     '\\033[0;30;43m',   # 3 -> amarelo\n",
    "     '\\033[0;30;44m',   # 4 -> azul\n",
    "     '\\033[0;30;45m',   # 5 -> roxo\n",
    "     '\\033[7;30m'       # 6 -> branco\n",
    "     );\n",
    "\n",
    "\n",
    "def ajuda( com ):\n",
    "    titulo( f'Acessando o manual do comando \\'{com}\\'', 4 )\n",
    "    print(c[6], end='')\n",
    "    help( com )\n",
    "    print(c[0], end='')\n",
    "    sleep( 2 )\n",
    "    \n",
    "def titulo( msg, cor=0 ):\n",
    "    tam = len( msg ) + 4\n",
    "    print(c[cor], end=' ')\n",
    "    print( '~' * tam)\n",
    "    print( f'  {msg}' )\n",
    "    print( '~' * tam)\n",
    "    print(c[0], end=' ')\n",
    "    sleep( 1 )\n",
    "\n",
    "# Programa Principal\n",
    "comando = ''\n",
    "while True:\n",
    "    titulo( 'SISTEMA DE AJUDA PyHELP', 2 )\n",
    "    comando = str( input( 'Função ou Biblioteca > '))\n",
    "    if comando.upper() == 'FIM':\n",
    "        break\n",
    "    else:\n",
    "        ajuda( comando )\n",
    "titulo('ATÉ LOGO!', 1)\n"
   ]
  },
  {
   "cell_type": "markdown",
   "id": "2a76719b",
   "metadata": {},
   "source": [
    "## Modularização"
   ]
  },
  {
   "cell_type": "markdown",
   "id": "f7553ad3",
   "metadata": {},
   "source": [
    "### Exercício 107\n",
    "* Crie um módulo chamado moeda.py que tenha as funções incorporadas aumentar(), diminuir(), dobro() e metade(). Faça também um programa que importe esse módulo e use algumas funções."
   ]
  },
  {
   "cell_type": "code",
   "execution_count": 3,
   "id": "e4ec1cd1",
   "metadata": {
    "ExecuteTime": {
     "end_time": "2022-01-22T22:05:35.772973Z",
     "start_time": "2022-01-22T22:05:33.270920Z"
    }
   },
   "outputs": [
    {
     "name": "stdout",
     "output_type": "stream",
     "text": [
      "Digite o preço R$500\n",
      "A metade de R$500.0 é R$250.0\n",
      "O dobro de R$500.0 é R$1000.0\n",
      "Aumetando 10%, temos R$550.0\n"
     ]
    }
   ],
   "source": [
    "import moeda\n",
    "\n",
    "# Programa Principal\n",
    "p = float( input( 'Digite o preço R$' )) \n",
    "print( f'A metade de R${p} é R${moeda.metade( p )}' )\n",
    "print( f'O dobro de R${p} é R${moeda.dobro( p )}' )\n",
    "print( f'Aumetando 10%, temos R${moeda.aumentar( p, 10 )}' )\n"
   ]
  },
  {
   "cell_type": "markdown",
   "id": "bdb62c65",
   "metadata": {},
   "source": [
    "### Exercício 108\n",
    "* Adapte o código do desafio #107, criando uma função adicional chamada moeda() que consiga mostrar os números como um valor monetário formatado."
   ]
  },
  {
   "cell_type": "code",
   "execution_count": 3,
   "id": "eeeb747d",
   "metadata": {
    "ExecuteTime": {
     "end_time": "2022-01-22T22:19:08.653941Z",
     "start_time": "2022-01-22T22:19:06.539812Z"
    }
   },
   "outputs": [
    {
     "name": "stdout",
     "output_type": "stream",
     "text": [
      "Digite o preço R$500\n",
      "A metade de R$R$500,00 é R$R$250,00\n",
      "O dobro de R$R$500,00 é R$R$1000,00\n",
      "Aumetando 10%, temos R$550.0\n"
     ]
    }
   ],
   "source": [
    "import moeda\n",
    "\n",
    "# Programa Principal\n",
    "p = float( input( 'Digite o preço R$' )) \n",
    "print( f'A metade de R${moeda.moeda( p )} é R${moeda.moeda(moeda.metade( p ))}' )\n",
    "print( f'O dobro de R${moeda.moeda( p )} é R${moeda.moeda(moeda.dobro( p ))}' )\n",
    "print( f'Aumetando 10%, temos R${moeda.aumentar( p, 10 )}' )\n"
   ]
  },
  {
   "cell_type": "markdown",
   "id": "0fbc93fd",
   "metadata": {},
   "source": [
    "### Exercício 109\n",
    "* Modifique as funções que form criadas no desafio 107 para que elas aceitem um parâmetro a mais, informando se o valor retornado por elas vai ser ou não formatado pela função moeda(), desenvolvida no desafio 108."
   ]
  },
  {
   "cell_type": "code",
   "execution_count": 6,
   "id": "c40689ec",
   "metadata": {
    "ExecuteTime": {
     "end_time": "2022-01-25T22:45:03.382865Z",
     "start_time": "2022-01-25T22:45:00.643595Z"
    }
   },
   "outputs": [
    {
     "name": "stdout",
     "output_type": "stream",
     "text": [
      "Digite o preço R$154\n",
      "A metade de R$R$154,00 é R$R$77,00\n",
      "O dobro de R$R$154,00 é R$R$308,00\n",
      "Aumetando 10%, temos R$R$169,40\n",
      "Reduzir 13%, temos R$R$133,98\n"
     ]
    }
   ],
   "source": [
    "import moeda\n",
    "\n",
    "# Programa Principal\n",
    "p = float( input( 'Digite o preço R$' )) \n",
    "print( f'A metade de R${moeda.moeda( p )} é R${moeda.metade( p, True )}' )\n",
    "print( f'O dobro de R${moeda.moeda( p )} é R${moeda.dobro( p, True )}' )\n",
    "print( f'Aumetando 10%, temos R${moeda.aumentar( p, 10, True )}' )\n",
    "print( f'Reduzir 13%, temos R${moeda.diminuir(p, 13, True)}' )\n"
   ]
  },
  {
   "cell_type": "markdown",
   "id": "be8f21e1",
   "metadata": {},
   "source": [
    "### Exercício 110\n",
    "* Adicione o módulo moeda.py criado nos desafios anteriores, uma função chamada resumo(), que mostre na tela algumas informações geradas pelas funções que já temos no módulo criado até aqui."
   ]
  },
  {
   "cell_type": "code",
   "execution_count": 3,
   "id": "e2dc58ea",
   "metadata": {
    "ExecuteTime": {
     "end_time": "2022-01-23T22:04:25.960240Z",
     "start_time": "2022-01-23T22:04:23.521781Z"
    }
   },
   "outputs": [
    {
     "name": "stdout",
     "output_type": "stream",
     "text": [
      "Digite o preço R$500\n",
      "-----------------------------------\n",
      "       RESUMO DO VALOR        \n",
      "-----------------------------------\n",
      "Preço analisado: \tR$500,00\n",
      "Dobro do preço: \tR$1000,00\n",
      "Metade do preço \tR$250,00\n",
      "20% de aumento: \tR$600,00\n",
      "12% de redução: \tR$440,00\n",
      "-----------------------------------\n"
     ]
    }
   ],
   "source": [
    "import moeda\n",
    "\n",
    "# Programa Principal\n",
    "p = float( input( 'Digite o preço R$' )) \n",
    "moeda.resumo( p, 20, 12 )\n"
   ]
  },
  {
   "cell_type": "markdown",
   "id": "6e95265f",
   "metadata": {},
   "source": [
    "### Docstrings"
   ]
  },
  {
   "cell_type": "code",
   "execution_count": 3,
   "id": "27d5a621",
   "metadata": {
    "ExecuteTime": {
     "end_time": "2022-01-23T03:15:36.154432Z",
     "start_time": "2022-01-23T03:15:36.144434Z"
    }
   },
   "outputs": [
    {
     "name": "stdout",
     "output_type": "stream",
     "text": [
      "Help on module moeda:\n",
      "\n",
      "NAME\n",
      "    moeda\n",
      "\n",
      "FUNCTIONS\n",
      "    aumentar(valor=0, taxa=0, formato=False)\n",
      "        :param valor: preço inserido para base de calculo\n",
      "        :param taxa: valor referente a porcentagem para calculo de ( aumentar & diminuir )\n",
      "        :return: valores obtidos após execução da função\n",
      "    \n",
      "    diminuir(valor=0, taxa=0, formato=False)\n",
      "    \n",
      "    dobro(valor=0, formato=False)\n",
      "    \n",
      "    metade(valor=0, formato=False)\n",
      "    \n",
      "    moeda(valor=0, moeda='R$')\n",
      "    \n",
      "    resumo(valor=0, taxaa=10, taxar=5)\n",
      "\n",
      "FILE\n",
      "    c:\\users\\uuser\\repose\\curso_fundamento_da_programação\\moeda.py\n",
      "\n",
      "\n"
     ]
    }
   ],
   "source": [
    "help( moeda )"
   ]
  },
  {
   "cell_type": "markdown",
   "id": "97694592",
   "metadata": {},
   "source": [
    "### Exercício 111\n",
    "* Crie um pacote chamado utilidadesCeV que tenha dois módulos internos chamados moeda e dado. Transfira todas as funções utilizadas nos desafios 107, 108 e 109 para o primeiro pacote e mantenha tudo funcionando."
   ]
  },
  {
   "cell_type": "code",
   "execution_count": 5,
   "id": "e3d79ff1",
   "metadata": {
    "ExecuteTime": {
     "end_time": "2022-01-25T22:44:54.405659Z",
     "start_time": "2022-01-25T22:44:50.157092Z"
    }
   },
   "outputs": [
    {
     "name": "stdout",
     "output_type": "stream",
     "text": [
      "Digite o preço R$150\n",
      "-----------------------------------\n",
      "       RESUMO DO VALOR        \n",
      "-----------------------------------\n",
      "Preço analisado: \tR$150,00\n",
      "Dobro do preço: \tR$300,00\n",
      "Metade do preço \tR$75,00\n",
      "35% de aumento: \tR$202,50\n",
      "22% de redução: \tR$117,00\n",
      "-----------------------------------\n"
     ]
    }
   ],
   "source": [
    "from utilidadescev import moeda\n",
    "from utilidadescev import dado\n",
    "\n",
    "# Programa Principal\n",
    "p = dado.leiadinheiro( 'Digite o preço R$' )\n",
    "moeda.resumo( p, 35, 22 )\n"
   ]
  },
  {
   "cell_type": "markdown",
   "id": "7c05b922",
   "metadata": {},
   "source": [
    "### Exercício 112\n",
    "* Dentro do pacote utilidadesCeV que criamos no desafio 111, temos um módulo chamado dado. Crie uma função chamada leiaDinheiro() que seja capaz de funcionar como a função imputa(), mas com uma validação de dados para aceitar apenas valores que seja monetários."
   ]
  },
  {
   "cell_type": "code",
   "execution_count": 9,
   "id": "32eb1237",
   "metadata": {
    "ExecuteTime": {
     "end_time": "2022-01-25T23:55:50.912545Z",
     "start_time": "2022-01-25T23:55:47.065589Z"
    }
   },
   "outputs": [
    {
     "name": "stdout",
     "output_type": "stream",
     "text": [
      "Digite o preço R$5.65\n",
      "-----------------------------------\n",
      "       RESUMO DO VALOR        \n",
      "-----------------------------------\n",
      "Preço analisado: \tR$5,65\n",
      "Dobro do preço: \tR$11,30\n",
      "Metade do preço \tR$2,83\n",
      "35% de aumento: \tR$7,63\n",
      "22% de redução: \tR$4,41\n",
      "-----------------------------------\n"
     ]
    }
   ],
   "source": [
    "from utilidadescev import moeda\n",
    "from utilidadescev import dado\n",
    "\n",
    "# Programa Principal\n",
    "p = dado.leiadinheiro( 'Digite o preço R$' )\n",
    "moeda.resumo( p, 35, 22 )\n"
   ]
  },
  {
   "cell_type": "markdown",
   "id": "c4f6807f",
   "metadata": {},
   "source": [
    "### Docstrings"
   ]
  },
  {
   "cell_type": "code",
   "execution_count": 24,
   "id": "671a048b",
   "metadata": {
    "ExecuteTime": {
     "end_time": "2022-01-23T22:21:14.007527Z",
     "start_time": "2022-01-23T22:21:13.992541Z"
    }
   },
   "outputs": [
    {
     "name": "stdout",
     "output_type": "stream",
     "text": [
      "Help on package utilidadescev.moeda in utilidadescev:\n",
      "\n",
      "NAME\n",
      "    utilidadescev.moeda\n",
      "\n",
      "PACKAGE CONTENTS\n",
      "\n",
      "\n",
      "FUNCTIONS\n",
      "    aumentar(valor=0, taxa=0, formato=False)\n",
      "        -> Calculao aumento de um determinado preço,\n",
      "        retornando com ou sem fomatação.\n",
      "        :param valor: o preço que se quer reajustar.\n",
      "        :param taxa: qual é a porcentagem de aumento.\n",
      "        :return: o valor reajustado, com ou sem formato.\n",
      "    \n",
      "    diminuir(valor=0, taxa=0, formato=False)\n",
      "    \n",
      "    dobro(valor=0, formato=False)\n",
      "    \n",
      "    metade(valor=0, formato=False)\n",
      "    \n",
      "    moeda(valor=0, moeda='R$')\n",
      "    \n",
      "    resumo(valor=0, taxaa=10, taxar=5)\n",
      "\n",
      "FILE\n",
      "    c:\\users\\uuser\\repose\\curso_fundamento_da_programação\\utilidadescev\\moeda\\__init__.py\n",
      "\n",
      "\n"
     ]
    }
   ],
   "source": [
    "help( moeda )"
   ]
  },
  {
   "cell_type": "markdown",
   "id": "4b86e700",
   "metadata": {},
   "source": [
    "## Tratamento de Erros"
   ]
  },
  {
   "cell_type": "markdown",
   "id": "ebae288e",
   "metadata": {},
   "source": [
    "### Exercício 113"
   ]
  },
  {
   "cell_type": "code",
   "execution_count": 8,
   "id": "bea7a677",
   "metadata": {
    "ExecuteTime": {
     "end_time": "2022-01-25T23:55:41.679527Z",
     "start_time": "2022-01-25T23:55:36.881603Z"
    }
   },
   "outputs": [
    {
     "name": "stdout",
     "output_type": "stream",
     "text": [
      "Digite um Inteiro: 5\n",
      "Digite um Real: 6.6\n",
      "O valor inteiro digitado foi 5 e o real 6.6\n"
     ]
    }
   ],
   "source": [
    "def leiaint( msg ):\n",
    "    while True:\n",
    "        try:\n",
    "            n = int( input( msg ))\n",
    "        except ( ValueError, TypeError ):\n",
    "            print( '\\033[31mErro: por favor, digite um número inteiro válido.\\033[m')\n",
    "            continue\n",
    "        except ( KeyboardInterrupt ):\n",
    "            print( '\\033[31mUsuário preferiu não digitar esse número.\\033[m' )\n",
    "            return 0\n",
    "        else:\n",
    "            return n\n",
    "\n",
    "def leiafloat( msg ):\n",
    "    while True:\n",
    "        try:\n",
    "            n = float( input( msg ))\n",
    "        except ( ValueError, TypeError ):\n",
    "            print( '\\033[31mERRO: por favor, digite um número real válido.\\033[m')\n",
    "            continue\n",
    "        except ( KeyboardInterrupt ):\n",
    "            print('\\033[31mUsuário preferiu não digitar esse número.\\033[m')\n",
    "            return 0\n",
    "        else:\n",
    "            return n\n",
    "\n",
    "\n",
    "n1 = leiaint( 'Digite um Inteiro: ')\n",
    "n2 = leiafloat( 'Digite um Real: ')\n",
    "print(f'O valor inteiro digitado foi { n1 } e o real { n2 }')\n"
   ]
  },
  {
   "cell_type": "markdown",
   "id": "5eb6909a",
   "metadata": {},
   "source": [
    "### Exercício 114\n",
    "* Crie um código em Python que teste se o site pudim está acessível pelo computador usado."
   ]
  },
  {
   "cell_type": "code",
   "execution_count": 7,
   "id": "9f88b34b",
   "metadata": {
    "ExecuteTime": {
     "end_time": "2022-01-25T23:55:33.328175Z",
     "start_time": "2022-01-25T23:55:33.088905Z"
    }
   },
   "outputs": [
    {
     "name": "stdout",
     "output_type": "stream",
     "text": [
      "Consegui acessar o site Pudim!\n",
      "b'<html>\\n<html xmlns=\"http://www.w3.org/1999/xhtml\">\\n<head>\\n    <title>Pudim</title>\\n    <link rel=\"stylesheet\" href=\"estilo.css\">\\n</head>\\n<body>\\n<div>\\n    <div class=\"container\">\\n        <div class=\"image\">\\n            <img src=\"pudim.jpg\" alt=\"\">\\n        </div>\\n        <div class=\"email\">\\n            <a href=\"mailto:pudim@pudim.com.br\">pudim@pudim.com.br</a>\\n        </div>\\n    </div>\\n</div>\\n<script>\\n    (function(i,s,o,g,r,a,m){i[\\'GoogleAnalyticsObject\\']=r;i[r]=i[r]||function(){\\n                (i[r].q=i[r].q||[]).push(arguments)},i[r].l=1*new Date();a=s.createElement(o),\\n            m=s.getElementsByTagName(o)[0];a.async=1;a.src=g;m.parentNode.insertBefore(a,m)\\n    })(window,document,\\'script\\',\\'//www.google-analytics.com/analytics.js\\',\\'ga\\');\\n\\n    ga(\\'create\\', \\'UA-28861757-1\\', \\'auto\\');\\n    ga(\\'send\\', \\'pageview\\');\\n\\n</script>\\n</body>\\n</html>\\n'\n"
     ]
    }
   ],
   "source": [
    "import urllib\n",
    "import urllib.request\n",
    "\n",
    "try:\n",
    "    site = urllib.request.urlopen( 'http://www.pudim.com.br' )\n",
    "except urllib.error.URLError:\n",
    "    print( 'O site pudim nao está acessível no momento.' )\n",
    "else:\n",
    "    print( 'Consegui acessar o site Pudim!')\n",
    "    print( site.read() )\n",
    "    "
   ]
  },
  {
   "cell_type": "markdown",
   "id": "a3fc4d8c",
   "metadata": {},
   "source": [
    "### Exercício 115\n",
    "* Projeto de acesso a arquivos em Python."
   ]
  },
  {
   "cell_type": "code",
   "execution_count": 1,
   "id": "7ba0cfe5",
   "metadata": {
    "ExecuteTime": {
     "end_time": "2022-01-26T21:22:45.334517Z",
     "start_time": "2022-01-26T21:22:00.050079Z"
    }
   },
   "outputs": [
    {
     "name": "stdout",
     "output_type": "stream",
     "text": [
      "Arquivo cursoemvideo.txt criado com sucesso!\n",
      "------------------------------------------\n",
      "              MENU PRINCIPAL              \n",
      "------------------------------------------\n",
      "\u001b[33m1\u001b[m - \u001b[34mVer pessoas cadastradas\u001b[m\n",
      "\u001b[33m2\u001b[m - \u001b[34mCadastrar nova Pessoa\u001b[m\n",
      "\u001b[33m3\u001b[m - \u001b[34mSair do Sistema\u001b[m\n",
      "------------------------------------------\n",
      "Sua Opção: 1\n",
      "------------------------------------------\n",
      "           PESSOAS CADASTRADAS            \n",
      "------------------------------------------\n",
      "------------------------------------------\n",
      "              MENU PRINCIPAL              \n",
      "------------------------------------------\n",
      "\u001b[33m1\u001b[m - \u001b[34mVer pessoas cadastradas\u001b[m\n",
      "\u001b[33m2\u001b[m - \u001b[34mCadastrar nova Pessoa\u001b[m\n",
      "\u001b[33m3\u001b[m - \u001b[34mSair do Sistema\u001b[m\n",
      "------------------------------------------\n",
      "Sua Opção: 2\n",
      "------------------------------------------\n",
      "              NOVO CADASTRO               \n",
      "------------------------------------------\n",
      "Nome: Pedro\n",
      "Idade: 22\n",
      "Novo registro de Pedro adicionado.\n",
      "------------------------------------------\n",
      "              MENU PRINCIPAL              \n",
      "------------------------------------------\n",
      "\u001b[33m1\u001b[m - \u001b[34mVer pessoas cadastradas\u001b[m\n",
      "\u001b[33m2\u001b[m - \u001b[34mCadastrar nova Pessoa\u001b[m\n",
      "\u001b[33m3\u001b[m - \u001b[34mSair do Sistema\u001b[m\n",
      "------------------------------------------\n",
      "Sua Opção: 2\n",
      "------------------------------------------\n",
      "              NOVO CADASTRO               \n",
      "------------------------------------------\n",
      "Nome: Bia\n",
      "Idade: 18\n",
      "Novo registro de Bia adicionado.\n",
      "------------------------------------------\n",
      "              MENU PRINCIPAL              \n",
      "------------------------------------------\n",
      "\u001b[33m1\u001b[m - \u001b[34mVer pessoas cadastradas\u001b[m\n",
      "\u001b[33m2\u001b[m - \u001b[34mCadastrar nova Pessoa\u001b[m\n",
      "\u001b[33m3\u001b[m - \u001b[34mSair do Sistema\u001b[m\n",
      "------------------------------------------\n",
      "Sua Opção: 2\n",
      "------------------------------------------\n",
      "              NOVO CADASTRO               \n",
      "------------------------------------------\n",
      "Nome: Cassiano\n",
      "Idade: 35\n",
      "Novo registro de Cassiano adicionado.\n",
      "------------------------------------------\n",
      "              MENU PRINCIPAL              \n",
      "------------------------------------------\n",
      "\u001b[33m1\u001b[m - \u001b[34mVer pessoas cadastradas\u001b[m\n",
      "\u001b[33m2\u001b[m - \u001b[34mCadastrar nova Pessoa\u001b[m\n",
      "\u001b[33m3\u001b[m - \u001b[34mSair do Sistema\u001b[m\n",
      "------------------------------------------\n",
      "Sua Opção: 3\n",
      "------------------------------------------\n",
      "      Saindo do Sistema...Até logo!       \n",
      "------------------------------------------\n"
     ]
    }
   ],
   "source": [
    "from lib.interface import *\n",
    "from lib.arquivo import *\n",
    "from time import sleep\n",
    "\n",
    "arq = 'cursoemvideo.txt'\n",
    "\n",
    "if not arquivoexiste( arq ):\n",
    "    criararquivo( arq )\n",
    "\n",
    "while True:\n",
    "    resposta = menu(['Ver pessoas cadastradas', 'Cadastrar nova Pessoa', 'Sair do Sistema'])\n",
    "    if resposta == 1:\n",
    "        # Opção de listar o conteúdo de um arquivo!\n",
    "        lerarquivo( arq )\n",
    "    elif resposta == 2:\n",
    "        # Opção de  cadastrar uma nova pessoa.\n",
    "        cabecalho( 'NOVO CADASTRO' )\n",
    "        nome = str( input( 'Nome: '))\n",
    "        idade = leiaint( 'Idade: ')\n",
    "        cadastrar( arq, nome, idade )\n",
    "    elif resposta == 3:\n",
    "        cabecalho( 'Saindo do Sistema...Até logo!')\n",
    "        break\n",
    "    else:\n",
    "        print( 'ERRO! Digite uma opção válida!' )\n",
    "    sleep(2)\n",
    "    "
   ]
  }
 ],
 "metadata": {
  "kernelspec": {
   "display_name": "Python 3 (ipykernel)",
   "language": "python",
   "name": "python3"
  },
  "language_info": {
   "codemirror_mode": {
    "name": "ipython",
    "version": 3
   },
   "file_extension": ".py",
   "mimetype": "text/x-python",
   "name": "python",
   "nbconvert_exporter": "python",
   "pygments_lexer": "ipython3",
   "version": "3.8.12"
  }
 },
 "nbformat": 4,
 "nbformat_minor": 5
}
